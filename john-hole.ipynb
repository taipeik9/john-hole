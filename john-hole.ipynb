{
 "cells": [
  {
   "cell_type": "code",
   "execution_count": 1,
   "metadata": {},
   "outputs": [],
   "source": [
    "from lxml import etree\n",
    "from bs4 import BeautifulSoup\n",
    "from parsel import Selector\n",
    "\n",
    "import pandas as pd\n",
    "import numpy as np\n",
    "\n",
    "import regex as re\n",
    "\n",
    "import plotly.io as pio\n",
    "import plotly.express as px\n",
    "import plotly.graph_objects as go\n",
    "pio.renderers.default = \"vscode\""
   ]
  },
  {
   "cell_type": "code",
   "execution_count": 2,
   "metadata": {},
   "outputs": [],
   "source": [
    "# with open('john-hole.html') as fp:\n",
    "#     soup = BeautifulSoup(fp, 'html.parser')\n",
    "with open('john-hole.html') as f:\n",
    "    html = f.read()\n"
   ]
  },
  {
   "cell_type": "code",
   "execution_count": 3,
   "metadata": {},
   "outputs": [],
   "source": [
    "html = html.replace('<b>', '')\n",
    "html = html.replace('</b>', '')\n",
    "html = html.replace('\\n', '')"
   ]
  },
  {
   "cell_type": "code",
   "execution_count": 4,
   "metadata": {},
   "outputs": [],
   "source": [
    "selector = Selector(html)"
   ]
  },
  {
   "cell_type": "code",
   "execution_count": 5,
   "metadata": {},
   "outputs": [],
   "source": [
    "# selector.xpath('//div/span[@class=\"bubble\"]/text()').getall()\n",
    "message_objs = {\n",
    "    'texts' : [],\n",
    "    'image' : [],\n",
    "    'video' : [],\n",
    "    'sender_number' : [],\n",
    "    'reactions' : []\n",
    "}\n",
    "dates = []\n",
    "for message in selector.xpath('//div[@class=\"message\"]'):\n",
    "    dates.append(re.sub(r'\\(.*\\)', '', message.xpath('./div/p/span[@class=\"timestamp\"]/text()').get()))\n",
    "    message_objs['sender_number'].append(message.xpath('./div/p/span[@class=\"sender\"]/text()').get())\n",
    "    message_objs['texts'].append(message.xpath('./div/div/span[@class=\"bubble\"]/text()').get())\n",
    "    message_objs['image'].append(message.xpath('.//div/div/div[@class=\"attachment\"]/img/@src').get())\n",
    "    message_objs['video'].append(message.xpath('.//div/div/div[@class=\"attachment\"]/video/source/@src').get())\n",
    "    reactions = message.xpath('./div/div[@class=\"tapbacks\"]').xpath('./div[@class=\"tapback\"]/span/text()').getall()\n",
    "    message_objs['reactions'].append([reaction.replace('\\t', '') for reaction in reactions])"
   ]
  },
  {
   "cell_type": "code",
   "execution_count": 6,
   "metadata": {},
   "outputs": [
    {
     "name": "stdout",
     "output_type": "stream",
     "text": [
      "texts: 15735\n",
      "image: 15735\n",
      "video: 15735\n",
      "sender_number: 15735\n",
      "reactions: 15735\n"
     ]
    }
   ],
   "source": [
    "for key in message_objs:\n",
    "    print(f\"{key}: {len(message_objs[key])}\")"
   ]
  },
  {
   "cell_type": "code",
   "execution_count": 7,
   "metadata": {},
   "outputs": [],
   "source": [
    "message_objs['dates'] = dates\n",
    "df = pd.DataFrame(message_objs)"
   ]
  },
  {
   "cell_type": "code",
   "execution_count": 8,
   "metadata": {},
   "outputs": [
    {
     "data": {
      "text/html": [
       "<div>\n",
       "<style scoped>\n",
       "    .dataframe tbody tr th:only-of-type {\n",
       "        vertical-align: middle;\n",
       "    }\n",
       "\n",
       "    .dataframe tbody tr th {\n",
       "        vertical-align: top;\n",
       "    }\n",
       "\n",
       "    .dataframe thead th {\n",
       "        text-align: right;\n",
       "    }\n",
       "</style>\n",
       "<table border=\"1\" class=\"dataframe\">\n",
       "  <thead>\n",
       "    <tr style=\"text-align: right;\">\n",
       "      <th></th>\n",
       "      <th>texts</th>\n",
       "      <th>image</th>\n",
       "      <th>video</th>\n",
       "      <th>sender_number</th>\n",
       "      <th>reactions</th>\n",
       "      <th>dates</th>\n",
       "    </tr>\n",
       "  </thead>\n",
       "  <tbody>\n",
       "    <tr>\n",
       "      <th>0</th>\n",
       "      <td>I can’t put down the mowater I can’t put down ...</td>\n",
       "      <td>None</td>\n",
       "      <td>None</td>\n",
       "      <td>+14169857677</td>\n",
       "      <td>[Laughed by +16133160960, Laughed by +16138044...</td>\n",
       "      <td>Jan 01, 2025 12:54:33 PM</td>\n",
       "    </tr>\n",
       "    <tr>\n",
       "      <th>1</th>\n",
       "      <td>None</td>\n",
       "      <td>attachments/302/48791.jpeg</td>\n",
       "      <td>None</td>\n",
       "      <td>+16138044084</td>\n",
       "      <td>[Laughed by +16138588921]</td>\n",
       "      <td>Jan 01, 2025  1:36:32 PM</td>\n",
       "    </tr>\n",
       "    <tr>\n",
       "      <th>2</th>\n",
       "      <td>Stop firing at Ukraine dawg</td>\n",
       "      <td>None</td>\n",
       "      <td>None</td>\n",
       "      <td>+16138588921</td>\n",
       "      <td>[Laughed by +16133160960, Laughed by +16138044...</td>\n",
       "      <td>Jan 01, 2025  1:37:49 PM</td>\n",
       "    </tr>\n",
       "    <tr>\n",
       "      <th>3</th>\n",
       "      <td>New jack pic that doesn’t look like jack dropped</td>\n",
       "      <td>None</td>\n",
       "      <td>None</td>\n",
       "      <td>+16138044084</td>\n",
       "      <td>[Laughed by +16133160960]</td>\n",
       "      <td>Jan 01, 2025  1:36:39 PM</td>\n",
       "    </tr>\n",
       "    <tr>\n",
       "      <th>4</th>\n",
       "      <td>Stop firing at Ukraine dawg</td>\n",
       "      <td>None</td>\n",
       "      <td>None</td>\n",
       "      <td>+16138588921</td>\n",
       "      <td>[Laughed by +16133160960, Laughed by +16138044...</td>\n",
       "      <td>Jan 01, 2025  1:37:49 PM</td>\n",
       "    </tr>\n",
       "    <tr>\n",
       "      <th>...</th>\n",
       "      <td>...</td>\n",
       "      <td>...</td>\n",
       "      <td>...</td>\n",
       "      <td>...</td>\n",
       "      <td>...</td>\n",
       "      <td>...</td>\n",
       "    </tr>\n",
       "    <tr>\n",
       "      <th>15730</th>\n",
       "      <td>Mane I was on reddit looking at peoples lists ...</td>\n",
       "      <td>None</td>\n",
       "      <td>None</td>\n",
       "      <td>+16138588921</td>\n",
       "      <td>[]</td>\n",
       "      <td>Feb 01, 2025 12:32:56 AM</td>\n",
       "    </tr>\n",
       "    <tr>\n",
       "      <th>15731</th>\n",
       "      <td>When jack johnson played Ottawa blues fest u g...</td>\n",
       "      <td>None</td>\n",
       "      <td>None</td>\n",
       "      <td>itsjaxonmusic@gmail.com</td>\n",
       "      <td>[]</td>\n",
       "      <td>Feb 01, 2025 12:37:55 AM</td>\n",
       "    </tr>\n",
       "    <tr>\n",
       "      <th>15732</th>\n",
       "      <td>Holy fuck LOL</td>\n",
       "      <td>None</td>\n",
       "      <td>None</td>\n",
       "      <td>+16138588921</td>\n",
       "      <td>[]</td>\n",
       "      <td>Feb 01, 2025 12:38:19 AM</td>\n",
       "    </tr>\n",
       "    <tr>\n",
       "      <th>15733</th>\n",
       "      <td>Lowkey heartbreaking</td>\n",
       "      <td>None</td>\n",
       "      <td>None</td>\n",
       "      <td>itsjaxonmusic@gmail.com</td>\n",
       "      <td>[]</td>\n",
       "      <td>Feb 01, 2025 12:42:40 AM</td>\n",
       "    </tr>\n",
       "    <tr>\n",
       "      <th>15734</th>\n",
       "      <td>Actually. Not lowkey</td>\n",
       "      <td>None</td>\n",
       "      <td>None</td>\n",
       "      <td>itsjaxonmusic@gmail.com</td>\n",
       "      <td>[]</td>\n",
       "      <td>Feb 01, 2025 12:43:04 AM</td>\n",
       "    </tr>\n",
       "  </tbody>\n",
       "</table>\n",
       "<p>15735 rows × 6 columns</p>\n",
       "</div>"
      ],
      "text/plain": [
       "                                                   texts  \\\n",
       "0      I can’t put down the mowater I can’t put down ...   \n",
       "1                                                   None   \n",
       "2                            Stop firing at Ukraine dawg   \n",
       "3       New jack pic that doesn’t look like jack dropped   \n",
       "4                            Stop firing at Ukraine dawg   \n",
       "...                                                  ...   \n",
       "15730  Mane I was on reddit looking at peoples lists ...   \n",
       "15731  When jack johnson played Ottawa blues fest u g...   \n",
       "15732                                      Holy fuck LOL   \n",
       "15733                              Lowkey heartbreaking    \n",
       "15734                              Actually. Not lowkey    \n",
       "\n",
       "                            image video            sender_number  \\\n",
       "0                            None  None             +14169857677   \n",
       "1      attachments/302/48791.jpeg  None             +16138044084   \n",
       "2                            None  None             +16138588921   \n",
       "3                            None  None             +16138044084   \n",
       "4                            None  None             +16138588921   \n",
       "...                           ...   ...                      ...   \n",
       "15730                        None  None             +16138588921   \n",
       "15731                        None  None  itsjaxonmusic@gmail.com   \n",
       "15732                        None  None             +16138588921   \n",
       "15733                        None  None  itsjaxonmusic@gmail.com   \n",
       "15734                        None  None  itsjaxonmusic@gmail.com   \n",
       "\n",
       "                                               reactions  \\\n",
       "0      [Laughed by +16133160960, Laughed by +16138044...   \n",
       "1                              [Laughed by +16138588921]   \n",
       "2      [Laughed by +16133160960, Laughed by +16138044...   \n",
       "3                              [Laughed by +16133160960]   \n",
       "4      [Laughed by +16133160960, Laughed by +16138044...   \n",
       "...                                                  ...   \n",
       "15730                                                 []   \n",
       "15731                                                 []   \n",
       "15732                                                 []   \n",
       "15733                                                 []   \n",
       "15734                                                 []   \n",
       "\n",
       "                           dates  \n",
       "0      Jan 01, 2025 12:54:33 PM   \n",
       "1      Jan 01, 2025  1:36:32 PM   \n",
       "2      Jan 01, 2025  1:37:49 PM   \n",
       "3      Jan 01, 2025  1:36:39 PM   \n",
       "4      Jan 01, 2025  1:37:49 PM   \n",
       "...                          ...  \n",
       "15730   Feb 01, 2025 12:32:56 AM  \n",
       "15731   Feb 01, 2025 12:37:55 AM  \n",
       "15732   Feb 01, 2025 12:38:19 AM  \n",
       "15733   Feb 01, 2025 12:42:40 AM  \n",
       "15734   Feb 01, 2025 12:43:04 AM  \n",
       "\n",
       "[15735 rows x 6 columns]"
      ]
     },
     "execution_count": 8,
     "metadata": {},
     "output_type": "execute_result"
    }
   ],
   "source": [
    "df"
   ]
  },
  {
   "cell_type": "code",
   "execution_count": 9,
   "metadata": {},
   "outputs": [],
   "source": [
    "# Dropping duplicates\n",
    "df = df.loc[df[['texts', 'sender_number', 'dates']].drop_duplicates().index]"
   ]
  },
  {
   "cell_type": "code",
   "execution_count": 10,
   "metadata": {},
   "outputs": [],
   "source": [
    "df.dates = df.dates.str.strip()"
   ]
  },
  {
   "cell_type": "code",
   "execution_count": 11,
   "metadata": {},
   "outputs": [],
   "source": [
    "df.set_index('dates', inplace=True)"
   ]
  },
  {
   "cell_type": "code",
   "execution_count": 12,
   "metadata": {},
   "outputs": [],
   "source": [
    "df.index = pd.to_datetime(df.index, format=\"%b %d, %Y %I:%M:%S %p\")"
   ]
  },
  {
   "cell_type": "code",
   "execution_count": 13,
   "metadata": {},
   "outputs": [
    {
     "data": {
      "text/html": [
       "<div>\n",
       "<style scoped>\n",
       "    .dataframe tbody tr th:only-of-type {\n",
       "        vertical-align: middle;\n",
       "    }\n",
       "\n",
       "    .dataframe tbody tr th {\n",
       "        vertical-align: top;\n",
       "    }\n",
       "\n",
       "    .dataframe thead th {\n",
       "        text-align: right;\n",
       "    }\n",
       "</style>\n",
       "<table border=\"1\" class=\"dataframe\">\n",
       "  <thead>\n",
       "    <tr style=\"text-align: right;\">\n",
       "      <th></th>\n",
       "      <th>texts</th>\n",
       "      <th>image</th>\n",
       "      <th>video</th>\n",
       "      <th>sender_number</th>\n",
       "      <th>reactions</th>\n",
       "    </tr>\n",
       "    <tr>\n",
       "      <th>dates</th>\n",
       "      <th></th>\n",
       "      <th></th>\n",
       "      <th></th>\n",
       "      <th></th>\n",
       "      <th></th>\n",
       "    </tr>\n",
       "  </thead>\n",
       "  <tbody>\n",
       "    <tr>\n",
       "      <th>2025-01-01 12:54:33</th>\n",
       "      <td>I can’t put down the mowater I can’t put down ...</td>\n",
       "      <td>None</td>\n",
       "      <td>None</td>\n",
       "      <td>+14169857677</td>\n",
       "      <td>[Laughed by +16133160960, Laughed by +16138044...</td>\n",
       "    </tr>\n",
       "    <tr>\n",
       "      <th>2025-01-01 13:36:32</th>\n",
       "      <td>None</td>\n",
       "      <td>attachments/302/48791.jpeg</td>\n",
       "      <td>None</td>\n",
       "      <td>+16138044084</td>\n",
       "      <td>[Laughed by +16138588921]</td>\n",
       "    </tr>\n",
       "    <tr>\n",
       "      <th>2025-01-01 13:37:49</th>\n",
       "      <td>Stop firing at Ukraine dawg</td>\n",
       "      <td>None</td>\n",
       "      <td>None</td>\n",
       "      <td>+16138588921</td>\n",
       "      <td>[Laughed by +16133160960, Laughed by +16138044...</td>\n",
       "    </tr>\n",
       "    <tr>\n",
       "      <th>2025-01-01 13:36:39</th>\n",
       "      <td>New jack pic that doesn’t look like jack dropped</td>\n",
       "      <td>None</td>\n",
       "      <td>None</td>\n",
       "      <td>+16138044084</td>\n",
       "      <td>[Laughed by +16133160960]</td>\n",
       "    </tr>\n",
       "    <tr>\n",
       "      <th>2025-01-01 13:38:49</th>\n",
       "      <td>LOOOOL</td>\n",
       "      <td>None</td>\n",
       "      <td>None</td>\n",
       "      <td>+16138044084</td>\n",
       "      <td>[]</td>\n",
       "    </tr>\n",
       "    <tr>\n",
       "      <th>...</th>\n",
       "      <td>...</td>\n",
       "      <td>...</td>\n",
       "      <td>...</td>\n",
       "      <td>...</td>\n",
       "      <td>...</td>\n",
       "    </tr>\n",
       "    <tr>\n",
       "      <th>2025-02-01 00:32:56</th>\n",
       "      <td>Mane I was on reddit looking at peoples lists ...</td>\n",
       "      <td>None</td>\n",
       "      <td>None</td>\n",
       "      <td>+16138588921</td>\n",
       "      <td>[]</td>\n",
       "    </tr>\n",
       "    <tr>\n",
       "      <th>2025-02-01 00:37:55</th>\n",
       "      <td>When jack johnson played Ottawa blues fest u g...</td>\n",
       "      <td>None</td>\n",
       "      <td>None</td>\n",
       "      <td>itsjaxonmusic@gmail.com</td>\n",
       "      <td>[]</td>\n",
       "    </tr>\n",
       "    <tr>\n",
       "      <th>2025-02-01 00:38:19</th>\n",
       "      <td>Holy fuck LOL</td>\n",
       "      <td>None</td>\n",
       "      <td>None</td>\n",
       "      <td>+16138588921</td>\n",
       "      <td>[]</td>\n",
       "    </tr>\n",
       "    <tr>\n",
       "      <th>2025-02-01 00:42:40</th>\n",
       "      <td>Lowkey heartbreaking</td>\n",
       "      <td>None</td>\n",
       "      <td>None</td>\n",
       "      <td>itsjaxonmusic@gmail.com</td>\n",
       "      <td>[]</td>\n",
       "    </tr>\n",
       "    <tr>\n",
       "      <th>2025-02-01 00:43:04</th>\n",
       "      <td>Actually. Not lowkey</td>\n",
       "      <td>None</td>\n",
       "      <td>None</td>\n",
       "      <td>itsjaxonmusic@gmail.com</td>\n",
       "      <td>[]</td>\n",
       "    </tr>\n",
       "  </tbody>\n",
       "</table>\n",
       "<p>13709 rows × 5 columns</p>\n",
       "</div>"
      ],
      "text/plain": [
       "                                                                 texts  \\\n",
       "dates                                                                    \n",
       "2025-01-01 12:54:33  I can’t put down the mowater I can’t put down ...   \n",
       "2025-01-01 13:36:32                                               None   \n",
       "2025-01-01 13:37:49                        Stop firing at Ukraine dawg   \n",
       "2025-01-01 13:36:39   New jack pic that doesn’t look like jack dropped   \n",
       "2025-01-01 13:38:49                                             LOOOOL   \n",
       "...                                                                ...   \n",
       "2025-02-01 00:32:56  Mane I was on reddit looking at peoples lists ...   \n",
       "2025-02-01 00:37:55  When jack johnson played Ottawa blues fest u g...   \n",
       "2025-02-01 00:38:19                                      Holy fuck LOL   \n",
       "2025-02-01 00:42:40                              Lowkey heartbreaking    \n",
       "2025-02-01 00:43:04                              Actually. Not lowkey    \n",
       "\n",
       "                                          image video  \\\n",
       "dates                                                   \n",
       "2025-01-01 12:54:33                        None  None   \n",
       "2025-01-01 13:36:32  attachments/302/48791.jpeg  None   \n",
       "2025-01-01 13:37:49                        None  None   \n",
       "2025-01-01 13:36:39                        None  None   \n",
       "2025-01-01 13:38:49                        None  None   \n",
       "...                                         ...   ...   \n",
       "2025-02-01 00:32:56                        None  None   \n",
       "2025-02-01 00:37:55                        None  None   \n",
       "2025-02-01 00:38:19                        None  None   \n",
       "2025-02-01 00:42:40                        None  None   \n",
       "2025-02-01 00:43:04                        None  None   \n",
       "\n",
       "                               sender_number  \\\n",
       "dates                                          \n",
       "2025-01-01 12:54:33             +14169857677   \n",
       "2025-01-01 13:36:32             +16138044084   \n",
       "2025-01-01 13:37:49             +16138588921   \n",
       "2025-01-01 13:36:39             +16138044084   \n",
       "2025-01-01 13:38:49             +16138044084   \n",
       "...                                      ...   \n",
       "2025-02-01 00:32:56             +16138588921   \n",
       "2025-02-01 00:37:55  itsjaxonmusic@gmail.com   \n",
       "2025-02-01 00:38:19             +16138588921   \n",
       "2025-02-01 00:42:40  itsjaxonmusic@gmail.com   \n",
       "2025-02-01 00:43:04  itsjaxonmusic@gmail.com   \n",
       "\n",
       "                                                             reactions  \n",
       "dates                                                                   \n",
       "2025-01-01 12:54:33  [Laughed by +16133160960, Laughed by +16138044...  \n",
       "2025-01-01 13:36:32                          [Laughed by +16138588921]  \n",
       "2025-01-01 13:37:49  [Laughed by +16133160960, Laughed by +16138044...  \n",
       "2025-01-01 13:36:39                          [Laughed by +16133160960]  \n",
       "2025-01-01 13:38:49                                                 []  \n",
       "...                                                                ...  \n",
       "2025-02-01 00:32:56                                                 []  \n",
       "2025-02-01 00:37:55                                                 []  \n",
       "2025-02-01 00:38:19                                                 []  \n",
       "2025-02-01 00:42:40                                                 []  \n",
       "2025-02-01 00:43:04                                                 []  \n",
       "\n",
       "[13709 rows x 5 columns]"
      ]
     },
     "execution_count": 13,
     "metadata": {},
     "output_type": "execute_result"
    }
   ],
   "source": [
    "df"
   ]
  },
  {
   "cell_type": "code",
   "execution_count": 14,
   "metadata": {},
   "outputs": [
    {
     "data": {
      "text/plain": [
       "array(['+14169857677', '+16138044084', '+16138588921', '+16133160960',\n",
       "       'hashtagyoloswagbeef@gmail.com', '+15198782573', 'Me',\n",
       "       '+16472994537', '+14372341484', '+19024973878',\n",
       "       'gregorynip@icloud.com', '+12368865666', '+16136202840',\n",
       "       '+14168368964', '+14168347529', '+16048685587', '+16476226650',\n",
       "       '+12899330628', '+14167995612', '+16474591137',\n",
       "       'josh.maycock@yahoo.com', '+13432045724',\n",
       "       'melaniesmyth13@gmail.com', '+16134004076', '+16138093940',\n",
       "       '+16475754548', '+14163054266', '+16133559273', '+16477019241',\n",
       "       'stephazel108@gmail.com', '+16135581208', '+16479917601',\n",
       "       'itsjaxonmusic@gmail.com', '+16475394413', '+16139797154',\n",
       "       'edenkettleson@gmail.com', '+15197192478',\n",
       "       'ernestormz99@gmail.com', 'ryanmatson18@gmail.com', '+18103048098',\n",
       "       '+16138594804', '+16137628867'], dtype=object)"
      ]
     },
     "execution_count": 14,
     "metadata": {},
     "output_type": "execute_result"
    }
   ],
   "source": [
    "df.sender_number.unique()"
   ]
  },
  {
   "cell_type": "code",
   "execution_count": 15,
   "metadata": {},
   "outputs": [],
   "source": [
    "senders = {\n",
    "    '+16138044084' : 'Ryan',\n",
    "    'ryan.matson@icloud.com' : 'Ryan',\n",
    "    '+16472994537' : 'Greg',\n",
    "    '+16476226650' : 'Ali',\n",
    "    '+15198782573' : 'John',\n",
    "    '+14168347529' : 'Tommy',\n",
    "    '+14383514096' : 'Jake',\n",
    "    '+16138588921' : 'Ben',\n",
    "    'ben_maycock@yahoo.com' : 'Ben',\n",
    "    '+16048685587' : 'Michaela',\n",
    "    '+19024973878' : 'Ryan 2',\n",
    "    'ryan.keays@gmail.com' : 'Ryan 2',\n",
    "    'darcydrums@yahoo.ca' : 'Darcy',\n",
    "    '+447918720754' : 'Darcy',\n",
    "    '+16136202840' : 'Darcy',\n",
    "    'Me' : 'Henry',\n",
    "    '+16474679692' : 'Pias',\n",
    "    '+16133160960' : 'Jack',\n",
    "    'itsjaxonmusic@gmail.com' : 'Jack',\n",
    "    '+436764425651' : 'Miklos',\n",
    "    '+14167055056' : 'Ernesto',\n",
    "    '+14168368964' : 'Rayhan',\n",
    "    '+12263763043' : 'Maggie',\n",
    "    '+14169857677' : 'Riley',\n",
    "    '+14372341484' : 'M****',\n",
    "    '+14372555533' : 'Colin',\n",
    "    'ernestormz99@gmail.com' : 'Ernesto',\n",
    "    '+16133559273' : 'Igor',\n",
    "    '+16475754548' : 'Nicole',\n",
    "    '+16137628867' : 'Mel',\n",
    "    'gregorynip@icloud.com' : 'Greg', \n",
    "    'edenkettleson@gmail.com' : 'Eden',\n",
    "    '+12368865666' : 'Eden',\n",
    "    '+16474591137' : 'Krystiana',\n",
    "    '+14163054266' : 'Austin',\n",
    "    'ryanmatson18@gmail.com' : 'Ryan',\n",
    "    '+16134004076' : 'Nick'\n",
    "}"
   ]
  },
  {
   "cell_type": "code",
   "execution_count": 16,
   "metadata": {},
   "outputs": [],
   "source": [
    "df['reactions_recieved'] = df['reactions'].apply(lambda x : len(x))"
   ]
  },
  {
   "cell_type": "code",
   "execution_count": 17,
   "metadata": {},
   "outputs": [
    {
     "data": {
      "text/plain": [
       "dates\n",
       "2025-01-01 12:54:33    2\n",
       "2025-01-01 13:36:32    1\n",
       "2025-01-01 13:37:49    3\n",
       "2025-01-01 13:36:39    1\n",
       "2025-01-01 13:38:49    0\n",
       "                      ..\n",
       "2025-02-01 00:32:56    0\n",
       "2025-02-01 00:37:55    0\n",
       "2025-02-01 00:38:19    0\n",
       "2025-02-01 00:42:40    0\n",
       "2025-02-01 00:43:04    0\n",
       "Name: reactions_recieved, Length: 13709, dtype: int64"
      ]
     },
     "execution_count": 17,
     "metadata": {},
     "output_type": "execute_result"
    }
   ],
   "source": [
    "df['reactions_recieved']"
   ]
  },
  {
   "cell_type": "code",
   "execution_count": 18,
   "metadata": {},
   "outputs": [],
   "source": [
    "df['sender'] = df['sender_number'].replace(senders)"
   ]
  },
  {
   "cell_type": "code",
   "execution_count": 19,
   "metadata": {},
   "outputs": [],
   "source": [
    "text_count = df.groupby('sender').count().sort_values(by='texts', ascending=False)"
   ]
  },
  {
   "cell_type": "code",
   "execution_count": 20,
   "metadata": {},
   "outputs": [],
   "source": [
    "text_count['reactions_recieved'] = df.groupby('sender').sum()['reactions_recieved']"
   ]
  },
  {
   "cell_type": "code",
   "execution_count": 21,
   "metadata": {},
   "outputs": [],
   "source": [
    "text_count['messages'] = text_count['texts'] + text_count['image']\n",
    "text_count = text_count.sort_values(by='messages', ascending=False)"
   ]
  },
  {
   "cell_type": "code",
   "execution_count": 22,
   "metadata": {},
   "outputs": [],
   "source": [
    "# Tommy reacted but did not send any messages\n",
    "\n",
    "# tommy_dict = [{col: 0 for col in text_count.columns}]\n",
    "# tommy_dict[0]['sender'] = 'Tommy'\n",
    "# tommy_df = pd.DataFrame(tommy_dict)\n",
    "# tommy_df = tommy_df.set_index('sender')\n",
    "# text_count = pd.concat([text_count, tommy_df])"
   ]
  },
  {
   "cell_type": "code",
   "execution_count": 23,
   "metadata": {},
   "outputs": [
    {
     "data": {
      "text/html": [
       "<div>\n",
       "<style scoped>\n",
       "    .dataframe tbody tr th:only-of-type {\n",
       "        vertical-align: middle;\n",
       "    }\n",
       "\n",
       "    .dataframe tbody tr th {\n",
       "        vertical-align: top;\n",
       "    }\n",
       "\n",
       "    .dataframe thead th {\n",
       "        text-align: right;\n",
       "    }\n",
       "</style>\n",
       "<table border=\"1\" class=\"dataframe\">\n",
       "  <thead>\n",
       "    <tr style=\"text-align: right;\">\n",
       "      <th></th>\n",
       "      <th>texts</th>\n",
       "      <th>image</th>\n",
       "      <th>messages</th>\n",
       "    </tr>\n",
       "    <tr>\n",
       "      <th>sender</th>\n",
       "      <th></th>\n",
       "      <th></th>\n",
       "      <th></th>\n",
       "    </tr>\n",
       "  </thead>\n",
       "  <tbody>\n",
       "    <tr>\n",
       "      <th>Ryan</th>\n",
       "      <td>1477</td>\n",
       "      <td>271</td>\n",
       "      <td>1748</td>\n",
       "    </tr>\n",
       "    <tr>\n",
       "      <th>Austin</th>\n",
       "      <td>1605</td>\n",
       "      <td>140</td>\n",
       "      <td>1745</td>\n",
       "    </tr>\n",
       "    <tr>\n",
       "      <th>Krystiana</th>\n",
       "      <td>1546</td>\n",
       "      <td>125</td>\n",
       "      <td>1671</td>\n",
       "    </tr>\n",
       "    <tr>\n",
       "      <th>Ben</th>\n",
       "      <td>1246</td>\n",
       "      <td>62</td>\n",
       "      <td>1308</td>\n",
       "    </tr>\n",
       "    <tr>\n",
       "      <th>Igor</th>\n",
       "      <td>1178</td>\n",
       "      <td>104</td>\n",
       "      <td>1282</td>\n",
       "    </tr>\n",
       "    <tr>\n",
       "      <th>Riley</th>\n",
       "      <td>1038</td>\n",
       "      <td>143</td>\n",
       "      <td>1181</td>\n",
       "    </tr>\n",
       "    <tr>\n",
       "      <th>John</th>\n",
       "      <td>652</td>\n",
       "      <td>384</td>\n",
       "      <td>1036</td>\n",
       "    </tr>\n",
       "    <tr>\n",
       "      <th>Nick</th>\n",
       "      <td>840</td>\n",
       "      <td>98</td>\n",
       "      <td>938</td>\n",
       "    </tr>\n",
       "    <tr>\n",
       "      <th>Jack</th>\n",
       "      <td>642</td>\n",
       "      <td>92</td>\n",
       "      <td>734</td>\n",
       "    </tr>\n",
       "    <tr>\n",
       "      <th>+14167995612</th>\n",
       "      <td>505</td>\n",
       "      <td>64</td>\n",
       "      <td>569</td>\n",
       "    </tr>\n",
       "    <tr>\n",
       "      <th>hashtagyoloswagbeef@gmail.com</th>\n",
       "      <td>253</td>\n",
       "      <td>16</td>\n",
       "      <td>269</td>\n",
       "    </tr>\n",
       "    <tr>\n",
       "      <th>Eden</th>\n",
       "      <td>180</td>\n",
       "      <td>15</td>\n",
       "      <td>195</td>\n",
       "    </tr>\n",
       "    <tr>\n",
       "      <th>Henry</th>\n",
       "      <td>147</td>\n",
       "      <td>28</td>\n",
       "      <td>175</td>\n",
       "    </tr>\n",
       "    <tr>\n",
       "      <th>melaniesmyth13@gmail.com</th>\n",
       "      <td>123</td>\n",
       "      <td>10</td>\n",
       "      <td>133</td>\n",
       "    </tr>\n",
       "    <tr>\n",
       "      <th>Greg</th>\n",
       "      <td>102</td>\n",
       "      <td>25</td>\n",
       "      <td>127</td>\n",
       "    </tr>\n",
       "    <tr>\n",
       "      <th>Darcy</th>\n",
       "      <td>81</td>\n",
       "      <td>8</td>\n",
       "      <td>89</td>\n",
       "    </tr>\n",
       "    <tr>\n",
       "      <th>+12899330628</th>\n",
       "      <td>55</td>\n",
       "      <td>2</td>\n",
       "      <td>57</td>\n",
       "    </tr>\n",
       "    <tr>\n",
       "      <th>Ernesto</th>\n",
       "      <td>42</td>\n",
       "      <td>13</td>\n",
       "      <td>55</td>\n",
       "    </tr>\n",
       "    <tr>\n",
       "      <th>Ali</th>\n",
       "      <td>34</td>\n",
       "      <td>10</td>\n",
       "      <td>44</td>\n",
       "    </tr>\n",
       "    <tr>\n",
       "      <th>josh.maycock@yahoo.com</th>\n",
       "      <td>36</td>\n",
       "      <td>5</td>\n",
       "      <td>41</td>\n",
       "    </tr>\n",
       "    <tr>\n",
       "      <th>Rayhan</th>\n",
       "      <td>26</td>\n",
       "      <td>1</td>\n",
       "      <td>27</td>\n",
       "    </tr>\n",
       "    <tr>\n",
       "      <th>+16475394413</th>\n",
       "      <td>22</td>\n",
       "      <td>1</td>\n",
       "      <td>23</td>\n",
       "    </tr>\n",
       "    <tr>\n",
       "      <th>Nicole</th>\n",
       "      <td>15</td>\n",
       "      <td>3</td>\n",
       "      <td>18</td>\n",
       "    </tr>\n",
       "    <tr>\n",
       "      <th>+18103048098</th>\n",
       "      <td>2</td>\n",
       "      <td>3</td>\n",
       "      <td>5</td>\n",
       "    </tr>\n",
       "    <tr>\n",
       "      <th>+16135581208</th>\n",
       "      <td>5</td>\n",
       "      <td>0</td>\n",
       "      <td>5</td>\n",
       "    </tr>\n",
       "    <tr>\n",
       "      <th>Ryan 2</th>\n",
       "      <td>4</td>\n",
       "      <td>0</td>\n",
       "      <td>4</td>\n",
       "    </tr>\n",
       "    <tr>\n",
       "      <th>+13432045724</th>\n",
       "      <td>3</td>\n",
       "      <td>1</td>\n",
       "      <td>4</td>\n",
       "    </tr>\n",
       "    <tr>\n",
       "      <th>+16479917601</th>\n",
       "      <td>3</td>\n",
       "      <td>1</td>\n",
       "      <td>4</td>\n",
       "    </tr>\n",
       "    <tr>\n",
       "      <th>Tommy</th>\n",
       "      <td>3</td>\n",
       "      <td>1</td>\n",
       "      <td>4</td>\n",
       "    </tr>\n",
       "    <tr>\n",
       "      <th>Mel</th>\n",
       "      <td>2</td>\n",
       "      <td>0</td>\n",
       "      <td>2</td>\n",
       "    </tr>\n",
       "    <tr>\n",
       "      <th>+16138594804</th>\n",
       "      <td>2</td>\n",
       "      <td>0</td>\n",
       "      <td>2</td>\n",
       "    </tr>\n",
       "    <tr>\n",
       "      <th>stephazel108@gmail.com</th>\n",
       "      <td>1</td>\n",
       "      <td>0</td>\n",
       "      <td>1</td>\n",
       "    </tr>\n",
       "    <tr>\n",
       "      <th>Michaela</th>\n",
       "      <td>1</td>\n",
       "      <td>0</td>\n",
       "      <td>1</td>\n",
       "    </tr>\n",
       "    <tr>\n",
       "      <th>M****</th>\n",
       "      <td>1</td>\n",
       "      <td>0</td>\n",
       "      <td>1</td>\n",
       "    </tr>\n",
       "    <tr>\n",
       "      <th>+16139797154</th>\n",
       "      <td>0</td>\n",
       "      <td>1</td>\n",
       "      <td>1</td>\n",
       "    </tr>\n",
       "    <tr>\n",
       "      <th>+16138093940</th>\n",
       "      <td>0</td>\n",
       "      <td>0</td>\n",
       "      <td>0</td>\n",
       "    </tr>\n",
       "    <tr>\n",
       "      <th>+16477019241</th>\n",
       "      <td>0</td>\n",
       "      <td>0</td>\n",
       "      <td>0</td>\n",
       "    </tr>\n",
       "    <tr>\n",
       "      <th>+15197192478</th>\n",
       "      <td>0</td>\n",
       "      <td>0</td>\n",
       "      <td>0</td>\n",
       "    </tr>\n",
       "  </tbody>\n",
       "</table>\n",
       "</div>"
      ],
      "text/plain": [
       "                               texts  image  messages\n",
       "sender                                               \n",
       "Ryan                            1477    271      1748\n",
       "Austin                          1605    140      1745\n",
       "Krystiana                       1546    125      1671\n",
       "Ben                             1246     62      1308\n",
       "Igor                            1178    104      1282\n",
       "Riley                           1038    143      1181\n",
       "John                             652    384      1036\n",
       "Nick                             840     98       938\n",
       "Jack                             642     92       734\n",
       "+14167995612                     505     64       569\n",
       "hashtagyoloswagbeef@gmail.com    253     16       269\n",
       "Eden                             180     15       195\n",
       "Henry                            147     28       175\n",
       "melaniesmyth13@gmail.com         123     10       133\n",
       "Greg                             102     25       127\n",
       "Darcy                             81      8        89\n",
       "+12899330628                      55      2        57\n",
       "Ernesto                           42     13        55\n",
       "Ali                               34     10        44\n",
       "josh.maycock@yahoo.com            36      5        41\n",
       "Rayhan                            26      1        27\n",
       "+16475394413                      22      1        23\n",
       "Nicole                            15      3        18\n",
       "+18103048098                       2      3         5\n",
       "+16135581208                       5      0         5\n",
       "Ryan 2                             4      0         4\n",
       "+13432045724                       3      1         4\n",
       "+16479917601                       3      1         4\n",
       "Tommy                              3      1         4\n",
       "Mel                                2      0         2\n",
       "+16138594804                       2      0         2\n",
       "stephazel108@gmail.com             1      0         1\n",
       "Michaela                           1      0         1\n",
       "M****                              1      0         1\n",
       "+16139797154                       0      1         1\n",
       "+16138093940                       0      0         0\n",
       "+16477019241                       0      0         0\n",
       "+15197192478                       0      0         0"
      ]
     },
     "execution_count": 23,
     "metadata": {},
     "output_type": "execute_result"
    }
   ],
   "source": [
    "text_count[['texts', 'image', 'messages']]"
   ]
  },
  {
   "cell_type": "code",
   "execution_count": 24,
   "metadata": {},
   "outputs": [
    {
     "name": "stderr",
     "output_type": "stream",
     "text": [
      "/var/folders/zm/kglhp53x58752bpgh6114_f40000gn/T/ipykernel_59470/1290227952.py:2: FutureWarning:\n",
      "\n",
      "Downcasting object dtype arrays on .fillna, .ffill, .bfill is deprecated and will change in a future version. Call result.infer_objects(copy=False) instead. To opt-in to the future behavior, set `pd.set_option('future.no_silent_downcasting', True)`\n",
      "\n"
     ]
    }
   ],
   "source": [
    "text_count['reactions_sent'] = pd.Series()\n",
    "text_count['reactions_sent'] = text_count['reactions_sent'].fillna(0)"
   ]
  },
  {
   "cell_type": "code",
   "execution_count": 25,
   "metadata": {},
   "outputs": [
    {
     "name": "stderr",
     "output_type": "stream",
     "text": [
      "/var/folders/zm/kglhp53x58752bpgh6114_f40000gn/T/ipykernel_59470/2859609646.py:2: FutureWarning:\n",
      "\n",
      "Downcasting object dtype arrays on .fillna, .ffill, .bfill is deprecated and will change in a future version. Call result.infer_objects(copy=False) instead. To opt-in to the future behavior, set `pd.set_option('future.no_silent_downcasting', True)`\n",
      "\n"
     ]
    }
   ],
   "source": [
    "text_count['hahas_sent'] = pd.Series()\n",
    "text_count['hahas_sent'] = text_count['hahas_sent'].fillna(0)"
   ]
  },
  {
   "cell_type": "code",
   "execution_count": 26,
   "metadata": {},
   "outputs": [],
   "source": [
    "def reactions_sent(x):\n",
    "  for reaction in x:\n",
    "    for sender in df.sender_number.unique():\n",
    "      if sender in reaction:\n",
    "        try:\n",
    "          text_count.loc[senders.get(sender, sender), 'reactions_sent'] += 1\n",
    "        except KeyError:\n",
    "          pass"
   ]
  },
  {
   "cell_type": "code",
   "execution_count": 27,
   "metadata": {},
   "outputs": [],
   "source": [
    "def hahas_sent(x):\n",
    "  for reaction in x:\n",
    "    for sender in df.sender_number.unique():\n",
    "      if (sender in reaction) and (\"Laughed\" in reaction):\n",
    "        try:\n",
    "          text_count.loc[senders.get(sender, sender), 'hahas_sent'] += 1\n",
    "        except KeyError:\n",
    "          pass"
   ]
  },
  {
   "cell_type": "code",
   "execution_count": 28,
   "metadata": {},
   "outputs": [
    {
     "data": {
      "text/plain": [
       "dates\n",
       "2025-01-01 12:54:33    None\n",
       "2025-01-01 13:36:32    None\n",
       "2025-01-01 13:37:49    None\n",
       "2025-01-01 13:36:39    None\n",
       "2025-01-01 13:38:49    None\n",
       "                       ... \n",
       "2025-02-01 00:32:56    None\n",
       "2025-02-01 00:37:55    None\n",
       "2025-02-01 00:38:19    None\n",
       "2025-02-01 00:42:40    None\n",
       "2025-02-01 00:43:04    None\n",
       "Name: reactions, Length: 13709, dtype: object"
      ]
     },
     "execution_count": 28,
     "metadata": {},
     "output_type": "execute_result"
    }
   ],
   "source": [
    "df['reactions'].apply(reactions_sent)\n",
    "df['reactions'].apply(hahas_sent)"
   ]
  },
  {
   "cell_type": "code",
   "execution_count": 29,
   "metadata": {},
   "outputs": [
    {
     "data": {
      "text/html": [
       "<div>\n",
       "<style scoped>\n",
       "    .dataframe tbody tr th:only-of-type {\n",
       "        vertical-align: middle;\n",
       "    }\n",
       "\n",
       "    .dataframe tbody tr th {\n",
       "        vertical-align: top;\n",
       "    }\n",
       "\n",
       "    .dataframe thead th {\n",
       "        text-align: right;\n",
       "    }\n",
       "</style>\n",
       "<table border=\"1\" class=\"dataframe\">\n",
       "  <thead>\n",
       "    <tr style=\"text-align: right;\">\n",
       "      <th></th>\n",
       "      <th>texts</th>\n",
       "      <th>image</th>\n",
       "      <th>reactions_recieved</th>\n",
       "      <th>reactions_sent</th>\n",
       "      <th>hahas_sent</th>\n",
       "      <th>messages</th>\n",
       "    </tr>\n",
       "    <tr>\n",
       "      <th>sender</th>\n",
       "      <th></th>\n",
       "      <th></th>\n",
       "      <th></th>\n",
       "      <th></th>\n",
       "      <th></th>\n",
       "      <th></th>\n",
       "    </tr>\n",
       "  </thead>\n",
       "  <tbody>\n",
       "    <tr>\n",
       "      <th>Ryan</th>\n",
       "      <td>1477</td>\n",
       "      <td>271</td>\n",
       "      <td>1059</td>\n",
       "      <td>594</td>\n",
       "      <td>478</td>\n",
       "      <td>1748</td>\n",
       "    </tr>\n",
       "    <tr>\n",
       "      <th>Austin</th>\n",
       "      <td>1605</td>\n",
       "      <td>140</td>\n",
       "      <td>550</td>\n",
       "      <td>662</td>\n",
       "      <td>364</td>\n",
       "      <td>1745</td>\n",
       "    </tr>\n",
       "    <tr>\n",
       "      <th>Krystiana</th>\n",
       "      <td>1546</td>\n",
       "      <td>125</td>\n",
       "      <td>326</td>\n",
       "      <td>277</td>\n",
       "      <td>203</td>\n",
       "      <td>1671</td>\n",
       "    </tr>\n",
       "    <tr>\n",
       "      <th>Ben</th>\n",
       "      <td>1246</td>\n",
       "      <td>62</td>\n",
       "      <td>595</td>\n",
       "      <td>659</td>\n",
       "      <td>536</td>\n",
       "      <td>1308</td>\n",
       "    </tr>\n",
       "    <tr>\n",
       "      <th>Igor</th>\n",
       "      <td>1178</td>\n",
       "      <td>104</td>\n",
       "      <td>629</td>\n",
       "      <td>380</td>\n",
       "      <td>293</td>\n",
       "      <td>1282</td>\n",
       "    </tr>\n",
       "    <tr>\n",
       "      <th>Riley</th>\n",
       "      <td>1038</td>\n",
       "      <td>143</td>\n",
       "      <td>452</td>\n",
       "      <td>773</td>\n",
       "      <td>662</td>\n",
       "      <td>1181</td>\n",
       "    </tr>\n",
       "    <tr>\n",
       "      <th>John</th>\n",
       "      <td>652</td>\n",
       "      <td>384</td>\n",
       "      <td>670</td>\n",
       "      <td>182</td>\n",
       "      <td>136</td>\n",
       "      <td>1036</td>\n",
       "    </tr>\n",
       "    <tr>\n",
       "      <th>Nick</th>\n",
       "      <td>840</td>\n",
       "      <td>98</td>\n",
       "      <td>410</td>\n",
       "      <td>756</td>\n",
       "      <td>610</td>\n",
       "      <td>938</td>\n",
       "    </tr>\n",
       "    <tr>\n",
       "      <th>Jack</th>\n",
       "      <td>642</td>\n",
       "      <td>92</td>\n",
       "      <td>431</td>\n",
       "      <td>746</td>\n",
       "      <td>663</td>\n",
       "      <td>734</td>\n",
       "    </tr>\n",
       "    <tr>\n",
       "      <th>+14167995612</th>\n",
       "      <td>505</td>\n",
       "      <td>64</td>\n",
       "      <td>182</td>\n",
       "      <td>361</td>\n",
       "      <td>192</td>\n",
       "      <td>569</td>\n",
       "    </tr>\n",
       "    <tr>\n",
       "      <th>hashtagyoloswagbeef@gmail.com</th>\n",
       "      <td>253</td>\n",
       "      <td>16</td>\n",
       "      <td>151</td>\n",
       "      <td>7</td>\n",
       "      <td>1</td>\n",
       "      <td>269</td>\n",
       "    </tr>\n",
       "    <tr>\n",
       "      <th>Eden</th>\n",
       "      <td>180</td>\n",
       "      <td>15</td>\n",
       "      <td>93</td>\n",
       "      <td>61</td>\n",
       "      <td>30</td>\n",
       "      <td>195</td>\n",
       "    </tr>\n",
       "    <tr>\n",
       "      <th>Henry</th>\n",
       "      <td>147</td>\n",
       "      <td>28</td>\n",
       "      <td>119</td>\n",
       "      <td>318</td>\n",
       "      <td>246</td>\n",
       "      <td>175</td>\n",
       "    </tr>\n",
       "    <tr>\n",
       "      <th>melaniesmyth13@gmail.com</th>\n",
       "      <td>123</td>\n",
       "      <td>10</td>\n",
       "      <td>82</td>\n",
       "      <td>48</td>\n",
       "      <td>30</td>\n",
       "      <td>133</td>\n",
       "    </tr>\n",
       "    <tr>\n",
       "      <th>Greg</th>\n",
       "      <td>102</td>\n",
       "      <td>25</td>\n",
       "      <td>113</td>\n",
       "      <td>41</td>\n",
       "      <td>17</td>\n",
       "      <td>127</td>\n",
       "    </tr>\n",
       "    <tr>\n",
       "      <th>Darcy</th>\n",
       "      <td>81</td>\n",
       "      <td>8</td>\n",
       "      <td>55</td>\n",
       "      <td>33</td>\n",
       "      <td>29</td>\n",
       "      <td>89</td>\n",
       "    </tr>\n",
       "    <tr>\n",
       "      <th>+12899330628</th>\n",
       "      <td>55</td>\n",
       "      <td>2</td>\n",
       "      <td>17</td>\n",
       "      <td>19</td>\n",
       "      <td>11</td>\n",
       "      <td>57</td>\n",
       "    </tr>\n",
       "    <tr>\n",
       "      <th>Ernesto</th>\n",
       "      <td>42</td>\n",
       "      <td>13</td>\n",
       "      <td>14</td>\n",
       "      <td>3</td>\n",
       "      <td>1</td>\n",
       "      <td>55</td>\n",
       "    </tr>\n",
       "    <tr>\n",
       "      <th>Ali</th>\n",
       "      <td>34</td>\n",
       "      <td>10</td>\n",
       "      <td>70</td>\n",
       "      <td>61</td>\n",
       "      <td>38</td>\n",
       "      <td>44</td>\n",
       "    </tr>\n",
       "    <tr>\n",
       "      <th>josh.maycock@yahoo.com</th>\n",
       "      <td>36</td>\n",
       "      <td>5</td>\n",
       "      <td>19</td>\n",
       "      <td>0</td>\n",
       "      <td>0</td>\n",
       "      <td>41</td>\n",
       "    </tr>\n",
       "    <tr>\n",
       "      <th>Rayhan</th>\n",
       "      <td>26</td>\n",
       "      <td>1</td>\n",
       "      <td>15</td>\n",
       "      <td>16</td>\n",
       "      <td>7</td>\n",
       "      <td>27</td>\n",
       "    </tr>\n",
       "    <tr>\n",
       "      <th>+16475394413</th>\n",
       "      <td>22</td>\n",
       "      <td>1</td>\n",
       "      <td>2</td>\n",
       "      <td>2</td>\n",
       "      <td>1</td>\n",
       "      <td>23</td>\n",
       "    </tr>\n",
       "    <tr>\n",
       "      <th>Nicole</th>\n",
       "      <td>15</td>\n",
       "      <td>3</td>\n",
       "      <td>2</td>\n",
       "      <td>41</td>\n",
       "      <td>22</td>\n",
       "      <td>18</td>\n",
       "    </tr>\n",
       "    <tr>\n",
       "      <th>+18103048098</th>\n",
       "      <td>2</td>\n",
       "      <td>3</td>\n",
       "      <td>2</td>\n",
       "      <td>1</td>\n",
       "      <td>1</td>\n",
       "      <td>5</td>\n",
       "    </tr>\n",
       "    <tr>\n",
       "      <th>+16135581208</th>\n",
       "      <td>5</td>\n",
       "      <td>0</td>\n",
       "      <td>6</td>\n",
       "      <td>9</td>\n",
       "      <td>7</td>\n",
       "      <td>5</td>\n",
       "    </tr>\n",
       "    <tr>\n",
       "      <th>Ryan 2</th>\n",
       "      <td>4</td>\n",
       "      <td>0</td>\n",
       "      <td>0</td>\n",
       "      <td>2</td>\n",
       "      <td>2</td>\n",
       "      <td>4</td>\n",
       "    </tr>\n",
       "    <tr>\n",
       "      <th>+13432045724</th>\n",
       "      <td>3</td>\n",
       "      <td>1</td>\n",
       "      <td>4</td>\n",
       "      <td>2</td>\n",
       "      <td>0</td>\n",
       "      <td>4</td>\n",
       "    </tr>\n",
       "    <tr>\n",
       "      <th>+16479917601</th>\n",
       "      <td>3</td>\n",
       "      <td>1</td>\n",
       "      <td>1</td>\n",
       "      <td>0</td>\n",
       "      <td>0</td>\n",
       "      <td>4</td>\n",
       "    </tr>\n",
       "    <tr>\n",
       "      <th>Tommy</th>\n",
       "      <td>3</td>\n",
       "      <td>1</td>\n",
       "      <td>4</td>\n",
       "      <td>1</td>\n",
       "      <td>0</td>\n",
       "      <td>4</td>\n",
       "    </tr>\n",
       "    <tr>\n",
       "      <th>Mel</th>\n",
       "      <td>2</td>\n",
       "      <td>0</td>\n",
       "      <td>0</td>\n",
       "      <td>1</td>\n",
       "      <td>0</td>\n",
       "      <td>2</td>\n",
       "    </tr>\n",
       "    <tr>\n",
       "      <th>+16138594804</th>\n",
       "      <td>2</td>\n",
       "      <td>0</td>\n",
       "      <td>0</td>\n",
       "      <td>0</td>\n",
       "      <td>0</td>\n",
       "      <td>2</td>\n",
       "    </tr>\n",
       "    <tr>\n",
       "      <th>stephazel108@gmail.com</th>\n",
       "      <td>1</td>\n",
       "      <td>0</td>\n",
       "      <td>1</td>\n",
       "      <td>8</td>\n",
       "      <td>3</td>\n",
       "      <td>1</td>\n",
       "    </tr>\n",
       "    <tr>\n",
       "      <th>Michaela</th>\n",
       "      <td>1</td>\n",
       "      <td>0</td>\n",
       "      <td>0</td>\n",
       "      <td>9</td>\n",
       "      <td>5</td>\n",
       "      <td>1</td>\n",
       "    </tr>\n",
       "    <tr>\n",
       "      <th>M****</th>\n",
       "      <td>1</td>\n",
       "      <td>0</td>\n",
       "      <td>1</td>\n",
       "      <td>1</td>\n",
       "      <td>0</td>\n",
       "      <td>1</td>\n",
       "    </tr>\n",
       "    <tr>\n",
       "      <th>+16139797154</th>\n",
       "      <td>0</td>\n",
       "      <td>1</td>\n",
       "      <td>0</td>\n",
       "      <td>0</td>\n",
       "      <td>0</td>\n",
       "      <td>1</td>\n",
       "    </tr>\n",
       "    <tr>\n",
       "      <th>+16138093940</th>\n",
       "      <td>0</td>\n",
       "      <td>0</td>\n",
       "      <td>0</td>\n",
       "      <td>0</td>\n",
       "      <td>0</td>\n",
       "      <td>0</td>\n",
       "    </tr>\n",
       "    <tr>\n",
       "      <th>+16477019241</th>\n",
       "      <td>0</td>\n",
       "      <td>0</td>\n",
       "      <td>0</td>\n",
       "      <td>0</td>\n",
       "      <td>0</td>\n",
       "      <td>0</td>\n",
       "    </tr>\n",
       "    <tr>\n",
       "      <th>+15197192478</th>\n",
       "      <td>0</td>\n",
       "      <td>0</td>\n",
       "      <td>0</td>\n",
       "      <td>0</td>\n",
       "      <td>0</td>\n",
       "      <td>0</td>\n",
       "    </tr>\n",
       "  </tbody>\n",
       "</table>\n",
       "</div>"
      ],
      "text/plain": [
       "                               texts  image  reactions_recieved  \\\n",
       "sender                                                            \n",
       "Ryan                            1477    271                1059   \n",
       "Austin                          1605    140                 550   \n",
       "Krystiana                       1546    125                 326   \n",
       "Ben                             1246     62                 595   \n",
       "Igor                            1178    104                 629   \n",
       "Riley                           1038    143                 452   \n",
       "John                             652    384                 670   \n",
       "Nick                             840     98                 410   \n",
       "Jack                             642     92                 431   \n",
       "+14167995612                     505     64                 182   \n",
       "hashtagyoloswagbeef@gmail.com    253     16                 151   \n",
       "Eden                             180     15                  93   \n",
       "Henry                            147     28                 119   \n",
       "melaniesmyth13@gmail.com         123     10                  82   \n",
       "Greg                             102     25                 113   \n",
       "Darcy                             81      8                  55   \n",
       "+12899330628                      55      2                  17   \n",
       "Ernesto                           42     13                  14   \n",
       "Ali                               34     10                  70   \n",
       "josh.maycock@yahoo.com            36      5                  19   \n",
       "Rayhan                            26      1                  15   \n",
       "+16475394413                      22      1                   2   \n",
       "Nicole                            15      3                   2   \n",
       "+18103048098                       2      3                   2   \n",
       "+16135581208                       5      0                   6   \n",
       "Ryan 2                             4      0                   0   \n",
       "+13432045724                       3      1                   4   \n",
       "+16479917601                       3      1                   1   \n",
       "Tommy                              3      1                   4   \n",
       "Mel                                2      0                   0   \n",
       "+16138594804                       2      0                   0   \n",
       "stephazel108@gmail.com             1      0                   1   \n",
       "Michaela                           1      0                   0   \n",
       "M****                              1      0                   1   \n",
       "+16139797154                       0      1                   0   \n",
       "+16138093940                       0      0                   0   \n",
       "+16477019241                       0      0                   0   \n",
       "+15197192478                       0      0                   0   \n",
       "\n",
       "                               reactions_sent  hahas_sent  messages  \n",
       "sender                                                               \n",
       "Ryan                                      594         478      1748  \n",
       "Austin                                    662         364      1745  \n",
       "Krystiana                                 277         203      1671  \n",
       "Ben                                       659         536      1308  \n",
       "Igor                                      380         293      1282  \n",
       "Riley                                     773         662      1181  \n",
       "John                                      182         136      1036  \n",
       "Nick                                      756         610       938  \n",
       "Jack                                      746         663       734  \n",
       "+14167995612                              361         192       569  \n",
       "hashtagyoloswagbeef@gmail.com               7           1       269  \n",
       "Eden                                       61          30       195  \n",
       "Henry                                     318         246       175  \n",
       "melaniesmyth13@gmail.com                   48          30       133  \n",
       "Greg                                       41          17       127  \n",
       "Darcy                                      33          29        89  \n",
       "+12899330628                               19          11        57  \n",
       "Ernesto                                     3           1        55  \n",
       "Ali                                        61          38        44  \n",
       "josh.maycock@yahoo.com                      0           0        41  \n",
       "Rayhan                                     16           7        27  \n",
       "+16475394413                                2           1        23  \n",
       "Nicole                                     41          22        18  \n",
       "+18103048098                                1           1         5  \n",
       "+16135581208                                9           7         5  \n",
       "Ryan 2                                      2           2         4  \n",
       "+13432045724                                2           0         4  \n",
       "+16479917601                                0           0         4  \n",
       "Tommy                                       1           0         4  \n",
       "Mel                                         1           0         2  \n",
       "+16138594804                                0           0         2  \n",
       "stephazel108@gmail.com                      8           3         1  \n",
       "Michaela                                    9           5         1  \n",
       "M****                                       1           0         1  \n",
       "+16139797154                                0           0         1  \n",
       "+16138093940                                0           0         0  \n",
       "+16477019241                                0           0         0  \n",
       "+15197192478                                0           0         0  "
      ]
     },
     "execution_count": 29,
     "metadata": {},
     "output_type": "execute_result"
    }
   ],
   "source": [
    "text_count[['texts', 'image', 'reactions_recieved', 'reactions_sent', 'hahas_sent', 'messages']]"
   ]
  },
  {
   "cell_type": "code",
   "execution_count": 53,
   "metadata": {},
   "outputs": [],
   "source": [
    "# text_count.loc[text_count['messages'] > 5]['messages'].to_json('message-ranking.json')"
   ]
  },
  {
   "cell_type": "code",
   "execution_count": 51,
   "metadata": {},
   "outputs": [
    {
     "data": {
      "application/vnd.plotly.v1+json": {
       "config": {
        "plotlyServerURL": "https://plot.ly"
       },
       "data": [
        {
         "alignmentgroup": "True",
         "hovertemplate": "Message Type=messages<br>Sender=%{x}<br># of Messages=%{y}<extra></extra>",
         "legendgroup": "messages",
         "marker": {
          "color": "#636efa",
          "pattern": {
           "shape": ""
          }
         },
         "name": "messages",
         "offsetgroup": "messages",
         "orientation": "v",
         "showlegend": true,
         "textposition": "auto",
         "type": "bar",
         "x": [
          "Ryan",
          "Austin",
          "Krystiana",
          "Ben",
          "Igor",
          "Riley",
          "John",
          "Nick",
          "Jack",
          "+14167995612",
          "hashtagyoloswagbeef@gmail.com",
          "Eden",
          "Henry",
          "melaniesmyth13@gmail.com",
          "Greg",
          "Darcy",
          "+12899330628",
          "Ernesto",
          "Ali",
          "josh.maycock@yahoo.com",
          "Rayhan",
          "+16475394413",
          "Nicole"
         ],
         "xaxis": "x",
         "y": [
          1748,
          1745,
          1671,
          1308,
          1282,
          1181,
          1036,
          938,
          734,
          569,
          269,
          195,
          175,
          133,
          127,
          89,
          57,
          55,
          44,
          41,
          27,
          23,
          18
         ],
         "yaxis": "y"
        }
       ],
       "layout": {
        "barmode": "relative",
        "legend": {
         "title": {
          "text": "Message Type"
         },
         "tracegroupgap": 0
        },
        "margin": {
         "t": 60
        },
        "template": {
         "data": {
          "bar": [
           {
            "error_x": {
             "color": "#2a3f5f"
            },
            "error_y": {
             "color": "#2a3f5f"
            },
            "marker": {
             "line": {
              "color": "#E5ECF6",
              "width": 0.5
             },
             "pattern": {
              "fillmode": "overlay",
              "size": 10,
              "solidity": 0.2
             }
            },
            "type": "bar"
           }
          ],
          "barpolar": [
           {
            "marker": {
             "line": {
              "color": "#E5ECF6",
              "width": 0.5
             },
             "pattern": {
              "fillmode": "overlay",
              "size": 10,
              "solidity": 0.2
             }
            },
            "type": "barpolar"
           }
          ],
          "carpet": [
           {
            "aaxis": {
             "endlinecolor": "#2a3f5f",
             "gridcolor": "white",
             "linecolor": "white",
             "minorgridcolor": "white",
             "startlinecolor": "#2a3f5f"
            },
            "baxis": {
             "endlinecolor": "#2a3f5f",
             "gridcolor": "white",
             "linecolor": "white",
             "minorgridcolor": "white",
             "startlinecolor": "#2a3f5f"
            },
            "type": "carpet"
           }
          ],
          "choropleth": [
           {
            "colorbar": {
             "outlinewidth": 0,
             "ticks": ""
            },
            "type": "choropleth"
           }
          ],
          "contour": [
           {
            "colorbar": {
             "outlinewidth": 0,
             "ticks": ""
            },
            "colorscale": [
             [
              0,
              "#0d0887"
             ],
             [
              0.1111111111111111,
              "#46039f"
             ],
             [
              0.2222222222222222,
              "#7201a8"
             ],
             [
              0.3333333333333333,
              "#9c179e"
             ],
             [
              0.4444444444444444,
              "#bd3786"
             ],
             [
              0.5555555555555556,
              "#d8576b"
             ],
             [
              0.6666666666666666,
              "#ed7953"
             ],
             [
              0.7777777777777778,
              "#fb9f3a"
             ],
             [
              0.8888888888888888,
              "#fdca26"
             ],
             [
              1,
              "#f0f921"
             ]
            ],
            "type": "contour"
           }
          ],
          "contourcarpet": [
           {
            "colorbar": {
             "outlinewidth": 0,
             "ticks": ""
            },
            "type": "contourcarpet"
           }
          ],
          "heatmap": [
           {
            "colorbar": {
             "outlinewidth": 0,
             "ticks": ""
            },
            "colorscale": [
             [
              0,
              "#0d0887"
             ],
             [
              0.1111111111111111,
              "#46039f"
             ],
             [
              0.2222222222222222,
              "#7201a8"
             ],
             [
              0.3333333333333333,
              "#9c179e"
             ],
             [
              0.4444444444444444,
              "#bd3786"
             ],
             [
              0.5555555555555556,
              "#d8576b"
             ],
             [
              0.6666666666666666,
              "#ed7953"
             ],
             [
              0.7777777777777778,
              "#fb9f3a"
             ],
             [
              0.8888888888888888,
              "#fdca26"
             ],
             [
              1,
              "#f0f921"
             ]
            ],
            "type": "heatmap"
           }
          ],
          "heatmapgl": [
           {
            "colorbar": {
             "outlinewidth": 0,
             "ticks": ""
            },
            "colorscale": [
             [
              0,
              "#0d0887"
             ],
             [
              0.1111111111111111,
              "#46039f"
             ],
             [
              0.2222222222222222,
              "#7201a8"
             ],
             [
              0.3333333333333333,
              "#9c179e"
             ],
             [
              0.4444444444444444,
              "#bd3786"
             ],
             [
              0.5555555555555556,
              "#d8576b"
             ],
             [
              0.6666666666666666,
              "#ed7953"
             ],
             [
              0.7777777777777778,
              "#fb9f3a"
             ],
             [
              0.8888888888888888,
              "#fdca26"
             ],
             [
              1,
              "#f0f921"
             ]
            ],
            "type": "heatmapgl"
           }
          ],
          "histogram": [
           {
            "marker": {
             "pattern": {
              "fillmode": "overlay",
              "size": 10,
              "solidity": 0.2
             }
            },
            "type": "histogram"
           }
          ],
          "histogram2d": [
           {
            "colorbar": {
             "outlinewidth": 0,
             "ticks": ""
            },
            "colorscale": [
             [
              0,
              "#0d0887"
             ],
             [
              0.1111111111111111,
              "#46039f"
             ],
             [
              0.2222222222222222,
              "#7201a8"
             ],
             [
              0.3333333333333333,
              "#9c179e"
             ],
             [
              0.4444444444444444,
              "#bd3786"
             ],
             [
              0.5555555555555556,
              "#d8576b"
             ],
             [
              0.6666666666666666,
              "#ed7953"
             ],
             [
              0.7777777777777778,
              "#fb9f3a"
             ],
             [
              0.8888888888888888,
              "#fdca26"
             ],
             [
              1,
              "#f0f921"
             ]
            ],
            "type": "histogram2d"
           }
          ],
          "histogram2dcontour": [
           {
            "colorbar": {
             "outlinewidth": 0,
             "ticks": ""
            },
            "colorscale": [
             [
              0,
              "#0d0887"
             ],
             [
              0.1111111111111111,
              "#46039f"
             ],
             [
              0.2222222222222222,
              "#7201a8"
             ],
             [
              0.3333333333333333,
              "#9c179e"
             ],
             [
              0.4444444444444444,
              "#bd3786"
             ],
             [
              0.5555555555555556,
              "#d8576b"
             ],
             [
              0.6666666666666666,
              "#ed7953"
             ],
             [
              0.7777777777777778,
              "#fb9f3a"
             ],
             [
              0.8888888888888888,
              "#fdca26"
             ],
             [
              1,
              "#f0f921"
             ]
            ],
            "type": "histogram2dcontour"
           }
          ],
          "mesh3d": [
           {
            "colorbar": {
             "outlinewidth": 0,
             "ticks": ""
            },
            "type": "mesh3d"
           }
          ],
          "parcoords": [
           {
            "line": {
             "colorbar": {
              "outlinewidth": 0,
              "ticks": ""
             }
            },
            "type": "parcoords"
           }
          ],
          "pie": [
           {
            "automargin": true,
            "type": "pie"
           }
          ],
          "scatter": [
           {
            "fillpattern": {
             "fillmode": "overlay",
             "size": 10,
             "solidity": 0.2
            },
            "type": "scatter"
           }
          ],
          "scatter3d": [
           {
            "line": {
             "colorbar": {
              "outlinewidth": 0,
              "ticks": ""
             }
            },
            "marker": {
             "colorbar": {
              "outlinewidth": 0,
              "ticks": ""
             }
            },
            "type": "scatter3d"
           }
          ],
          "scattercarpet": [
           {
            "marker": {
             "colorbar": {
              "outlinewidth": 0,
              "ticks": ""
             }
            },
            "type": "scattercarpet"
           }
          ],
          "scattergeo": [
           {
            "marker": {
             "colorbar": {
              "outlinewidth": 0,
              "ticks": ""
             }
            },
            "type": "scattergeo"
           }
          ],
          "scattergl": [
           {
            "marker": {
             "colorbar": {
              "outlinewidth": 0,
              "ticks": ""
             }
            },
            "type": "scattergl"
           }
          ],
          "scattermapbox": [
           {
            "marker": {
             "colorbar": {
              "outlinewidth": 0,
              "ticks": ""
             }
            },
            "type": "scattermapbox"
           }
          ],
          "scatterpolar": [
           {
            "marker": {
             "colorbar": {
              "outlinewidth": 0,
              "ticks": ""
             }
            },
            "type": "scatterpolar"
           }
          ],
          "scatterpolargl": [
           {
            "marker": {
             "colorbar": {
              "outlinewidth": 0,
              "ticks": ""
             }
            },
            "type": "scatterpolargl"
           }
          ],
          "scatterternary": [
           {
            "marker": {
             "colorbar": {
              "outlinewidth": 0,
              "ticks": ""
             }
            },
            "type": "scatterternary"
           }
          ],
          "surface": [
           {
            "colorbar": {
             "outlinewidth": 0,
             "ticks": ""
            },
            "colorscale": [
             [
              0,
              "#0d0887"
             ],
             [
              0.1111111111111111,
              "#46039f"
             ],
             [
              0.2222222222222222,
              "#7201a8"
             ],
             [
              0.3333333333333333,
              "#9c179e"
             ],
             [
              0.4444444444444444,
              "#bd3786"
             ],
             [
              0.5555555555555556,
              "#d8576b"
             ],
             [
              0.6666666666666666,
              "#ed7953"
             ],
             [
              0.7777777777777778,
              "#fb9f3a"
             ],
             [
              0.8888888888888888,
              "#fdca26"
             ],
             [
              1,
              "#f0f921"
             ]
            ],
            "type": "surface"
           }
          ],
          "table": [
           {
            "cells": {
             "fill": {
              "color": "#EBF0F8"
             },
             "line": {
              "color": "white"
             }
            },
            "header": {
             "fill": {
              "color": "#C8D4E3"
             },
             "line": {
              "color": "white"
             }
            },
            "type": "table"
           }
          ]
         },
         "layout": {
          "annotationdefaults": {
           "arrowcolor": "#2a3f5f",
           "arrowhead": 0,
           "arrowwidth": 1
          },
          "autotypenumbers": "strict",
          "coloraxis": {
           "colorbar": {
            "outlinewidth": 0,
            "ticks": ""
           }
          },
          "colorscale": {
           "diverging": [
            [
             0,
             "#8e0152"
            ],
            [
             0.1,
             "#c51b7d"
            ],
            [
             0.2,
             "#de77ae"
            ],
            [
             0.3,
             "#f1b6da"
            ],
            [
             0.4,
             "#fde0ef"
            ],
            [
             0.5,
             "#f7f7f7"
            ],
            [
             0.6,
             "#e6f5d0"
            ],
            [
             0.7,
             "#b8e186"
            ],
            [
             0.8,
             "#7fbc41"
            ],
            [
             0.9,
             "#4d9221"
            ],
            [
             1,
             "#276419"
            ]
           ],
           "sequential": [
            [
             0,
             "#0d0887"
            ],
            [
             0.1111111111111111,
             "#46039f"
            ],
            [
             0.2222222222222222,
             "#7201a8"
            ],
            [
             0.3333333333333333,
             "#9c179e"
            ],
            [
             0.4444444444444444,
             "#bd3786"
            ],
            [
             0.5555555555555556,
             "#d8576b"
            ],
            [
             0.6666666666666666,
             "#ed7953"
            ],
            [
             0.7777777777777778,
             "#fb9f3a"
            ],
            [
             0.8888888888888888,
             "#fdca26"
            ],
            [
             1,
             "#f0f921"
            ]
           ],
           "sequentialminus": [
            [
             0,
             "#0d0887"
            ],
            [
             0.1111111111111111,
             "#46039f"
            ],
            [
             0.2222222222222222,
             "#7201a8"
            ],
            [
             0.3333333333333333,
             "#9c179e"
            ],
            [
             0.4444444444444444,
             "#bd3786"
            ],
            [
             0.5555555555555556,
             "#d8576b"
            ],
            [
             0.6666666666666666,
             "#ed7953"
            ],
            [
             0.7777777777777778,
             "#fb9f3a"
            ],
            [
             0.8888888888888888,
             "#fdca26"
            ],
            [
             1,
             "#f0f921"
            ]
           ]
          },
          "colorway": [
           "#636efa",
           "#EF553B",
           "#00cc96",
           "#ab63fa",
           "#FFA15A",
           "#19d3f3",
           "#FF6692",
           "#B6E880",
           "#FF97FF",
           "#FECB52"
          ],
          "font": {
           "color": "#2a3f5f"
          },
          "geo": {
           "bgcolor": "white",
           "lakecolor": "white",
           "landcolor": "#E5ECF6",
           "showlakes": true,
           "showland": true,
           "subunitcolor": "white"
          },
          "hoverlabel": {
           "align": "left"
          },
          "hovermode": "closest",
          "mapbox": {
           "style": "light"
          },
          "paper_bgcolor": "white",
          "plot_bgcolor": "#E5ECF6",
          "polar": {
           "angularaxis": {
            "gridcolor": "white",
            "linecolor": "white",
            "ticks": ""
           },
           "bgcolor": "#E5ECF6",
           "radialaxis": {
            "gridcolor": "white",
            "linecolor": "white",
            "ticks": ""
           }
          },
          "scene": {
           "xaxis": {
            "backgroundcolor": "#E5ECF6",
            "gridcolor": "white",
            "gridwidth": 2,
            "linecolor": "white",
            "showbackground": true,
            "ticks": "",
            "zerolinecolor": "white"
           },
           "yaxis": {
            "backgroundcolor": "#E5ECF6",
            "gridcolor": "white",
            "gridwidth": 2,
            "linecolor": "white",
            "showbackground": true,
            "ticks": "",
            "zerolinecolor": "white"
           },
           "zaxis": {
            "backgroundcolor": "#E5ECF6",
            "gridcolor": "white",
            "gridwidth": 2,
            "linecolor": "white",
            "showbackground": true,
            "ticks": "",
            "zerolinecolor": "white"
           }
          },
          "shapedefaults": {
           "line": {
            "color": "#2a3f5f"
           }
          },
          "ternary": {
           "aaxis": {
            "gridcolor": "white",
            "linecolor": "white",
            "ticks": ""
           },
           "baxis": {
            "gridcolor": "white",
            "linecolor": "white",
            "ticks": ""
           },
           "bgcolor": "#E5ECF6",
           "caxis": {
            "gridcolor": "white",
            "linecolor": "white",
            "ticks": ""
           }
          },
          "title": {
           "x": 0.05
          },
          "xaxis": {
           "automargin": true,
           "gridcolor": "white",
           "linecolor": "white",
           "ticks": "",
           "title": {
            "standoff": 15
           },
           "zerolinecolor": "white",
           "zerolinewidth": 2
          },
          "yaxis": {
           "automargin": true,
           "gridcolor": "white",
           "linecolor": "white",
           "ticks": "",
           "title": {
            "standoff": 15
           },
           "zerolinecolor": "white",
           "zerolinewidth": 2
          }
         }
        },
        "xaxis": {
         "anchor": "y",
         "domain": [
          0,
          1
         ],
         "title": {
          "text": "Sender"
         }
        },
        "yaxis": {
         "anchor": "x",
         "domain": [
          0,
          1
         ],
         "title": {
          "text": "# of Messages"
         }
        }
       }
      }
     },
     "metadata": {},
     "output_type": "display_data"
    }
   ],
   "source": [
    "px.bar(text_count.loc[text_count['messages'] > 5]['messages'], labels={'value' : '# of Messages', 'variable' : 'Message Type', 'sender' : 'Sender'})"
   ]
  },
  {
   "cell_type": "code",
   "execution_count": 58,
   "metadata": {},
   "outputs": [],
   "source": [
    "text_count.loc[text_count['messages'] > 5][['texts', 'image']].to_json('text-image-ranking.json')"
   ]
  },
  {
   "cell_type": "code",
   "execution_count": 55,
   "metadata": {},
   "outputs": [
    {
     "name": "stderr",
     "output_type": "stream",
     "text": [
      "/Users/henrybrown/opt/anaconda3/envs/data_analysis/lib/python3.9/site-packages/plotly/express/_core.py:1979: FutureWarning:\n",
      "\n",
      "When grouping with a length-1 list-like, you will need to pass a length-1 tuple to get_group in a future version of pandas. Pass `(name,)` instead of `name` to silence this warning.\n",
      "\n"
     ]
    },
    {
     "data": {
      "application/vnd.plotly.v1+json": {
       "config": {
        "plotlyServerURL": "https://plot.ly"
       },
       "data": [
        {
         "alignmentgroup": "True",
         "hovertemplate": "Message Type=texts<br>Sender=%{x}<br># of Messages=%{y}<extra></extra>",
         "legendgroup": "texts",
         "marker": {
          "color": "#636efa",
          "pattern": {
           "shape": ""
          }
         },
         "name": "texts",
         "offsetgroup": "texts",
         "orientation": "v",
         "showlegend": true,
         "textposition": "auto",
         "type": "bar",
         "x": [
          "Ryan",
          "Austin",
          "Krystiana",
          "Ben",
          "Igor",
          "Riley",
          "John",
          "Nick",
          "Jack",
          "+14167995612",
          "hashtagyoloswagbeef@gmail.com",
          "Eden",
          "Henry",
          "melaniesmyth13@gmail.com",
          "Greg",
          "Darcy",
          "+12899330628",
          "Ernesto",
          "Ali",
          "josh.maycock@yahoo.com",
          "Rayhan",
          "+16475394413",
          "Nicole"
         ],
         "xaxis": "x",
         "y": [
          1477,
          1605,
          1546,
          1246,
          1178,
          1038,
          652,
          840,
          642,
          505,
          253,
          180,
          147,
          123,
          102,
          81,
          55,
          42,
          34,
          36,
          26,
          22,
          15
         ],
         "yaxis": "y"
        },
        {
         "alignmentgroup": "True",
         "hovertemplate": "Message Type=image<br>Sender=%{x}<br># of Messages=%{y}<extra></extra>",
         "legendgroup": "image",
         "marker": {
          "color": "#EF553B",
          "pattern": {
           "shape": ""
          }
         },
         "name": "image",
         "offsetgroup": "image",
         "orientation": "v",
         "showlegend": true,
         "textposition": "auto",
         "type": "bar",
         "x": [
          "Ryan",
          "Austin",
          "Krystiana",
          "Ben",
          "Igor",
          "Riley",
          "John",
          "Nick",
          "Jack",
          "+14167995612",
          "hashtagyoloswagbeef@gmail.com",
          "Eden",
          "Henry",
          "melaniesmyth13@gmail.com",
          "Greg",
          "Darcy",
          "+12899330628",
          "Ernesto",
          "Ali",
          "josh.maycock@yahoo.com",
          "Rayhan",
          "+16475394413",
          "Nicole"
         ],
         "xaxis": "x",
         "y": [
          271,
          140,
          125,
          62,
          104,
          143,
          384,
          98,
          92,
          64,
          16,
          15,
          28,
          10,
          25,
          8,
          2,
          13,
          10,
          5,
          1,
          1,
          3
         ],
         "yaxis": "y"
        }
       ],
       "layout": {
        "barmode": "relative",
        "legend": {
         "title": {
          "text": "Message Type"
         },
         "tracegroupgap": 0
        },
        "template": {
         "data": {
          "bar": [
           {
            "error_x": {
             "color": "#2a3f5f"
            },
            "error_y": {
             "color": "#2a3f5f"
            },
            "marker": {
             "line": {
              "color": "#E5ECF6",
              "width": 0.5
             },
             "pattern": {
              "fillmode": "overlay",
              "size": 10,
              "solidity": 0.2
             }
            },
            "type": "bar"
           }
          ],
          "barpolar": [
           {
            "marker": {
             "line": {
              "color": "#E5ECF6",
              "width": 0.5
             },
             "pattern": {
              "fillmode": "overlay",
              "size": 10,
              "solidity": 0.2
             }
            },
            "type": "barpolar"
           }
          ],
          "carpet": [
           {
            "aaxis": {
             "endlinecolor": "#2a3f5f",
             "gridcolor": "white",
             "linecolor": "white",
             "minorgridcolor": "white",
             "startlinecolor": "#2a3f5f"
            },
            "baxis": {
             "endlinecolor": "#2a3f5f",
             "gridcolor": "white",
             "linecolor": "white",
             "minorgridcolor": "white",
             "startlinecolor": "#2a3f5f"
            },
            "type": "carpet"
           }
          ],
          "choropleth": [
           {
            "colorbar": {
             "outlinewidth": 0,
             "ticks": ""
            },
            "type": "choropleth"
           }
          ],
          "contour": [
           {
            "colorbar": {
             "outlinewidth": 0,
             "ticks": ""
            },
            "colorscale": [
             [
              0,
              "#0d0887"
             ],
             [
              0.1111111111111111,
              "#46039f"
             ],
             [
              0.2222222222222222,
              "#7201a8"
             ],
             [
              0.3333333333333333,
              "#9c179e"
             ],
             [
              0.4444444444444444,
              "#bd3786"
             ],
             [
              0.5555555555555556,
              "#d8576b"
             ],
             [
              0.6666666666666666,
              "#ed7953"
             ],
             [
              0.7777777777777778,
              "#fb9f3a"
             ],
             [
              0.8888888888888888,
              "#fdca26"
             ],
             [
              1,
              "#f0f921"
             ]
            ],
            "type": "contour"
           }
          ],
          "contourcarpet": [
           {
            "colorbar": {
             "outlinewidth": 0,
             "ticks": ""
            },
            "type": "contourcarpet"
           }
          ],
          "heatmap": [
           {
            "colorbar": {
             "outlinewidth": 0,
             "ticks": ""
            },
            "colorscale": [
             [
              0,
              "#0d0887"
             ],
             [
              0.1111111111111111,
              "#46039f"
             ],
             [
              0.2222222222222222,
              "#7201a8"
             ],
             [
              0.3333333333333333,
              "#9c179e"
             ],
             [
              0.4444444444444444,
              "#bd3786"
             ],
             [
              0.5555555555555556,
              "#d8576b"
             ],
             [
              0.6666666666666666,
              "#ed7953"
             ],
             [
              0.7777777777777778,
              "#fb9f3a"
             ],
             [
              0.8888888888888888,
              "#fdca26"
             ],
             [
              1,
              "#f0f921"
             ]
            ],
            "type": "heatmap"
           }
          ],
          "heatmapgl": [
           {
            "colorbar": {
             "outlinewidth": 0,
             "ticks": ""
            },
            "colorscale": [
             [
              0,
              "#0d0887"
             ],
             [
              0.1111111111111111,
              "#46039f"
             ],
             [
              0.2222222222222222,
              "#7201a8"
             ],
             [
              0.3333333333333333,
              "#9c179e"
             ],
             [
              0.4444444444444444,
              "#bd3786"
             ],
             [
              0.5555555555555556,
              "#d8576b"
             ],
             [
              0.6666666666666666,
              "#ed7953"
             ],
             [
              0.7777777777777778,
              "#fb9f3a"
             ],
             [
              0.8888888888888888,
              "#fdca26"
             ],
             [
              1,
              "#f0f921"
             ]
            ],
            "type": "heatmapgl"
           }
          ],
          "histogram": [
           {
            "marker": {
             "pattern": {
              "fillmode": "overlay",
              "size": 10,
              "solidity": 0.2
             }
            },
            "type": "histogram"
           }
          ],
          "histogram2d": [
           {
            "colorbar": {
             "outlinewidth": 0,
             "ticks": ""
            },
            "colorscale": [
             [
              0,
              "#0d0887"
             ],
             [
              0.1111111111111111,
              "#46039f"
             ],
             [
              0.2222222222222222,
              "#7201a8"
             ],
             [
              0.3333333333333333,
              "#9c179e"
             ],
             [
              0.4444444444444444,
              "#bd3786"
             ],
             [
              0.5555555555555556,
              "#d8576b"
             ],
             [
              0.6666666666666666,
              "#ed7953"
             ],
             [
              0.7777777777777778,
              "#fb9f3a"
             ],
             [
              0.8888888888888888,
              "#fdca26"
             ],
             [
              1,
              "#f0f921"
             ]
            ],
            "type": "histogram2d"
           }
          ],
          "histogram2dcontour": [
           {
            "colorbar": {
             "outlinewidth": 0,
             "ticks": ""
            },
            "colorscale": [
             [
              0,
              "#0d0887"
             ],
             [
              0.1111111111111111,
              "#46039f"
             ],
             [
              0.2222222222222222,
              "#7201a8"
             ],
             [
              0.3333333333333333,
              "#9c179e"
             ],
             [
              0.4444444444444444,
              "#bd3786"
             ],
             [
              0.5555555555555556,
              "#d8576b"
             ],
             [
              0.6666666666666666,
              "#ed7953"
             ],
             [
              0.7777777777777778,
              "#fb9f3a"
             ],
             [
              0.8888888888888888,
              "#fdca26"
             ],
             [
              1,
              "#f0f921"
             ]
            ],
            "type": "histogram2dcontour"
           }
          ],
          "mesh3d": [
           {
            "colorbar": {
             "outlinewidth": 0,
             "ticks": ""
            },
            "type": "mesh3d"
           }
          ],
          "parcoords": [
           {
            "line": {
             "colorbar": {
              "outlinewidth": 0,
              "ticks": ""
             }
            },
            "type": "parcoords"
           }
          ],
          "pie": [
           {
            "automargin": true,
            "type": "pie"
           }
          ],
          "scatter": [
           {
            "fillpattern": {
             "fillmode": "overlay",
             "size": 10,
             "solidity": 0.2
            },
            "type": "scatter"
           }
          ],
          "scatter3d": [
           {
            "line": {
             "colorbar": {
              "outlinewidth": 0,
              "ticks": ""
             }
            },
            "marker": {
             "colorbar": {
              "outlinewidth": 0,
              "ticks": ""
             }
            },
            "type": "scatter3d"
           }
          ],
          "scattercarpet": [
           {
            "marker": {
             "colorbar": {
              "outlinewidth": 0,
              "ticks": ""
             }
            },
            "type": "scattercarpet"
           }
          ],
          "scattergeo": [
           {
            "marker": {
             "colorbar": {
              "outlinewidth": 0,
              "ticks": ""
             }
            },
            "type": "scattergeo"
           }
          ],
          "scattergl": [
           {
            "marker": {
             "colorbar": {
              "outlinewidth": 0,
              "ticks": ""
             }
            },
            "type": "scattergl"
           }
          ],
          "scattermapbox": [
           {
            "marker": {
             "colorbar": {
              "outlinewidth": 0,
              "ticks": ""
             }
            },
            "type": "scattermapbox"
           }
          ],
          "scatterpolar": [
           {
            "marker": {
             "colorbar": {
              "outlinewidth": 0,
              "ticks": ""
             }
            },
            "type": "scatterpolar"
           }
          ],
          "scatterpolargl": [
           {
            "marker": {
             "colorbar": {
              "outlinewidth": 0,
              "ticks": ""
             }
            },
            "type": "scatterpolargl"
           }
          ],
          "scatterternary": [
           {
            "marker": {
             "colorbar": {
              "outlinewidth": 0,
              "ticks": ""
             }
            },
            "type": "scatterternary"
           }
          ],
          "surface": [
           {
            "colorbar": {
             "outlinewidth": 0,
             "ticks": ""
            },
            "colorscale": [
             [
              0,
              "#0d0887"
             ],
             [
              0.1111111111111111,
              "#46039f"
             ],
             [
              0.2222222222222222,
              "#7201a8"
             ],
             [
              0.3333333333333333,
              "#9c179e"
             ],
             [
              0.4444444444444444,
              "#bd3786"
             ],
             [
              0.5555555555555556,
              "#d8576b"
             ],
             [
              0.6666666666666666,
              "#ed7953"
             ],
             [
              0.7777777777777778,
              "#fb9f3a"
             ],
             [
              0.8888888888888888,
              "#fdca26"
             ],
             [
              1,
              "#f0f921"
             ]
            ],
            "type": "surface"
           }
          ],
          "table": [
           {
            "cells": {
             "fill": {
              "color": "#EBF0F8"
             },
             "line": {
              "color": "white"
             }
            },
            "header": {
             "fill": {
              "color": "#C8D4E3"
             },
             "line": {
              "color": "white"
             }
            },
            "type": "table"
           }
          ]
         },
         "layout": {
          "annotationdefaults": {
           "arrowcolor": "#2a3f5f",
           "arrowhead": 0,
           "arrowwidth": 1
          },
          "autotypenumbers": "strict",
          "coloraxis": {
           "colorbar": {
            "outlinewidth": 0,
            "ticks": ""
           }
          },
          "colorscale": {
           "diverging": [
            [
             0,
             "#8e0152"
            ],
            [
             0.1,
             "#c51b7d"
            ],
            [
             0.2,
             "#de77ae"
            ],
            [
             0.3,
             "#f1b6da"
            ],
            [
             0.4,
             "#fde0ef"
            ],
            [
             0.5,
             "#f7f7f7"
            ],
            [
             0.6,
             "#e6f5d0"
            ],
            [
             0.7,
             "#b8e186"
            ],
            [
             0.8,
             "#7fbc41"
            ],
            [
             0.9,
             "#4d9221"
            ],
            [
             1,
             "#276419"
            ]
           ],
           "sequential": [
            [
             0,
             "#0d0887"
            ],
            [
             0.1111111111111111,
             "#46039f"
            ],
            [
             0.2222222222222222,
             "#7201a8"
            ],
            [
             0.3333333333333333,
             "#9c179e"
            ],
            [
             0.4444444444444444,
             "#bd3786"
            ],
            [
             0.5555555555555556,
             "#d8576b"
            ],
            [
             0.6666666666666666,
             "#ed7953"
            ],
            [
             0.7777777777777778,
             "#fb9f3a"
            ],
            [
             0.8888888888888888,
             "#fdca26"
            ],
            [
             1,
             "#f0f921"
            ]
           ],
           "sequentialminus": [
            [
             0,
             "#0d0887"
            ],
            [
             0.1111111111111111,
             "#46039f"
            ],
            [
             0.2222222222222222,
             "#7201a8"
            ],
            [
             0.3333333333333333,
             "#9c179e"
            ],
            [
             0.4444444444444444,
             "#bd3786"
            ],
            [
             0.5555555555555556,
             "#d8576b"
            ],
            [
             0.6666666666666666,
             "#ed7953"
            ],
            [
             0.7777777777777778,
             "#fb9f3a"
            ],
            [
             0.8888888888888888,
             "#fdca26"
            ],
            [
             1,
             "#f0f921"
            ]
           ]
          },
          "colorway": [
           "#636efa",
           "#EF553B",
           "#00cc96",
           "#ab63fa",
           "#FFA15A",
           "#19d3f3",
           "#FF6692",
           "#B6E880",
           "#FF97FF",
           "#FECB52"
          ],
          "font": {
           "color": "#2a3f5f"
          },
          "geo": {
           "bgcolor": "white",
           "lakecolor": "white",
           "landcolor": "#E5ECF6",
           "showlakes": true,
           "showland": true,
           "subunitcolor": "white"
          },
          "hoverlabel": {
           "align": "left"
          },
          "hovermode": "closest",
          "mapbox": {
           "style": "light"
          },
          "paper_bgcolor": "white",
          "plot_bgcolor": "#E5ECF6",
          "polar": {
           "angularaxis": {
            "gridcolor": "white",
            "linecolor": "white",
            "ticks": ""
           },
           "bgcolor": "#E5ECF6",
           "radialaxis": {
            "gridcolor": "white",
            "linecolor": "white",
            "ticks": ""
           }
          },
          "scene": {
           "xaxis": {
            "backgroundcolor": "#E5ECF6",
            "gridcolor": "white",
            "gridwidth": 2,
            "linecolor": "white",
            "showbackground": true,
            "ticks": "",
            "zerolinecolor": "white"
           },
           "yaxis": {
            "backgroundcolor": "#E5ECF6",
            "gridcolor": "white",
            "gridwidth": 2,
            "linecolor": "white",
            "showbackground": true,
            "ticks": "",
            "zerolinecolor": "white"
           },
           "zaxis": {
            "backgroundcolor": "#E5ECF6",
            "gridcolor": "white",
            "gridwidth": 2,
            "linecolor": "white",
            "showbackground": true,
            "ticks": "",
            "zerolinecolor": "white"
           }
          },
          "shapedefaults": {
           "line": {
            "color": "#2a3f5f"
           }
          },
          "ternary": {
           "aaxis": {
            "gridcolor": "white",
            "linecolor": "white",
            "ticks": ""
           },
           "baxis": {
            "gridcolor": "white",
            "linecolor": "white",
            "ticks": ""
           },
           "bgcolor": "#E5ECF6",
           "caxis": {
            "gridcolor": "white",
            "linecolor": "white",
            "ticks": ""
           }
          },
          "title": {
           "x": 0.05
          },
          "xaxis": {
           "automargin": true,
           "gridcolor": "white",
           "linecolor": "white",
           "ticks": "",
           "title": {
            "standoff": 15
           },
           "zerolinecolor": "white",
           "zerolinewidth": 2
          },
          "yaxis": {
           "automargin": true,
           "gridcolor": "white",
           "linecolor": "white",
           "ticks": "",
           "title": {
            "standoff": 15
           },
           "zerolinecolor": "white",
           "zerolinewidth": 2
          }
         }
        },
        "title": {
         "text": "Messages Sent"
        },
        "xaxis": {
         "anchor": "y",
         "domain": [
          0,
          1
         ],
         "title": {
          "text": "Sender"
         }
        },
        "yaxis": {
         "anchor": "x",
         "domain": [
          0,
          1
         ],
         "title": {
          "text": "# of Messages"
         }
        }
       }
      }
     },
     "metadata": {},
     "output_type": "display_data"
    }
   ],
   "source": [
    "px.bar(text_count.loc[text_count['messages'] > 5][['texts', 'image']], labels={'value' : '# of Messages', 'variable' : 'Message Type', 'sender' : 'Sender'}, title=\"Messages Sent\")"
   ]
  },
  {
   "cell_type": "code",
   "execution_count": 32,
   "metadata": {},
   "outputs": [
    {
     "data": {
      "text/html": [
       "<div>\n",
       "<style scoped>\n",
       "    .dataframe tbody tr th:only-of-type {\n",
       "        vertical-align: middle;\n",
       "    }\n",
       "\n",
       "    .dataframe tbody tr th {\n",
       "        vertical-align: top;\n",
       "    }\n",
       "\n",
       "    .dataframe thead th {\n",
       "        text-align: right;\n",
       "    }\n",
       "</style>\n",
       "<table border=\"1\" class=\"dataframe\">\n",
       "  <thead>\n",
       "    <tr style=\"text-align: right;\">\n",
       "      <th></th>\n",
       "      <th>texts</th>\n",
       "      <th>image</th>\n",
       "      <th>video</th>\n",
       "      <th>sender_number</th>\n",
       "      <th>reactions</th>\n",
       "      <th>reactions_recieved</th>\n",
       "      <th>sender</th>\n",
       "    </tr>\n",
       "    <tr>\n",
       "      <th>dates</th>\n",
       "      <th></th>\n",
       "      <th></th>\n",
       "      <th></th>\n",
       "      <th></th>\n",
       "      <th></th>\n",
       "      <th></th>\n",
       "      <th></th>\n",
       "    </tr>\n",
       "  </thead>\n",
       "  <tbody>\n",
       "    <tr>\n",
       "      <th>2025-01-01 12:54:33</th>\n",
       "      <td>I can’t put down the mowater I can’t put down ...</td>\n",
       "      <td>None</td>\n",
       "      <td>None</td>\n",
       "      <td>+14169857677</td>\n",
       "      <td>[Laughed by +16133160960, Laughed by +16138044...</td>\n",
       "      <td>2</td>\n",
       "      <td>Riley</td>\n",
       "    </tr>\n",
       "    <tr>\n",
       "      <th>2025-01-01 13:36:32</th>\n",
       "      <td>None</td>\n",
       "      <td>attachments/302/48791.jpeg</td>\n",
       "      <td>None</td>\n",
       "      <td>+16138044084</td>\n",
       "      <td>[Laughed by +16138588921]</td>\n",
       "      <td>1</td>\n",
       "      <td>Ryan</td>\n",
       "    </tr>\n",
       "    <tr>\n",
       "      <th>2025-01-01 13:37:49</th>\n",
       "      <td>Stop firing at Ukraine dawg</td>\n",
       "      <td>None</td>\n",
       "      <td>None</td>\n",
       "      <td>+16138588921</td>\n",
       "      <td>[Laughed by +16133160960, Laughed by +16138044...</td>\n",
       "      <td>3</td>\n",
       "      <td>Ben</td>\n",
       "    </tr>\n",
       "    <tr>\n",
       "      <th>2025-01-01 13:36:39</th>\n",
       "      <td>New jack pic that doesn’t look like jack dropped</td>\n",
       "      <td>None</td>\n",
       "      <td>None</td>\n",
       "      <td>+16138044084</td>\n",
       "      <td>[Laughed by +16133160960]</td>\n",
       "      <td>1</td>\n",
       "      <td>Ryan</td>\n",
       "    </tr>\n",
       "    <tr>\n",
       "      <th>2025-01-01 13:38:49</th>\n",
       "      <td>LOOOOL</td>\n",
       "      <td>None</td>\n",
       "      <td>None</td>\n",
       "      <td>+16138044084</td>\n",
       "      <td>[]</td>\n",
       "      <td>0</td>\n",
       "      <td>Ryan</td>\n",
       "    </tr>\n",
       "    <tr>\n",
       "      <th>2025-01-01 13:39:33</th>\n",
       "      <td>None</td>\n",
       "      <td>None</td>\n",
       "      <td>attachments/302/48792.mov</td>\n",
       "      <td>+16138044084</td>\n",
       "      <td>[Laughed by +16133160960, Laughed by +14169857...</td>\n",
       "      <td>2</td>\n",
       "      <td>Ryan</td>\n",
       "    </tr>\n",
       "    <tr>\n",
       "      <th>2025-01-01 13:40:16</th>\n",
       "      <td>InMowaterJosh (Cabernet Sauvignon)Josh (Maycoc...</td>\n",
       "      <td>None</td>\n",
       "      <td>None</td>\n",
       "      <td>+16133160960</td>\n",
       "      <td>[Laughed by +16138044084, Laughed by +16138588...</td>\n",
       "      <td>3</td>\n",
       "      <td>Jack</td>\n",
       "    </tr>\n",
       "    <tr>\n",
       "      <th>2025-01-01 13:41:54</th>\n",
       "      <td>LOOOL</td>\n",
       "      <td>None</td>\n",
       "      <td>None</td>\n",
       "      <td>+16138588921</td>\n",
       "      <td>[]</td>\n",
       "      <td>0</td>\n",
       "      <td>Ben</td>\n",
       "    </tr>\n",
       "    <tr>\n",
       "      <th>2025-01-01 13:40:47</th>\n",
       "      <td>Dude Josh coming over to Evan’s house at</td>\n",
       "      <td>None</td>\n",
       "      <td>None</td>\n",
       "      <td>+16138044084</td>\n",
       "      <td>[Laughed by +16138588921, Laughed by +14169857...</td>\n",
       "      <td>2</td>\n",
       "      <td>Ryan</td>\n",
       "    </tr>\n",
       "    <tr>\n",
       "      <th>2025-01-01 13:40:50</th>\n",
       "      <td>And watch shawshank</td>\n",
       "      <td>None</td>\n",
       "      <td>None</td>\n",
       "      <td>+16138044084</td>\n",
       "      <td>[]</td>\n",
       "      <td>0</td>\n",
       "      <td>Ryan</td>\n",
       "    </tr>\n",
       "    <tr>\n",
       "      <th>2025-01-01 13:41:10</th>\n",
       "      <td>Most shocking thing I’ve ever heard in my life</td>\n",
       "      <td>None</td>\n",
       "      <td>None</td>\n",
       "      <td>+16133160960</td>\n",
       "      <td>[]</td>\n",
       "      <td>0</td>\n",
       "      <td>Jack</td>\n",
       "    </tr>\n",
       "    <tr>\n",
       "      <th>2025-01-01 13:41:14</th>\n",
       "      <td>Genuinely</td>\n",
       "      <td>None</td>\n",
       "      <td>None</td>\n",
       "      <td>+16133160960</td>\n",
       "      <td>[]</td>\n",
       "      <td>0</td>\n",
       "      <td>Jack</td>\n",
       "    </tr>\n",
       "    <tr>\n",
       "      <th>2025-01-01 13:41:41</th>\n",
       "      <td>￼</td>\n",
       "      <td>attachments/302/48798.jpeg</td>\n",
       "      <td>None</td>\n",
       "      <td>+16133160960</td>\n",
       "      <td>[Laughed by +14169857677, Laughed by +16138044...</td>\n",
       "      <td>3</td>\n",
       "      <td>Jack</td>\n",
       "    </tr>\n",
       "    <tr>\n",
       "      <th>2025-01-01 13:41:44</th>\n",
       "      <td>Ryan dropped his full beer and it landed perfe...</td>\n",
       "      <td>None</td>\n",
       "      <td>None</td>\n",
       "      <td>+16133160960</td>\n",
       "      <td>[Laughed by melaniesmyth13@gmail.com]</td>\n",
       "      <td>1</td>\n",
       "      <td>Jack</td>\n",
       "    </tr>\n",
       "    <tr>\n",
       "      <th>2025-01-01 13:42:13</th>\n",
       "      <td>Actually couldn’t believe this</td>\n",
       "      <td>None</td>\n",
       "      <td>None</td>\n",
       "      <td>+16138044084</td>\n",
       "      <td>[]</td>\n",
       "      <td>0</td>\n",
       "      <td>Ryan</td>\n",
       "    </tr>\n",
       "    <tr>\n",
       "      <th>2025-01-01 14:02:03</th>\n",
       "      <td>The sound it made too</td>\n",
       "      <td>None</td>\n",
       "      <td>None</td>\n",
       "      <td>hashtagyoloswagbeef@gmail.com</td>\n",
       "      <td>[Laughed by +16133160960]</td>\n",
       "      <td>1</td>\n",
       "      <td>hashtagyoloswagbeef@gmail.com</td>\n",
       "    </tr>\n",
       "    <tr>\n",
       "      <th>2025-01-01 14:02:28</th>\n",
       "      <td>Evan coming in from the new iPhone XR</td>\n",
       "      <td>None</td>\n",
       "      <td>None</td>\n",
       "      <td>+14169857677</td>\n",
       "      <td>[]</td>\n",
       "      <td>0</td>\n",
       "      <td>Riley</td>\n",
       "    </tr>\n",
       "    <tr>\n",
       "      <th>2025-01-01 14:03:02</th>\n",
       "      <td>Man you guys missed a crazy sleepover at the M...</td>\n",
       "      <td>None</td>\n",
       "      <td>None</td>\n",
       "      <td>hashtagyoloswagbeef@gmail.com</td>\n",
       "      <td>[Laughed by +14169857677, Laughed by +16133160...</td>\n",
       "      <td>2</td>\n",
       "      <td>hashtagyoloswagbeef@gmail.com</td>\n",
       "    </tr>\n",
       "    <tr>\n",
       "      <th>2025-01-01 14:04:04</th>\n",
       "      <td>Did josh put on tv static and tuck you in</td>\n",
       "      <td>None</td>\n",
       "      <td>None</td>\n",
       "      <td>+14169857677</td>\n",
       "      <td>[]</td>\n",
       "      <td>0</td>\n",
       "      <td>Riley</td>\n",
       "    </tr>\n",
       "    <tr>\n",
       "      <th>2025-01-01 14:04:18</th>\n",
       "      <td>Yea man I gave him his new years kiss</td>\n",
       "      <td>None</td>\n",
       "      <td>None</td>\n",
       "      <td>hashtagyoloswagbeef@gmail.com</td>\n",
       "      <td>[Laughed by +16133160960]</td>\n",
       "      <td>1</td>\n",
       "      <td>hashtagyoloswagbeef@gmail.com</td>\n",
       "    </tr>\n",
       "    <tr>\n",
       "      <th>2025-01-01 14:04:27</th>\n",
       "      <td>Anyone want to chill</td>\n",
       "      <td>None</td>\n",
       "      <td>None</td>\n",
       "      <td>+16138588921</td>\n",
       "      <td>[]</td>\n",
       "      <td>0</td>\n",
       "      <td>Ben</td>\n",
       "    </tr>\n",
       "    <tr>\n",
       "      <th>2025-01-01 14:12:40</th>\n",
       "      <td>Les Linklader</td>\n",
       "      <td>None</td>\n",
       "      <td>None</td>\n",
       "      <td>+16138044084</td>\n",
       "      <td>[Laughed by +14169857677, Laughed by +16138588...</td>\n",
       "      <td>2</td>\n",
       "      <td>Ryan</td>\n",
       "    </tr>\n",
       "    <tr>\n",
       "      <th>2025-01-01 14:04:30</th>\n",
       "      <td>LOLL</td>\n",
       "      <td>None</td>\n",
       "      <td>None</td>\n",
       "      <td>+14169857677</td>\n",
       "      <td>[]</td>\n",
       "      <td>0</td>\n",
       "      <td>Riley</td>\n",
       "    </tr>\n",
       "    <tr>\n",
       "      <th>2025-01-01 14:04:43</th>\n",
       "      <td>me and ryan will later</td>\n",
       "      <td>None</td>\n",
       "      <td>None</td>\n",
       "      <td>+14169857677</td>\n",
       "      <td>[]</td>\n",
       "      <td>0</td>\n",
       "      <td>Riley</td>\n",
       "    </tr>\n",
       "    <tr>\n",
       "      <th>2025-01-01 14:06:27</th>\n",
       "      <td>You guys getting active ?</td>\n",
       "      <td>None</td>\n",
       "      <td>None</td>\n",
       "      <td>hashtagyoloswagbeef@gmail.com</td>\n",
       "      <td>[]</td>\n",
       "      <td>0</td>\n",
       "      <td>hashtagyoloswagbeef@gmail.com</td>\n",
       "    </tr>\n",
       "    <tr>\n",
       "      <th>2025-01-01 14:06:43</th>\n",
       "      <td>Ben’s fiending to get active rn</td>\n",
       "      <td>None</td>\n",
       "      <td>None</td>\n",
       "      <td>+14169857677</td>\n",
       "      <td>[]</td>\n",
       "      <td>0</td>\n",
       "      <td>Riley</td>\n",
       "    </tr>\n",
       "    <tr>\n",
       "      <th>2025-01-01 14:07:30</th>\n",
       "      <td>Bruh I’m fucking depressed on New Year’s Day</td>\n",
       "      <td>None</td>\n",
       "      <td>None</td>\n",
       "      <td>+16138588921</td>\n",
       "      <td>[]</td>\n",
       "      <td>0</td>\n",
       "      <td>Ben</td>\n",
       "    </tr>\n",
       "    <tr>\n",
       "      <th>2025-01-01 14:07:59</th>\n",
       "      <td>I was but just jumped ryan for his water buffalo</td>\n",
       "      <td>None</td>\n",
       "      <td>None</td>\n",
       "      <td>+14169857677</td>\n",
       "      <td>[]</td>\n",
       "      <td>0</td>\n",
       "      <td>Riley</td>\n",
       "    </tr>\n",
       "    <tr>\n",
       "      <th>2025-01-01 14:08:37</th>\n",
       "      <td>Looool</td>\n",
       "      <td>None</td>\n",
       "      <td>None</td>\n",
       "      <td>hashtagyoloswagbeef@gmail.com</td>\n",
       "      <td>[]</td>\n",
       "      <td>0</td>\n",
       "      <td>hashtagyoloswagbeef@gmail.com</td>\n",
       "    </tr>\n",
       "    <tr>\n",
       "      <th>2025-01-01 14:09:50</th>\n",
       "      <td>None</td>\n",
       "      <td>attachments/302/48796.jpeg</td>\n",
       "      <td>None</td>\n",
       "      <td>+14169857677</td>\n",
       "      <td>[]</td>\n",
       "      <td>0</td>\n",
       "      <td>Riley</td>\n",
       "    </tr>\n",
       "    <tr>\n",
       "      <th>2025-01-01 14:11:03</th>\n",
       "      <td>You find the stick in Ryan’s basement</td>\n",
       "      <td>None</td>\n",
       "      <td>None</td>\n",
       "      <td>hashtagyoloswagbeef@gmail.com</td>\n",
       "      <td>[]</td>\n",
       "      <td>0</td>\n",
       "      <td>hashtagyoloswagbeef@gmail.com</td>\n",
       "    </tr>\n",
       "    <tr>\n",
       "      <th>2025-01-01 14:11:31</th>\n",
       "      <td>I was doing gaurd duty on the shower for 3 hou...</td>\n",
       "      <td>None</td>\n",
       "      <td>None</td>\n",
       "      <td>+14169857677</td>\n",
       "      <td>[]</td>\n",
       "      <td>0</td>\n",
       "      <td>Riley</td>\n",
       "    </tr>\n",
       "    <tr>\n",
       "      <th>2025-01-01 14:12:15</th>\n",
       "      <td>Gord</td>\n",
       "      <td>None</td>\n",
       "      <td>None</td>\n",
       "      <td>+16138044084</td>\n",
       "      <td>[]</td>\n",
       "      <td>0</td>\n",
       "      <td>Ryan</td>\n",
       "    </tr>\n",
       "    <tr>\n",
       "      <th>2025-01-01 14:13:02</th>\n",
       "      <td>You guys wanna help clean up</td>\n",
       "      <td>None</td>\n",
       "      <td>None</td>\n",
       "      <td>hashtagyoloswagbeef@gmail.com</td>\n",
       "      <td>[]</td>\n",
       "      <td>0</td>\n",
       "      <td>hashtagyoloswagbeef@gmail.com</td>\n",
       "    </tr>\n",
       "    <tr>\n",
       "      <th>2025-01-01 14:13:03</th>\n",
       "      <td>?</td>\n",
       "      <td>None</td>\n",
       "      <td>None</td>\n",
       "      <td>hashtagyoloswagbeef@gmail.com</td>\n",
       "      <td>[]</td>\n",
       "      <td>0</td>\n",
       "      <td>hashtagyoloswagbeef@gmail.com</td>\n",
       "    </tr>\n",
       "    <tr>\n",
       "      <th>2025-01-01 14:13:09</th>\n",
       "      <td>Sure</td>\n",
       "      <td>None</td>\n",
       "      <td>None</td>\n",
       "      <td>+16138588921</td>\n",
       "      <td>[]</td>\n",
       "      <td>0</td>\n",
       "      <td>Ben</td>\n",
       "    </tr>\n",
       "    <tr>\n",
       "      <th>2025-01-01 14:13:22</th>\n",
       "      <td>Actually I’m pretty much done but you guys can...</td>\n",
       "      <td>None</td>\n",
       "      <td>None</td>\n",
       "      <td>hashtagyoloswagbeef@gmail.com</td>\n",
       "      <td>[]</td>\n",
       "      <td>0</td>\n",
       "      <td>hashtagyoloswagbeef@gmail.com</td>\n",
       "    </tr>\n",
       "    <tr>\n",
       "      <th>2025-01-01 14:13:27</th>\n",
       "      <td>Sounds like an activity I could be involved in</td>\n",
       "      <td>None</td>\n",
       "      <td>None</td>\n",
       "      <td>+14169857677</td>\n",
       "      <td>[]</td>\n",
       "      <td>0</td>\n",
       "      <td>Riley</td>\n",
       "    </tr>\n",
       "    <tr>\n",
       "      <th>2025-01-01 14:13:37</th>\n",
       "      <td>The best part about cleaning up… not doing it 💯</td>\n",
       "      <td>None</td>\n",
       "      <td>None</td>\n",
       "      <td>+16138044084</td>\n",
       "      <td>[Laughed by +14169857677]</td>\n",
       "      <td>1</td>\n",
       "      <td>Ryan</td>\n",
       "    </tr>\n",
       "    <tr>\n",
       "      <th>2025-01-01 14:13:39</th>\n",
       "      <td>Was it super messy</td>\n",
       "      <td>None</td>\n",
       "      <td>None</td>\n",
       "      <td>+14169857677</td>\n",
       "      <td>[]</td>\n",
       "      <td>0</td>\n",
       "      <td>Riley</td>\n",
       "    </tr>\n",
       "  </tbody>\n",
       "</table>\n",
       "</div>"
      ],
      "text/plain": [
       "                                                                 texts  \\\n",
       "dates                                                                    \n",
       "2025-01-01 12:54:33  I can’t put down the mowater I can’t put down ...   \n",
       "2025-01-01 13:36:32                                               None   \n",
       "2025-01-01 13:37:49                        Stop firing at Ukraine dawg   \n",
       "2025-01-01 13:36:39   New jack pic that doesn’t look like jack dropped   \n",
       "2025-01-01 13:38:49                                             LOOOOL   \n",
       "2025-01-01 13:39:33                                               None   \n",
       "2025-01-01 13:40:16  InMowaterJosh (Cabernet Sauvignon)Josh (Maycoc...   \n",
       "2025-01-01 13:41:54                                              LOOOL   \n",
       "2025-01-01 13:40:47          Dude Josh coming over to Evan’s house at    \n",
       "2025-01-01 13:40:50                               And watch shawshank    \n",
       "2025-01-01 13:41:10    Most shocking thing I’ve ever heard in my life    \n",
       "2025-01-01 13:41:14                                         Genuinely    \n",
       "2025-01-01 13:41:41                                                  ￼   \n",
       "2025-01-01 13:41:44  Ryan dropped his full beer and it landed perfe...   \n",
       "2025-01-01 13:42:13                     Actually couldn’t believe this   \n",
       "2025-01-01 14:02:03                              The sound it made too   \n",
       "2025-01-01 14:02:28              Evan coming in from the new iPhone XR   \n",
       "2025-01-01 14:03:02  Man you guys missed a crazy sleepover at the M...   \n",
       "2025-01-01 14:04:04          Did josh put on tv static and tuck you in   \n",
       "2025-01-01 14:04:18             Yea man I gave him his new years kiss    \n",
       "2025-01-01 14:04:27                              Anyone want to chill    \n",
       "2025-01-01 14:12:40                                     Les Linklader    \n",
       "2025-01-01 14:04:30                                               LOLL   \n",
       "2025-01-01 14:04:43                             me and ryan will later   \n",
       "2025-01-01 14:06:27                          You guys getting active ?   \n",
       "2025-01-01 14:06:43                    Ben’s fiending to get active rn   \n",
       "2025-01-01 14:07:30       Bruh I’m fucking depressed on New Year’s Day   \n",
       "2025-01-01 14:07:59   I was but just jumped ryan for his water buffalo   \n",
       "2025-01-01 14:08:37                                             Looool   \n",
       "2025-01-01 14:09:50                                               None   \n",
       "2025-01-01 14:11:03             You find the stick in Ryan’s basement    \n",
       "2025-01-01 14:11:31  I was doing gaurd duty on the shower for 3 hou...   \n",
       "2025-01-01 14:12:15                                              Gord    \n",
       "2025-01-01 14:13:02                      You guys wanna help clean up    \n",
       "2025-01-01 14:13:03                                                  ?   \n",
       "2025-01-01 14:13:09                                              Sure    \n",
       "2025-01-01 14:13:22  Actually I’m pretty much done but you guys can...   \n",
       "2025-01-01 14:13:27     Sounds like an activity I could be involved in   \n",
       "2025-01-01 14:13:37   The best part about cleaning up… not doing it 💯    \n",
       "2025-01-01 14:13:39                                 Was it super messy   \n",
       "\n",
       "                                          image                      video  \\\n",
       "dates                                                                        \n",
       "2025-01-01 12:54:33                        None                       None   \n",
       "2025-01-01 13:36:32  attachments/302/48791.jpeg                       None   \n",
       "2025-01-01 13:37:49                        None                       None   \n",
       "2025-01-01 13:36:39                        None                       None   \n",
       "2025-01-01 13:38:49                        None                       None   \n",
       "2025-01-01 13:39:33                        None  attachments/302/48792.mov   \n",
       "2025-01-01 13:40:16                        None                       None   \n",
       "2025-01-01 13:41:54                        None                       None   \n",
       "2025-01-01 13:40:47                        None                       None   \n",
       "2025-01-01 13:40:50                        None                       None   \n",
       "2025-01-01 13:41:10                        None                       None   \n",
       "2025-01-01 13:41:14                        None                       None   \n",
       "2025-01-01 13:41:41  attachments/302/48798.jpeg                       None   \n",
       "2025-01-01 13:41:44                        None                       None   \n",
       "2025-01-01 13:42:13                        None                       None   \n",
       "2025-01-01 14:02:03                        None                       None   \n",
       "2025-01-01 14:02:28                        None                       None   \n",
       "2025-01-01 14:03:02                        None                       None   \n",
       "2025-01-01 14:04:04                        None                       None   \n",
       "2025-01-01 14:04:18                        None                       None   \n",
       "2025-01-01 14:04:27                        None                       None   \n",
       "2025-01-01 14:12:40                        None                       None   \n",
       "2025-01-01 14:04:30                        None                       None   \n",
       "2025-01-01 14:04:43                        None                       None   \n",
       "2025-01-01 14:06:27                        None                       None   \n",
       "2025-01-01 14:06:43                        None                       None   \n",
       "2025-01-01 14:07:30                        None                       None   \n",
       "2025-01-01 14:07:59                        None                       None   \n",
       "2025-01-01 14:08:37                        None                       None   \n",
       "2025-01-01 14:09:50  attachments/302/48796.jpeg                       None   \n",
       "2025-01-01 14:11:03                        None                       None   \n",
       "2025-01-01 14:11:31                        None                       None   \n",
       "2025-01-01 14:12:15                        None                       None   \n",
       "2025-01-01 14:13:02                        None                       None   \n",
       "2025-01-01 14:13:03                        None                       None   \n",
       "2025-01-01 14:13:09                        None                       None   \n",
       "2025-01-01 14:13:22                        None                       None   \n",
       "2025-01-01 14:13:27                        None                       None   \n",
       "2025-01-01 14:13:37                        None                       None   \n",
       "2025-01-01 14:13:39                        None                       None   \n",
       "\n",
       "                                     sender_number  \\\n",
       "dates                                                \n",
       "2025-01-01 12:54:33                   +14169857677   \n",
       "2025-01-01 13:36:32                   +16138044084   \n",
       "2025-01-01 13:37:49                   +16138588921   \n",
       "2025-01-01 13:36:39                   +16138044084   \n",
       "2025-01-01 13:38:49                   +16138044084   \n",
       "2025-01-01 13:39:33                   +16138044084   \n",
       "2025-01-01 13:40:16                   +16133160960   \n",
       "2025-01-01 13:41:54                   +16138588921   \n",
       "2025-01-01 13:40:47                   +16138044084   \n",
       "2025-01-01 13:40:50                   +16138044084   \n",
       "2025-01-01 13:41:10                   +16133160960   \n",
       "2025-01-01 13:41:14                   +16133160960   \n",
       "2025-01-01 13:41:41                   +16133160960   \n",
       "2025-01-01 13:41:44                   +16133160960   \n",
       "2025-01-01 13:42:13                   +16138044084   \n",
       "2025-01-01 14:02:03  hashtagyoloswagbeef@gmail.com   \n",
       "2025-01-01 14:02:28                   +14169857677   \n",
       "2025-01-01 14:03:02  hashtagyoloswagbeef@gmail.com   \n",
       "2025-01-01 14:04:04                   +14169857677   \n",
       "2025-01-01 14:04:18  hashtagyoloswagbeef@gmail.com   \n",
       "2025-01-01 14:04:27                   +16138588921   \n",
       "2025-01-01 14:12:40                   +16138044084   \n",
       "2025-01-01 14:04:30                   +14169857677   \n",
       "2025-01-01 14:04:43                   +14169857677   \n",
       "2025-01-01 14:06:27  hashtagyoloswagbeef@gmail.com   \n",
       "2025-01-01 14:06:43                   +14169857677   \n",
       "2025-01-01 14:07:30                   +16138588921   \n",
       "2025-01-01 14:07:59                   +14169857677   \n",
       "2025-01-01 14:08:37  hashtagyoloswagbeef@gmail.com   \n",
       "2025-01-01 14:09:50                   +14169857677   \n",
       "2025-01-01 14:11:03  hashtagyoloswagbeef@gmail.com   \n",
       "2025-01-01 14:11:31                   +14169857677   \n",
       "2025-01-01 14:12:15                   +16138044084   \n",
       "2025-01-01 14:13:02  hashtagyoloswagbeef@gmail.com   \n",
       "2025-01-01 14:13:03  hashtagyoloswagbeef@gmail.com   \n",
       "2025-01-01 14:13:09                   +16138588921   \n",
       "2025-01-01 14:13:22  hashtagyoloswagbeef@gmail.com   \n",
       "2025-01-01 14:13:27                   +14169857677   \n",
       "2025-01-01 14:13:37                   +16138044084   \n",
       "2025-01-01 14:13:39                   +14169857677   \n",
       "\n",
       "                                                             reactions  \\\n",
       "dates                                                                    \n",
       "2025-01-01 12:54:33  [Laughed by +16133160960, Laughed by +16138044...   \n",
       "2025-01-01 13:36:32                          [Laughed by +16138588921]   \n",
       "2025-01-01 13:37:49  [Laughed by +16133160960, Laughed by +16138044...   \n",
       "2025-01-01 13:36:39                          [Laughed by +16133160960]   \n",
       "2025-01-01 13:38:49                                                 []   \n",
       "2025-01-01 13:39:33  [Laughed by +16133160960, Laughed by +14169857...   \n",
       "2025-01-01 13:40:16  [Laughed by +16138044084, Laughed by +16138588...   \n",
       "2025-01-01 13:41:54                                                 []   \n",
       "2025-01-01 13:40:47  [Laughed by +16138588921, Laughed by +14169857...   \n",
       "2025-01-01 13:40:50                                                 []   \n",
       "2025-01-01 13:41:10                                                 []   \n",
       "2025-01-01 13:41:14                                                 []   \n",
       "2025-01-01 13:41:41  [Laughed by +14169857677, Laughed by +16138044...   \n",
       "2025-01-01 13:41:44              [Laughed by melaniesmyth13@gmail.com]   \n",
       "2025-01-01 13:42:13                                                 []   \n",
       "2025-01-01 14:02:03                          [Laughed by +16133160960]   \n",
       "2025-01-01 14:02:28                                                 []   \n",
       "2025-01-01 14:03:02  [Laughed by +14169857677, Laughed by +16133160...   \n",
       "2025-01-01 14:04:04                                                 []   \n",
       "2025-01-01 14:04:18                          [Laughed by +16133160960]   \n",
       "2025-01-01 14:04:27                                                 []   \n",
       "2025-01-01 14:12:40  [Laughed by +14169857677, Laughed by +16138588...   \n",
       "2025-01-01 14:04:30                                                 []   \n",
       "2025-01-01 14:04:43                                                 []   \n",
       "2025-01-01 14:06:27                                                 []   \n",
       "2025-01-01 14:06:43                                                 []   \n",
       "2025-01-01 14:07:30                                                 []   \n",
       "2025-01-01 14:07:59                                                 []   \n",
       "2025-01-01 14:08:37                                                 []   \n",
       "2025-01-01 14:09:50                                                 []   \n",
       "2025-01-01 14:11:03                                                 []   \n",
       "2025-01-01 14:11:31                                                 []   \n",
       "2025-01-01 14:12:15                                                 []   \n",
       "2025-01-01 14:13:02                                                 []   \n",
       "2025-01-01 14:13:03                                                 []   \n",
       "2025-01-01 14:13:09                                                 []   \n",
       "2025-01-01 14:13:22                                                 []   \n",
       "2025-01-01 14:13:27                                                 []   \n",
       "2025-01-01 14:13:37                          [Laughed by +14169857677]   \n",
       "2025-01-01 14:13:39                                                 []   \n",
       "\n",
       "                     reactions_recieved                         sender  \n",
       "dates                                                                   \n",
       "2025-01-01 12:54:33                   2                          Riley  \n",
       "2025-01-01 13:36:32                   1                           Ryan  \n",
       "2025-01-01 13:37:49                   3                            Ben  \n",
       "2025-01-01 13:36:39                   1                           Ryan  \n",
       "2025-01-01 13:38:49                   0                           Ryan  \n",
       "2025-01-01 13:39:33                   2                           Ryan  \n",
       "2025-01-01 13:40:16                   3                           Jack  \n",
       "2025-01-01 13:41:54                   0                            Ben  \n",
       "2025-01-01 13:40:47                   2                           Ryan  \n",
       "2025-01-01 13:40:50                   0                           Ryan  \n",
       "2025-01-01 13:41:10                   0                           Jack  \n",
       "2025-01-01 13:41:14                   0                           Jack  \n",
       "2025-01-01 13:41:41                   3                           Jack  \n",
       "2025-01-01 13:41:44                   1                           Jack  \n",
       "2025-01-01 13:42:13                   0                           Ryan  \n",
       "2025-01-01 14:02:03                   1  hashtagyoloswagbeef@gmail.com  \n",
       "2025-01-01 14:02:28                   0                          Riley  \n",
       "2025-01-01 14:03:02                   2  hashtagyoloswagbeef@gmail.com  \n",
       "2025-01-01 14:04:04                   0                          Riley  \n",
       "2025-01-01 14:04:18                   1  hashtagyoloswagbeef@gmail.com  \n",
       "2025-01-01 14:04:27                   0                            Ben  \n",
       "2025-01-01 14:12:40                   2                           Ryan  \n",
       "2025-01-01 14:04:30                   0                          Riley  \n",
       "2025-01-01 14:04:43                   0                          Riley  \n",
       "2025-01-01 14:06:27                   0  hashtagyoloswagbeef@gmail.com  \n",
       "2025-01-01 14:06:43                   0                          Riley  \n",
       "2025-01-01 14:07:30                   0                            Ben  \n",
       "2025-01-01 14:07:59                   0                          Riley  \n",
       "2025-01-01 14:08:37                   0  hashtagyoloswagbeef@gmail.com  \n",
       "2025-01-01 14:09:50                   0                          Riley  \n",
       "2025-01-01 14:11:03                   0  hashtagyoloswagbeef@gmail.com  \n",
       "2025-01-01 14:11:31                   0                          Riley  \n",
       "2025-01-01 14:12:15                   0                           Ryan  \n",
       "2025-01-01 14:13:02                   0  hashtagyoloswagbeef@gmail.com  \n",
       "2025-01-01 14:13:03                   0  hashtagyoloswagbeef@gmail.com  \n",
       "2025-01-01 14:13:09                   0                            Ben  \n",
       "2025-01-01 14:13:22                   0  hashtagyoloswagbeef@gmail.com  \n",
       "2025-01-01 14:13:27                   0                          Riley  \n",
       "2025-01-01 14:13:37                   1                           Ryan  \n",
       "2025-01-01 14:13:39                   0                          Riley  "
      ]
     },
     "execution_count": 32,
     "metadata": {},
     "output_type": "execute_result"
    }
   ],
   "source": [
    "df.head(40)"
   ]
  },
  {
   "cell_type": "code",
   "execution_count": 33,
   "metadata": {},
   "outputs": [
    {
     "data": {
      "text/plain": [
       "['I can’t put down the mowater I can’t put down the mowater',\n",
       " None,\n",
       " 'Stop firing at Ukraine dawg',\n",
       " 'New jack pic that doesn’t look like jack dropped',\n",
       " 'LOOOOL',\n",
       " None,\n",
       " 'InMowaterJosh (Cabernet Sauvignon)Josh (Maycock)Shawshank redemptionCRT Television static OutA&W Iced teaHot tubs that are too smallGreening out at new years ',\n",
       " 'LOOOL',\n",
       " 'Dude Josh coming over to Evan’s house at ',\n",
       " 'And watch shawshank ',\n",
       " 'Most shocking thing I’ve ever heard in my life ',\n",
       " 'Genuinely ',\n",
       " '￼',\n",
       " 'Ryan dropped his full beer and it landed perfectly like this ',\n",
       " 'Actually couldn’t believe this',\n",
       " 'The sound it made too',\n",
       " 'Evan coming in from the new iPhone XR',\n",
       " 'Man you guys missed a crazy sleepover at the Maycock residence ',\n",
       " 'Did josh put on tv static and tuck you in',\n",
       " 'Yea man I gave him his new years kiss ',\n",
       " 'Anyone want to chill ',\n",
       " 'Les Linklader ',\n",
       " 'LOLL',\n",
       " 'me and ryan will later',\n",
       " 'You guys getting active ?',\n",
       " 'Ben’s fiending to get active rn',\n",
       " 'Bruh I’m fucking depressed on New Year’s Day',\n",
       " 'I was but just jumped ryan for his water buffalo',\n",
       " 'Looool',\n",
       " None,\n",
       " 'You find the stick in Ryan’s basement ',\n",
       " 'I was doing gaurd duty on the shower for 3 hours last night with the rifle',\n",
       " 'Gord ',\n",
       " 'You guys wanna help clean up ',\n",
       " '?',\n",
       " 'Sure ',\n",
       " 'Actually I’m pretty much done but you guys can come chill later ',\n",
       " 'Sounds like an activity I could be involved in',\n",
       " 'The best part about cleaning up… not doing it 💯 ',\n",
       " 'Was it super messy',\n",
       " 'Not too bad ',\n",
       " 'Ok Evan let us know when',\n",
       " 'Sauna after dinner?',\n",
       " 'Man just eat here we have shawarma rice ',\n",
       " 'Man I can’t believe Riley’s 14th birthday is next week ',\n",
       " 'Happy early birthday ',\n",
       " 'Thank you I’m so hyped for gr8',\n",
       " 'Happy new years hole',\n",
       " 'I’d like to wish a happy birthday to all horses ',\n",
       " 'Happy bday horses, will not be putting down thaaa cuppppp ',\n",
       " 'Or the mowater',\n",
       " 'Happy New Years from my family to yours. Let’s make it the best one yet ❤️',\n",
       " 'Ben. Happy poo years from my chandelier to yours .',\n",
       " 'This message not getting the love it deserves ',\n",
       " '￼',\n",
       " None,\n",
       " 'Fire ass photo Jizzack and Darsizzle 🔥',\n",
       " '￼',\n",
       " 'Just explained the poo water story to evan and his gf',\n",
       " 'Who wanna link at Mr. Shawarma 🔥💨🥶',\n",
       " 'Mane ',\n",
       " 'Evan has 5lbs of Mr. Shawarma rice in his fridge',\n",
       " 'Ben just left my house and said he was going to get active ',\n",
       " 'I am afraid as to what that will entail',\n",
       " 'By getting active he means walking home',\n",
       " 'Im going to date your mother very hard in 2025',\n",
       " 'Someone add new members ',\n",
       " 'Abby add and remove',\n",
       " 'Ben getting active is like josh kissing his gf at NYE, it never happens',\n",
       " 'Very rude but true ',\n",
       " '👍',\n",
       " 'Fuhmales are OUT in 2025',\n",
       " 'Large bathtubs with hot water are IN',\n",
       " 'Anyone know what the huzz might be looking for in 2025?',\n",
       " None,\n",
       " 'This is how riley holes ',\n",
       " 'Waiting for ben to come cuddle',\n",
       " 'Meow',\n",
       " 'Is there room for me and jack and a mowater in that bed?',\n",
       " 'Yes ❤️ ',\n",
       " None,\n",
       " 'Remix ',\n",
       " 'Da slowmix ',\n",
       " None,\n",
       " None,\n",
       " None,\n",
       " 'Ok',\n",
       " 'Riley are you up',\n",
       " 'There’s a dude in the hallway',\n",
       " 'What',\n",
       " None,\n",
       " 'Bro motherfucker',\n",
       " 'I was about to go get Jamie’s rifle',\n",
       " 'Lowkey we could’ve set up an insane sandwich maneuver with our doors facing eachother',\n",
       " None,\n",
       " 'What is this',\n",
       " 'Greg you gotta learn some patience dude',\n",
       " 'Idk. Just laugh please',\n",
       " 'Abby snip?',\n",
       " 'Happy early John day to those who celebrate',\n",
       " 'Omg aw. I’m so glad you had that filmed',\n",
       " 'Watch the w(hole) thing with sound. It’s worth',\n",
       " 'JOHNS5',\n",
       " 'Wholesome asf',\n",
       " 'W',\n",
       " 'Omg that’s so sweet',\n",
       " None,\n",
       " 'Yay best girlfriend ever yay',\n",
       " 'John ',\n",
       " 'Happy Girthday❤️',\n",
       " 'Love you wish we could 💋 ',\n",
       " 'Happy freaking Jirthday',\n",
       " 'Ali is the GOAT GF',\n",
       " 'Happy birthday to Johnathan!!!!',\n",
       " 'Happy birthday to the 🐐 JR',\n",
       " 'HBD JOHNNNNN. I don’t talk much or check into in the hole (only got like half yall numbers LOL). But JOHN RAY is the realest. If there is ever a gathering of the entire hole- would love to hang out:)',\n",
       " 'happy john day🥳🥳🥳',\n",
       " None,\n",
       " 'Happy birthday john!!',\n",
       " 'Once a year Tommy message',\n",
       " '￼￼￼￼￼',\n",
       " 'Rayhan vs greg drink off tn ',\n",
       " 'LMFAOOO LETS GOOOOO',\n",
       " 'Greg aka Future Hendrix 454 Stan?',\n",
       " 'Thanks the hole ',\n",
       " 'Come on',\n",
       " 'You got active, we get it ',\n",
       " '￼￼￼￼￼￼￼￼￼￼￼￼￼￼￼￼￼￼￼I love you John! Happy bday💋',\n",
       " 'Cool guy john',\n",
       " 'Wow this is an incredible assortment of photos',\n",
       " 'I want to heart react to every single one',\n",
       " '￼￼￼￼￼￼￼￼￼',\n",
       " 'And the most important one',\n",
       " None,\n",
       " 'Johnathan Ray. From the farm. ⛽️ ',\n",
       " 'Big Dripper.',\n",
       " 'Bro went from looking at the cows grazing in his elementary school to getting high top fades rocking Supreme to Coffee GAWD. The come up will be studied.',\n",
       " 'Happy Jrithday 🙏⚠️',\n",
       " 'Alright John',\n",
       " 'One last Jirthday gift ',\n",
       " 'Congrats buddy ',\n",
       " None,\n",
       " None,\n",
       " 'Yeah long run ',\n",
       " 'Man the hole is treating abby poorly. Reparations incoming',\n",
       " 'Abby eats Dairy Queen hot food ',\n",
       " 'stop evan its not true i just said it for laughs',\n",
       " 'i swear',\n",
       " None,\n",
       " None,\n",
       " None,\n",
       " None,\n",
       " 'Any of you guys listen to Gojira',\n",
       " 'Ggreg seen them live',\n",
       " 'Bruh fr?',\n",
       " 'yeah i saw them open for deftones it was sick ',\n",
       " 'Yeah',\n",
       " 'Gordita ',\n",
       " None,\n",
       " 'Beautiful ending',\n",
       " None,\n",
       " 'What the Hell is “mature Nintendo switch online”',\n",
       " 'thats where me and henry play with each othe',\n",
       " 'No girls allowed',\n",
       " 'Just disregard that',\n",
       " 'It’s not for you',\n",
       " 'other',\n",
       " 'No jonklers',\n",
       " None,\n",
       " 'Jack was hyped ',\n",
       " 'Ben just lost his job',\n",
       " 'Going to be busking in Dutton Square, outside the GME with Michael Ray',\n",
       " 'r/michaelraybusks',\n",
       " 'Someone TLDR Justin Trudeau resigning. I live in a remote town in a province that hates him ',\n",
       " 'Buddy you live in Dutton, the most Trudeau fearing town of southern Ontario',\n",
       " 'Ryan tried to date him and Trudeau is resigning to go on a date with ryan',\n",
       " None,\n",
       " 'My two best friends',\n",
       " 'Underrated Abby run ',\n",
       " 'Fr. One for the books',\n",
       " 'Can you guys just date already ',\n",
       " 'Who',\n",
       " 'Me and jack?',\n",
       " 'I pulled some strings with Sophie G. We got him to step down',\n",
       " 'Abber',\n",
       " 'Just saw jack here ',\n",
       " None,\n",
       " 'Imagine doing this and an enemy army snuck up to the castle wall just to shoot an arrow right into your dangling nuts and asshole ',\n",
       " 'I hate when my asshole dangles ',\n",
       " 'This video would legitimately ruin my grandfather',\n",
       " 'Bro what',\n",
       " None,\n",
       " 'I’m convinced john has just used the hole as a machine learning experiment and is now unleashing his AI on us',\n",
       " None,\n",
       " 'Bro yours would',\n",
       " 'Serious consequences willBefall you',\n",
       " 'Man so my friend works at a homeless shelter in Halifax and was saying how she made a resident there ramen noodles in a cup because they had no bowls',\n",
       " None,\n",
       " None,\n",
       " None,\n",
       " None,\n",
       " None,\n",
       " None,\n",
       " None,\n",
       " None,\n",
       " 'damn i’ve been re-added',\n",
       " None,\n",
       " None,\n",
       " 'I didn’t remove anyonne',\n",
       " 'Jesus',\n",
       " 'This has to be the most insane chat. I dont read anything in it tbh but every now and then something hilarious pops up. Wow, so many ppl. Insane.',\n",
       " 'Gaping hole truly ',\n",
       " 'Ottawa army just pulled up',\n",
       " None,\n",
       " 'Do any of you folks know Felix Carty of Lisgar Collegiate?',\n",
       " 'Thats my guy',\n",
       " '& David Amoi…who is a prince.',\n",
       " 'Ryan who the hell are these people',\n",
       " 'Poop poop pee ',\n",
       " 'Ryan af',\n",
       " None,\n",
       " None,\n",
       " None,\n",
       " 'What is a Johnathon hole .',\n",
       " 'You either know or you don’t. ',\n",
       " 'Nefarious glitch',\n",
       " 'I am sorry ',\n",
       " 'It’s ok I guess ',\n",
       " None,\n",
       " 'HAYB ',\n",
       " None,\n",
       " 'Comfy womfy',\n",
       " 'Ryan is this why u never reply to my texts',\n",
       " 'Ur too busy in a 30 ppl group chat ',\n",
       " 'Yes this is why ryan has 300 unread texts',\n",
       " None,\n",
       " None,\n",
       " 'Congratulations to 30 members. Here is to another year of prosperity ',\n",
       " 'TLDR what’s happening',\n",
       " 'What the fuck is happening',\n",
       " 'Welcome Josh and Mackenzie and a lot more unknowns',\n",
       " None,\n",
       " 'Stronger in numbers. Welcome',\n",
       " 'Let’s raid the lazy barista cafe',\n",
       " 'Abby Cap',\n",
       " 'Someone add Angelo Cap',\n",
       " 'how do you know this',\n",
       " 'He’s my boy',\n",
       " None,\n",
       " 'Does he still have the highlander with like 400k KM on it ',\n",
       " 'That’s it',\n",
       " 'I’m adding more people',\n",
       " '500 now',\n",
       " 'Angelo Carp',\n",
       " None,\n",
       " 'he’s actually a mob affiliate ',\n",
       " None,\n",
       " 'and his nickname is the carp',\n",
       " 'The fart',\n",
       " 'Ryan Matson added Irena Lander to the conversation',\n",
       " 'no you didn’t',\n",
       " 'The Johnathan Hole is our own private social media platform ',\n",
       " 'Riley Burke added Les Linklater to the conversation',\n",
       " None,\n",
       " 'who’s the narc in the chat ',\n",
       " None,\n",
       " 'For my final act, I will add John’s mom. Any objections',\n",
       " 'For my first act I will add Ryan’s date for Abby to date ',\n",
       " 'Let’s start a crowd fund to buy the  town of Dutton',\n",
       " 'Rename it Dujohn',\n",
       " 'Buying Dutton Foodland ',\n",
       " 'Donald Ray memorial at Dutton Foodland',\n",
       " 'Hey guys krystiana is wondering if any of you are cute. Would cute (single) guys please send a photo of themselves ',\n",
       " None,\n",
       " None,\n",
       " 'This was me last night ha, feeling good:)',\n",
       " 'candid of me definitely not stoned :) ',\n",
       " 'How r u gonna talk here before replying to my private text.',\n",
       " 'is krystiana cute tho',\n",
       " 'I must see krystiana before I reveal my true identity',\n",
       " 'you upset me ',\n",
       " 'this is my revenge ',\n",
       " 'She doesn’t like you lil bro',\n",
       " 'Boo hoo',\n",
       " 'Please send to Melanie smyth ',\n",
       " '(She’s also ignoring me private texts)',\n",
       " 'PSTMS',\n",
       " 'Melanie smyth do you still reside in Halifax',\n",
       " 'i wish',\n",
       " 'no but i’ll be there next week wanna hang ',\n",
       " 'Who is Melanie smyth',\n",
       " 'I guess',\n",
       " None,\n",
       " 'me when riley says he’ll hang ',\n",
       " 'Bruh ',\n",
       " 'Me when Melanie sends a pic of me',\n",
       " 'How I see ryan when he’s standing infront of me',\n",
       " 'me when a hot masc tells me to get on my knees ',\n",
       " 'Looks like nicole',\n",
       " 'Yea that’s your sister ',\n",
       " 'Foul',\n",
       " 'LOL',\n",
       " 'Lmaoooo',\n",
       " None,\n",
       " 'Bro fuck that guy you don’t need him tbh ',\n",
       " None,\n",
       " None,\n",
       " 'ryan and the founder of hiking ',\n",
       " 'LOOOL',\n",
       " 'Bro😭😭',\n",
       " 'Who just sent that I’m riding the public bus rn',\n",
       " 'avg public pus enthusiast ',\n",
       " 'You can just say bus bro. Nobody thinks you own a private bus',\n",
       " 'That’s my brother in Christ ',\n",
       " 'Ok',\n",
       " None,\n",
       " 'Public bus is a godsent creation',\n",
       " 'Not really actually it fucking sucks',\n",
       " 'Who the freak are you',\n",
       " 'Who do you think you are the president',\n",
       " 'Fuck you ben',\n",
       " None,\n",
       " None,\n",
       " 'One more crass image and you’ll be banned',\n",
       " None,\n",
       " 'First one down',\n",
       " 'Who left ',\n",
       " 'Unknown',\n",
       " None,\n",
       " 'Who is that',\n",
       " None,\n",
       " 'No one has the same hole survival story as I do',\n",
       " 'Hello',\n",
       " 'Fuck you',\n",
       " 'Ok 👍🏻 ',\n",
       " 'Damn right ',\n",
       " 'very valid of you ryanwhat a noob ',\n",
       " None,\n",
       " None,\n",
       " None,\n",
       " None,\n",
       " None,\n",
       " None,\n",
       " None,\n",
       " 'Thirty one strong.',\n",
       " 'for those of you who don’t have my number saved my name is nick and i am ryan’s elder/mentor, pleased to meet everyone ',\n",
       " 'LOOOL',\n",
       " 'The kid',\n",
       " 'i may also be referred to as the kid ',\n",
       " 'Nick Label',\n",
       " '🏷️ ',\n",
       " None,\n",
       " 'Hello Austin. Who is your allegiance ',\n",
       " 'God is my allegience',\n",
       " None,\n",
       " 'Ok',\n",
       " 'Ok',\n",
       " 'Welcome Night Lovell',\n",
       " 'Welcome Austin',\n",
       " None,\n",
       " 'All new members please send introduction video like the one above ',\n",
       " 'Thank you Austin',\n",
       " 'In this video, Ryan’s elder/mentor (Nick) was seen resting after a tiring day of trying to teach ryan who was very uncooperative ',\n",
       " 'hi austin 👋🏻 ',\n",
       " 'Anyone see this yet',\n",
       " 'No. Looks like ass',\n",
       " 'You are too scared to Cum ',\n",
       " 'ryan what did we talk about ',\n",
       " 'more open mindedness ',\n",
       " 'Ben can we get a yes or no on the activity indicator ',\n",
       " 'We are seeing peak mentoring happening live folks be grateful',\n",
       " 'Austin. I am the mayor here. I am handing over the key to the city to you good human. May I ask your pronouns?',\n",
       " 'Xir/Xirs',\n",
       " 'What’s Riley’s number ',\n",
       " None,\n",
       " 'I’m fucking dying at the group name change ',\n",
       " 'If I had a wedding I would be totally fine with this group chat being the only people invited',\n",
       " 'Did Igor get banned from elevators world wide ? ',\n",
       " 'I’m Jewbie',\n",
       " ' send the video',\n",
       " 'I figured it out in my own ',\n",
       " 'Idk when I was established Jewbie but it’s got a good ring to it',\n",
       " 'time served ',\n",
       " 'How did you possibly pull a text ',\n",
       " 'What is keylogged ',\n",
       " 'In my case it was people in India hacking my computer and messaging my ex girlfriend for money ',\n",
       " 'Would’ve had better luck asking for the stuffed rat  ',\n",
       " 'Bro how did this just click to his brain',\n",
       " None,\n",
       " None,\n",
       " 'f*ck 12',\n",
       " 'Taking the stairs isn’t so bad ',\n",
       " 'John just explained keylogged to me',\n",
       " 'Very scary',\n",
       " 'Wow bummer',\n",
       " 'Igor. Please send Elevator video ',\n",
       " 'Ryan ',\n",
       " 'I’ll send the video of some grants me a police prep test certificate ',\n",
       " 'Can u introduce these ppl',\n",
       " 'Hello Eden 😊👋',\n",
       " 'Didn’t wanna ask but I’ve been waiting ',\n",
       " 'Krystiana it’s easier if you introduce yourself. Otherwise I have to tell you lore of 29 individuals',\n",
       " 'I know ben 😌',\n",
       " 'Real <3',\n",
       " 'Add Nic Hague?',\n",
       " 'vikins playah',\n",
       " 'I think I’m fit to be a police officer ',\n",
       " 'K I still don’t understand LORE',\n",
       " 'I have a copy and paste of the lore of like the original 15 memebers',\n",
       " None,\n",
       " 'I can be trusted with a firearm and badge ',\n",
       " 'Please elevator video ',\n",
       " 'Full name: Igor Ruzindana ',\n",
       " 'Send the certificate ',\n",
       " 'Oh my god',\n",
       " 'How are u still obsessed w that guy',\n",
       " 'LMFAO',\n",
       " 'You guys know Nic Hague',\n",
       " 'Hahahahaha',\n",
       " 'VGK player?',\n",
       " 'Krystiana knows a Stanley cup champion personally…',\n",
       " 'Ben’s doing tricks on it ',\n",
       " 'My friend was his billet house and I’ve chilled with him while he played steelheads',\n",
       " 'Wtf no way',\n",
       " 'Who r u ',\n",
       " 'Deadass',\n",
       " 'He lived in port credit at my boys house',\n",
       " 'Ryan’s cousin',\n",
       " 'Owen tippet too',\n",
       " 'The fact that someone in here knows who he is LMFAOOOO',\n",
       " 'I’m pretty sure I made him sign me smth',\n",
       " None,\n",
       " 'Is this the elevator video .',\n",
       " 'Good burgs igbor ',\n",
       " 'I went to high school w all the steelheads ',\n",
       " 'As per your request ryan ',\n",
       " 'Ayyyyyyyy',\n",
       " 'Really dmn',\n",
       " 'Where is the burger from',\n",
       " 'Boston pizza',\n",
       " 'iBurger ',\n",
       " 'You don’t want to see elevator video',\n",
       " 'Speak for yourself ',\n",
       " None,\n",
       " 'I made the burger ',\n",
       " 'Who is hashtag yolo swag beef ',\n",
       " 'A cool dude that’s all you need to know',\n",
       " 'I have the elevator video saved',\n",
       " 'Evan Marshall ',\n",
       " 'Can someone define LORE ',\n",
       " 'No',\n",
       " 'K',\n",
       " 'how do u not know what lore is',\n",
       " 'I’ve literally explained it to her too',\n",
       " None,\n",
       " 'Ok',\n",
       " 'Austin send the vid',\n",
       " 'Of the little kid',\n",
       " 'Pranking',\n",
       " 'Anyone trying go to grand prairie ',\n",
       " 'Sure',\n",
       " 'Do an elevator check ',\n",
       " 'Man',\n",
       " 'Who else got to watch',\n",
       " 'Fuck I missed it ',\n",
       " 'Bring me ephraim segal ',\n",
       " 'What the hell',\n",
       " 'LMFAOOOOOOOO',\n",
       " None,\n",
       " None,\n",
       " 'Is that guy in the elevator video in this chat',\n",
       " 'No he’s not ',\n",
       " 'It’s literally the guy who sent it',\n",
       " 'OK',\n",
       " 'dude ',\n",
       " 'Darius autism star ',\n",
       " 'Ryan actually my opp ',\n",
       " 'That’s crazy ',\n",
       " 'I have one question for him',\n",
       " 'Why did he do that.',\n",
       " 'whats the elsevator video',\n",
       " 'Federal agent Ryan matson at your service ',\n",
       " None,\n",
       " 'does anyone wanna f around n play uno',\n",
       " None,\n",
       " 'Austin I think these ppl r from Ottawa ',\n",
       " 'They don’t play that there. ',\n",
       " None,\n",
       " 'Ok',\n",
       " None,\n",
       " None,\n",
       " 'no one’s stealing it from u bro ',\n",
       " 'Sandwich belonging to a pre-fire discovery Neanderthal ',\n",
       " 'Riley I’m done showing you my girl friends bruh get your own ',\n",
       " 'Anyone eat any good oats recently ',\n",
       " 'i personally enjoy the apples and cinnamon high protein boxes of instant oatmeal ',\n",
       " 'Mid ',\n",
       " None,\n",
       " 'evan be like mmmm dino egg flavour ',\n",
       " 'please don’t speak unhighly of dino eggs whoever you are',\n",
       " 'you may refer to me as either The Kid or ryan’s elder and mentor ',\n",
       " 'Go make some steel cut oats ',\n",
       " 'do you eat your oats raw or do you put hot water in them ',\n",
       " 'Why would I put them in water ',\n",
       " 'so u eat them crunchy ',\n",
       " 'Where did Austin go ',\n",
       " 'Named Jewbie',\n",
       " 'Send the lore copy pasta riley. We are all waiting ',\n",
       " 'Ok',\n",
       " 'Was riley even here for the Grulge Tragedy ',\n",
       " 'Hole:- John is leader (my old roommate from 2nd year) and one of my friends- Ali is Johns long time gf - greg is goated and active in chat- jack is my friend who makes music in ottawa- Darcy is friend and roommate of 4 years for me- ben is ben- Ryan 2 is chill as fuck. Bills fan, camper and hiker and fantasy sports player- Michaela is our friend who climbs with them- johns sister Maggie is in there- Ernesto is friends with Ali and greg and by proximity me- Miklos is in there and my friend who lives in Austria- Henry is Ali’s younger brother/closest in age to you- Tommy is Henry’s friend and sends one message a year but has been in the chat since the inception. He knows his worth and is uncullable - rayhan is an actor and chill and doesn’t use the chat much- one guy IDK who lives in London Ontario but idk- another person IDK-Riley: autism, 13yrs of age',\n",
       " 'Ryan sent this to me so it’s from his POV',\n",
       " 'Please shut the fuck up',\n",
       " None,\n",
       " None,\n",
       " None,\n",
       " 'Are u a kid or an elder pick one ',\n",
       " 'no one’s a kid',\n",
       " 'i’m The Kid',\n",
       " 'know the diff ',\n",
       " 'if you want to be in the hole',\n",
       " 'If no one’s a kid then how are u the kid?',\n",
       " 'no one’s a kid ',\n",
       " 'i’m The Kid',\n",
       " 'Igor have you run a cul de sac marathon?',\n",
       " 'Pause on cul de sac ',\n",
       " 'Who is IGOR he’s not on the list.',\n",
       " 'Igor is a Vikings player ?',\n",
       " 'nic',\n",
       " 'mac',\n",
       " 'thx for the intro The Kid™️i am mac, or mack for shorti am ryans superior cousin (rileys/jewbies sister)and i live in halifax ',\n",
       " 'Sac chasers in the chat ',\n",
       " 'Ryan all of ur friends talk exactly like u',\n",
       " 'Krystiana we need a life update tbh',\n",
       " 'Need to know if you’ve got tea on any NHL players as well',\n",
       " 'is kristyiana in here ',\n",
       " 'Brother ',\n",
       " 'there’s a certain netflix party ben and i need to discuss ',\n",
       " 'FR',\n",
       " 'Ben u don’t msg me anymore so that’s ur fault . ',\n",
       " '😪',\n",
       " 'No I have basketball tea but not hockey sry',\n",
       " 'Ok basketball is fine, go ahead',\n",
       " 'krys tell them about',\n",
       " 's*b*h',\n",
       " 'Austin tell them about the witch that cursed u in nyc',\n",
       " '😳',\n",
       " 'is that your basketball tea',\n",
       " 'haha yeah fr tell them that story i remember being there when that happened haha',\n",
       " 'how u been man long time',\n",
       " 'Hi mack',\n",
       " 'hi someone with the rare 646 choronah area code',\n",
       " '613 400 who r u',\n",
       " 'you were supposed to get into a netflix party with me and ben ',\n",
       " 'Wat is a 613 number',\n",
       " 'ottawa ',\n",
       " 'Krys, ever since  S*b*h* Austin and I low key feel like you’ve been acting a bit different idk',\n",
       " 'real shit',\n",
       " 'Ben u don’t check in like u used to.',\n",
       " 'It’s on my New Year’s resolution list ',\n",
       " 'i am The Kid',\n",
       " 'U didn’t even wish me happy new years. ',\n",
       " 'Neither did RYAN ACTUALLY',\n",
       " 'Happy new years',\n",
       " 'U guys kind of suck ',\n",
       " 'i did ',\n",
       " 'Thx \\U0001f979',\n",
       " 'Krys, this could be us but you still don’t understand what lore is ',\n",
       " None,\n",
       " 'Idek what this means but I saved it anyways ',\n",
       " None,\n",
       " 'So cute ',\n",
       " 'holy glazing ',\n",
       " 'Nize your beak',\n",
       " 'ay',\n",
       " 'did 2014 toronto slang just find its way to ottawa',\n",
       " 'Yes, we are a few time zones behind ',\n",
       " 'nyeah eh',\n",
       " 'What’s its name ',\n",
       " 'IT',\n",
       " 'is crazy',\n",
       " 'Idk if it’s a male or female 😀',\n",
       " 'Wtf does glazing mean 😀',\n",
       " 'i don’t explain glazing to unknown numbers ',\n",
       " 'Krys, we’re sending you on a pop culture and terminology class ',\n",
       " 'I don’t understand how sabrina carpenter or that charli person got famous ',\n",
       " 'If anyone wants 2 explain ',\n",
       " 'Lmfaoooooo ',\n",
       " 'Is anyone in here from jasper ❤️',\n",
       " 'FUCK NO',\n",
       " 'Omg',\n",
       " 'there’s 3 people on earth who are from jasper and none are in this gc ',\n",
       " 'No I refuse to cross those worlds, respectfully you guys are way too fucked',\n",
       " 'WaitU guysAs in all of us😀',\n",
       " 'No one has actually been born In jasper since 1947',\n",
       " 'My coworker just had a baby 3 weeks ago ',\n",
       " 'fake baby for sure',\n",
       " 'they showed u a cabbage patch kid ',\n",
       " 'LOOL',\n",
       " 'Yea in Saguenay Québec',\n",
       " 'Krys are u still going to ottawa next weekend?',\n",
       " 'Yes to see ben ',\n",
       " '😍',\n",
       " '😍',\n",
       " 'Krys, thoughts on Ryan running for prime minister?',\n",
       " 'Meh',\n",
       " 'Not rly into that idea no offence ',\n",
       " 'Ben update me',\n",
       " 'Nothing good is happening, good things will be happening. ',\n",
       " 'Me you and Nick need to Netflix party and catch up',\n",
       " 'Period',\n",
       " 'Who’s nick ',\n",
       " 'the other one who was waiting for u in the netflix party ',\n",
       " 'i hear he’s hype ',\n",
       " 'The Kid™️',\n",
       " 'The Kid™️ ',\n",
       " None,\n",
       " 'What Netflix party 😭😭😭',\n",
       " 'ryan caught capping red handed w this one ',\n",
       " ' is the day of reckoning for the hole',\n",
       " 'WHAT NETFLIX PARTYYY ',\n",
       " 'K how about we all go to Jasper and see how many people can fit in Ryan’s bed ',\n",
       " 'Why his bed',\n",
       " 'Freak',\n",
       " 'whats jasper',\n",
       " 'my ex’s dog who died :/ ',\n",
       " '🤨',\n",
       " 'Ryan moved there',\n",
       " 'Ok fine, his car ',\n",
       " 'In the middle of nowhere ',\n",
       " 'RIP ',\n",
       " 'holy moly is this downtown jasper?',\n",
       " 'this is downtown jasper as well as half of its suburbs ',\n",
       " 'That’s not where I live',\n",
       " 'It gets kind of crazy there ',\n",
       " 'That is Ontario bruh',\n",
       " '\\U0001f9cc',\n",
       " 'You’re telling me there are multiple jaspers?',\n",
       " 'ryan be like nah guys jasper is lit ',\n",
       " 'Ryan can u come back to Toronto ',\n",
       " None,\n",
       " None,\n",
       " None,\n",
       " 'New members state your intention with my hole ',\n",
       " None,\n",
       " 'Ben can u move to Toronto ',\n",
       " 'N bring ryan ',\n",
       " 'Would honestly be a movie, it would be called Superbad ',\n",
       " 'Reacted \\U0001f9cc to “Would honestly be a movie, it would be called Supe…”',\n",
       " None,\n",
       " 'Ben says please don’t touch my hole and I say Ayy',\n",
       " None,\n",
       " None,\n",
       " None,\n",
       " None,\n",
       " None,\n",
       " None,\n",
       " None,\n",
       " 'Let’s get it started guys!',\n",
       " None,\n",
       " None,\n",
       " None,\n",
       " None,\n",
       " None,\n",
       " None,\n",
       " None,\n",
       " None,\n",
       " 'holy fuck ',\n",
       " None,\n",
       " 'I wish u were here ahh haircut ',\n",
       " None,\n",
       " 'Just got beat by the actual jonkler',\n",
       " 'Do you still play diddy henry',\n",
       " 'Yeah I do',\n",
       " 'Playing cloud rn tho. Just got the run back on the jonkler',\n",
       " 'He’s rly fucking good lol',\n",
       " 'whenever I have buffalo wings I always wipe my hands on my dog and he screams loud as fuckkkkk',\n",
       " 'what the fuck ',\n",
       " 'Yeeeeouch! He screams!',\n",
       " 'Good man',\n",
       " 'Cloud so fun ',\n",
       " 'I’ve been playing him and Rob a bunch recently',\n",
       " 'Diddy is hard to play on anythign outside of 1v1',\n",
       " 'Looking for Polynesian woman. Not for love. I have Samoan neighbours I need her to fight ',\n",
       " 'This photo predates ben’s first Ayy',\n",
       " 'Predates his first time getting active ',\n",
       " 'Yeah diddy is for sure not a doubles character',\n",
       " 'TLDR last 600 messages for me pls',\n",
       " 'AI overview',\n",
       " '30 people in the hole now',\n",
       " 'Basically it',\n",
       " 'Nothing of substance was said',\n",
       " 'Both of my sisters are now in here somehow',\n",
       " 'Who’s this Austin?',\n",
       " 'hi',\n",
       " 'No clue but john handed the keys to the city to him for 4 hours',\n",
       " 'Who’s John ',\n",
       " 'Please no ridiculous questions',\n",
       " 'Okay I actually can’t add them back because I haven’t made a contact that’s on you Austin',\n",
       " None,\n",
       " None,\n",
       " '👍',\n",
       " None,\n",
       " None,\n",
       " None,\n",
       " 'trying to find fire pics to fire back at u nikolass but they’re all just embarrassing old pics of ben idk what to do with ',\n",
       " None,\n",
       " None,\n",
       " 'Mane ',\n",
       " 'The nick era is over ',\n",
       " 'nick pipes his dad ',\n",
       " 'Ayyyyyyy',\n",
       " 'Looooool',\n",
       " None,\n",
       " 'He’s comfy ',\n",
       " None,\n",
       " None,\n",
       " None,\n",
       " 'Cooling off the grulge ',\n",
       " 'That clearly says heat lamp ',\n",
       " 'Warming up the grulge',\n",
       " 'LOOL I fuck with Gregg ',\n",
       " 'feel like me and him would vibe in an elevator ',\n",
       " 'You fell off, your music sucks + you’re Somalian ',\n",
       " 'Agreed ',\n",
       " 'The grulge radiates such immense heat that a civilian heat lamp does more to cool it off actually ',\n",
       " 'Agreed to elevator not Ryan’s inflammatory remark ',\n",
       " 'Finally. 10,000 points on Greg Mail ',\n",
       " 'Dude just turn off the notification',\n",
       " None,\n",
       " 'Bruh',\n",
       " None,\n",
       " 'OF subscriptions running up the mail',\n",
       " 'These Lithuanian bitches won’t leave me alone 😂😂😂😂😂😂😂😂⚠️',\n",
       " 'Removed \\U0001fae8 from “These Lithuanian bitches won’t leave me alone 😂😂…”',\n",
       " None,\n",
       " 'Dawg',\n",
       " 'All the Lithuanians hitting Jacks line via email to say “Stop firing at Ukraine dawggg”',\n",
       " 'Ben what r u doing rn',\n",
       " 'Thinking about what would happen if I put Ryan in a cage ',\n",
       " 'You?',\n",
       " 'We could send him anywhere ',\n",
       " 'That’s kind of smart ',\n",
       " 'Toronto 🥰',\n",
       " 'Would he tough to get him in there but once he’s in he’d be set. Give him a pair of Clark’s and a beer and he’d be in Toronto really quick ',\n",
       " 'Do u think u could get him in there by urself ?',\n",
       " None,\n",
       " 'Reacted \\U0001fae8 to “These Lithuanian bitches won’t leave me alone 😂😂…”',\n",
       " 'Reacted \\U0001fae8 to an image',\n",
       " 'Reacted \\U0001fae8 to an image',\n",
       " 'Reacted \\U0001fae8 to an image',\n",
       " None,\n",
       " 'Reacted \\U0001fae8 to an image',\n",
       " 'Reacted \\U0001fae8 to “These Lithuanian bitches won’t leave me alone 😂😂…”',\n",
       " 'Reacted \\U0001fae8 to “Reacted \\U0001fae8 to “These Lithuanian bitches won’t leave me alone 😂😂…””',\n",
       " None,\n",
       " 'Ivan Hole ',\n",
       " 'Such a bullshit map',\n",
       " 'They didn’t even overlay Texas onto Europe to show its sheer size',\n",
       " None,\n",
       " 'Texas is the size of .5 albanias. ',\n",
       " 'Ghjuvanni is crackhead af',\n",
       " 'Dumbass Italians',\n",
       " 'Hey guys I’m gonna start removing everyone in order from least liked to most liked',\n",
       " 'Ben (a true Italian nationalist) rejects sardinians as Italians ',\n",
       " 'Reacted with a sticker to “Ben (a true Italian nationalist) rejects sardinians as Italians ”',\n",
       " None,\n",
       " 'Meal prepped my dogs weekly food',\n",
       " 'fitting riley and your dog have the same diethe was named after a neighbourhood dog my mom liked ',\n",
       " 'Nice man, he’s going to die',\n",
       " 'Sometimes it makes him shit Blood',\n",
       " None,\n",
       " 'Is this Riley’s meals?',\n",
       " 'did u clean the stove',\n",
       " None,\n",
       " '￼',\n",
       " None,\n",
       " 'Anyone listen to Liangelo new song',\n",
       " 'Banger',\n",
       " 'It’s good af',\n",
       " 'WOOAAHHooaahhhOOAAHH',\n",
       " None,\n",
       " None,\n",
       " 'Hey guys, Krys posted a cool snap story. Go see it and re post ',\n",
       " 'Thx for the love :p',\n",
       " 'sorry brah no snap ',\n",
       " 'sorry krysyiantina ',\n",
       " 'Ben show us ur corn hole ',\n",
       " 'anyone in this 30 person group ever do a night shift and have advicestrugglin out here and i have 6 more hours ',\n",
       " None,\n",
       " 'i’m flying solo ',\n",
       " 'Watch squid game 🔥 🦑 ',\n",
       " 'Step 1: take off your safety glasses and put on the gas mask. Step 2: hide from the bombs ',\n",
       " 'I would say crank hog in the break room (or nearest vacant elevator) ',\n",
       " 'Or listen to podcasts ',\n",
       " 'or honestly 10 push-ups every hour ',\n",
       " 'three very different, but all valid answers ',\n",
       " 'thank mystery ottawa homie',\n",
       " 'I’m actually from Jasper ',\n",
       " 'i know my area codes ',\n",
       " 'I changed my temporary number to ottawa since I’m staying at jacks parents house ',\n",
       " 'Does anyone else in this group miss ben ?',\n",
       " 'who’s ben?',\n",
       " 'Krys might just be the best thing in the Toronto area ',\n",
       " 'Is the new season any good ryan ',\n",
       " 'Just as good imo',\n",
       " 'who in this chat has the 902 halifornia number ',\n",
       " None,\n",
       " None,\n",
       " None,\n",
       " None,\n",
       " 'Just bought 2.34 whole shares of a stock 🙌',\n",
       " 'Nice ',\n",
       " None,\n",
       " 'Location of Johns first shit',\n",
       " 'Hi ben 🦦',\n",
       " 'Hi Krysssssss how’s ur day',\n",
       " 'Bored cold n annoying hby',\n",
       " ':p',\n",
       " None,\n",
       " None,\n",
       " None,\n",
       " None,\n",
       " 'That’s how Austin texts the chat ',\n",
       " 'Mane ',\n",
       " 'Ben can we go on a quest ',\n",
       " 'Sure but I’m at work till 10',\n",
       " 'Perfect just in time for the witching hour ',\n",
       " None,\n",
       " 'just rediscovered this from the same year ',\n",
       " 'holy fuck',\n",
       " 'halifax lore ',\n",
       " 'Reacted 😭 to “That’s how Austin texts the chat ”',\n",
       " 'Nick has the Amish beard  ',\n",
       " 'who are u',\n",
       " 'That’s my messiah',\n",
       " '￼',\n",
       " None,\n",
       " 'Love u guys',\n",
       " 'LOOL',\n",
       " None,\n",
       " 'love u too krys ',\n",
       " None,\n",
       " 'Hey Hole how do I find something that I lost ',\n",
       " None,\n",
       " 'Edited',\n",
       " 'yo what streaming site do yall use for sports',\n",
       " 'tryna watch basketball:(',\n",
       " 'Methstreams',\n",
       " 'they frikin took that down bro and streameast >:(',\n",
       " None,\n",
       " 'i justwanna watch nba bro wth is this',\n",
       " 'Link ?',\n",
       " 'Barely',\n",
       " 'Man can’t believe battle los angles is coming to life ',\n",
       " 'That’s the price you have to pay ',\n",
       " 'o.O',\n",
       " 'A portly brother hacked my Pizza Pizza account and has used my PayPal to order $630 worth of pizza pizza to the same Toronto address😂',\n",
       " 'this is crazy',\n",
       " 'Who wants to pull up for me',\n",
       " 'What’s the address ',\n",
       " 'One is in high park',\n",
       " 'Wtf looolll',\n",
       " 'One is dufferin and Hallam ',\n",
       " 'Found a second address',\n",
       " 'Literally have the drop',\n",
       " 'wanna go pizza hunting @krys',\n",
       " 'I guess',\n",
       " None,\n",
       " 'My reaction ',\n",
       " 'What kind of pizza did they get ',\n",
       " 'Thick crust ?',\n",
       " 'Imagine it’s just garlic dip no pizza',\n",
       " 'would be valid ',\n",
       " 'garlic dip bath',\n",
       " 'Freak off behaviour ',\n",
       " None,\n",
       " 'Evan’s first freak off ',\n",
       " None,\n",
       " \"Hi, been doing comedy for a min. Have mustered up the courage to do my own thing finally. I'm gonna write w a partner and do a diff cast for each sketch. Will have filmed shit and live shows. Follow up ganggggggg\",\n",
       " None,\n",
       " None,\n",
       " None,\n",
       " 'Riley thoughts on this 😍',\n",
       " None,\n",
       " 'Jack can you deadass please send a guitar solo to the chat',\n",
       " 'If I request one',\n",
       " 'Only if you request one. 1️⃣ ',\n",
       " None,\n",
       " None,\n",
       " 'MELANIE you are done for..',\n",
       " 'i needed to know the vibes i’m not sorry ',\n",
       " 'why is your email in the chat but not your phone number ',\n",
       " None,\n",
       " 'finally ',\n",
       " 'put me out of my misery',\n",
       " 'i dont know nick didn’t you work at best buy ',\n",
       " 'so insanely unrelated but yes ',\n",
       " 'Just want to say I knew nl.0001 was Nick right away and that ryan took the profile pic . Can’t believe people still have to ask who it is under the mask',\n",
       " 'LOOL',\n",
       " 'i’ll decide what’s related ',\n",
       " 'okay ',\n",
       " 'who’s asking u who’s under the mask bro i have like 11 followers ',\n",
       " 'Ben ',\n",
       " None,\n",
       " 'Me and Melanie in like 2014/15',\n",
       " 'ugh tbt pretending to be straight ',\n",
       " 'LOL',\n",
       " 'i was talking about u ',\n",
       " 'Hi Melanie.Shut the fuck up.Best,Ben',\n",
       " 'anyone in the hole have any hot gfs i could kiss ? ',\n",
       " 'Me ',\n",
       " 'Yea, Ryan’s Gf Nick Labbé is a cutie ',\n",
       " 'Nicki Labbe is a fucking rocket ',\n",
       " 'yeah she’s bad ',\n",
       " 'My bitch a baddie fr',\n",
       " 'This is my girl',\n",
       " 'Leave Jack out of this bruh, you have Nicki Labbe',\n",
       " 'smash ',\n",
       " None,\n",
       " 'Dooootpe',\n",
       " 'this is my girl ',\n",
       " 'Oh my godd',\n",
       " 'She’s fucking gorg’',\n",
       " 'Jack - im requesting you play the intro/ guitar licks/solo to Right down the line by Gerry Rafferty',\n",
       " None,\n",
       " 'Jack please play this',\n",
       " 'That may be a bit tough for him ngl',\n",
       " 'Your requests are pending ',\n",
       " 'Someone get this for Jack and he can be famous ',\n",
       " None,\n",
       " None,\n",
       " 'Jack play this ',\n",
       " 'LOOOL',\n",
       " 'Legit ',\n",
       " None,\n",
       " 'Imagine a hole meetup here',\n",
       " 'Isn’t this Jeffrey Epsteins house ',\n",
       " 'a hole meetup would be too powerful ',\n",
       " 'we’d end up taking over the country ',\n",
       " 'Imagine if someone told Jack they don’t have junior chickens in the USA',\n",
       " 'And snack wraps',\n",
       " 'I had that power but willingly forfeited it',\n",
       " 'I don’t believe in educating my friends when they can learn themselves',\n",
       " None,\n",
       " None,\n",
       " 'Why isn’t Melanie smith looking at my stories',\n",
       " 'Ever since she moved to BC she’s kind of been acting like a dick',\n",
       " 'Don’t worry, Austin and I always talk about your stories ',\n",
       " 'Austin doesn’t have social media :p',\n",
       " 'i’m not even convinced your real name is krystiana ',\n",
       " ', see what I mean about the whole “dick” thing?',\n",
       " 'I’m not even convinced ur real last name is smith ',\n",
       " 'it’s not babe ',\n",
       " 'unfortunately it’s smYth',\n",
       " 'Ben this is so u',\n",
       " 'Bruh ',\n",
       " 'I like smyth better purrrr',\n",
       " 'you know you got ben’s ass when all he says is bruh ',\n",
       " 'not only am i ryans elder/mentor but i also on the side am a ben behavioural expert and researcher ',\n",
       " 'Unfortunately both parts are true ',\n",
       " 'nick what is ben thinking about rn  ',\n",
       " '“i wonder what emojis microsoft teams has”',\n",
       " 'He needs a whole team lmao',\n",
       " '4076 are u The Kid',\n",
       " 'that depends ',\n",
       " 'i am The Kid to those who believe in The Kid',\n",
       " 'Is Melanie smyth the only girl in here',\n",
       " 'no',\n",
       " 'as one confused holer to another 4076 is nick labbe aka a kid ',\n",
       " 'The Kid',\n",
       " 'I need help',\n",
       " 'Hello the kid ',\n",
       " 'I miss ryan ',\n",
       " 'How do I summon him',\n",
       " 'say something bad about lord of the rings ',\n",
       " 'hello the krystiana ',\n",
       " 'Why r the only ppl in hereThe kidRyanBenMeMelanie smYthAnd Austin ',\n",
       " 'Where r the rest of the humans ',\n",
       " 'the hole ',\n",
       " 'no clue. shaun is one but he is mysterious and refuses to share with the group ',\n",
       " '🤭',\n",
       " 'Hello are u shaun',\n",
       " 'krys what is your relation to the hole ',\n",
       " 'Why are they gatekeeping themselves . ',\n",
       " 'Idk I woke up one day n was added',\n",
       " 'No context :$',\n",
       " 'yes that’s shaunathan ',\n",
       " 'Hiiiii Shaun ',\n",
       " 'shaunathan myknee ',\n",
       " 'Hiiii benjamin  ',\n",
       " 'привіт',\n",
       " 'Ben sometimes I miss U and ur nowhere to b found',\n",
       " 'When he’s bilingual 😍',\n",
       " 'Kris im gonna be honest, I think the entirety of the hole misses you rn',\n",
       " 'You’ve been a very good addition, we need more vocal individuals in here',\n",
       " 'Should I add one of my managers ',\n",
       " 'Are they hype?',\n",
       " 'Fuck it yes add them',\n",
       " None,\n",
       " ...]"
      ]
     },
     "execution_count": 33,
     "metadata": {},
     "output_type": "execute_result"
    }
   ],
   "source": [
    "list(df['texts'])"
   ]
  },
  {
   "cell_type": "code",
   "execution_count": 34,
   "metadata": {},
   "outputs": [
    {
     "data": {
      "text/plain": [
       "dates\n",
       "2025-01-01 12:54:33    I can’t put down the mowater I can’t put down ...\n",
       "2025-01-01 13:36:32                                                     \n",
       "2025-01-01 13:37:49                          Stop firing at Ukraine dawg\n",
       "2025-01-01 13:36:39     New jack pic that doesn’t look like jack dropped\n",
       "2025-01-01 13:38:49                                               LOOOOL\n",
       "                                             ...                        \n",
       "2025-02-01 00:32:56    Mane I was on reddit looking at peoples lists ...\n",
       "2025-02-01 00:37:55    When jack johnson played Ottawa blues fest u g...\n",
       "2025-02-01 00:38:19                                        Holy fuck LOL\n",
       "2025-02-01 00:42:40                                Lowkey heartbreaking \n",
       "2025-02-01 00:43:04                                Actually. Not lowkey \n",
       "Name: texts, Length: 13709, dtype: object"
      ]
     },
     "execution_count": 34,
     "metadata": {},
     "output_type": "execute_result"
    }
   ],
   "source": [
    "df['texts'].fillna('')"
   ]
  },
  {
   "cell_type": "code",
   "execution_count": 35,
   "metadata": {},
   "outputs": [],
   "source": [
    "df['word_count'] = df['texts'].fillna('').apply(lambda x : len(x.split(' ')))"
   ]
  },
  {
   "cell_type": "code",
   "execution_count": 36,
   "metadata": {},
   "outputs": [],
   "source": [
    "word_count = df.groupby('sender').sum().sort_values(by='word_count', ascending=False)"
   ]
  },
  {
   "cell_type": "code",
   "execution_count": 37,
   "metadata": {},
   "outputs": [],
   "source": [
    "text_count['word_count'] = word_count.word_count"
   ]
  },
  {
   "cell_type": "code",
   "execution_count": 54,
   "metadata": {},
   "outputs": [
    {
     "data": {
      "application/vnd.plotly.v1+json": {
       "config": {
        "plotlyServerURL": "https://plot.ly"
       },
       "data": [
        {
         "text": [
          10688,
          9470,
          9084,
          8646,
          8524,
          6429,
          6388,
          6146,
          5282,
          4072,
          1550,
          1154,
          1130,
          911,
          872,
          575,
          386,
          284,
          255,
          217,
          147,
          125,
          58,
          40,
          39,
          17,
          12,
          11,
          11,
          8,
          4,
          3,
          3,
          3,
          3,
          2,
          1,
          1
         ],
         "textposition": "auto",
         "type": "bar",
         "x": [
          "Ryan",
          "Igor",
          "Krystiana",
          "Ben",
          "Austin",
          "Nick",
          "Jack",
          "Riley",
          "John",
          "+14167995612",
          "hashtagyoloswagbeef@gmail.com",
          "Eden",
          "Henry",
          "melaniesmyth13@gmail.com",
          "Greg",
          "Darcy",
          "+12899330628",
          "Rayhan",
          "Ali",
          "Ernesto",
          "josh.maycock@yahoo.com",
          "+16475394413",
          "Nicole",
          "Tommy",
          "+16135581208",
          "+18103048098",
          "stephazel108@gmail.com",
          "M****",
          "Ryan 2",
          "+13432045724",
          "+16479917601",
          "Michaela",
          "Mel",
          "+16138594804",
          "+15197192478",
          "+16477019241",
          "+16138093940",
          "+16139797154"
         ],
         "y": [
          10688,
          9470,
          9084,
          8646,
          8524,
          6429,
          6388,
          6146,
          5282,
          4072,
          1550,
          1154,
          1130,
          911,
          872,
          575,
          386,
          284,
          255,
          217,
          147,
          125,
          58,
          40,
          39,
          17,
          12,
          11,
          11,
          8,
          4,
          3,
          3,
          3,
          3,
          2,
          1,
          1
         ]
        }
       ],
       "layout": {
        "template": {
         "data": {
          "bar": [
           {
            "error_x": {
             "color": "#2a3f5f"
            },
            "error_y": {
             "color": "#2a3f5f"
            },
            "marker": {
             "line": {
              "color": "#E5ECF6",
              "width": 0.5
             },
             "pattern": {
              "fillmode": "overlay",
              "size": 10,
              "solidity": 0.2
             }
            },
            "type": "bar"
           }
          ],
          "barpolar": [
           {
            "marker": {
             "line": {
              "color": "#E5ECF6",
              "width": 0.5
             },
             "pattern": {
              "fillmode": "overlay",
              "size": 10,
              "solidity": 0.2
             }
            },
            "type": "barpolar"
           }
          ],
          "carpet": [
           {
            "aaxis": {
             "endlinecolor": "#2a3f5f",
             "gridcolor": "white",
             "linecolor": "white",
             "minorgridcolor": "white",
             "startlinecolor": "#2a3f5f"
            },
            "baxis": {
             "endlinecolor": "#2a3f5f",
             "gridcolor": "white",
             "linecolor": "white",
             "minorgridcolor": "white",
             "startlinecolor": "#2a3f5f"
            },
            "type": "carpet"
           }
          ],
          "choropleth": [
           {
            "colorbar": {
             "outlinewidth": 0,
             "ticks": ""
            },
            "type": "choropleth"
           }
          ],
          "contour": [
           {
            "colorbar": {
             "outlinewidth": 0,
             "ticks": ""
            },
            "colorscale": [
             [
              0,
              "#0d0887"
             ],
             [
              0.1111111111111111,
              "#46039f"
             ],
             [
              0.2222222222222222,
              "#7201a8"
             ],
             [
              0.3333333333333333,
              "#9c179e"
             ],
             [
              0.4444444444444444,
              "#bd3786"
             ],
             [
              0.5555555555555556,
              "#d8576b"
             ],
             [
              0.6666666666666666,
              "#ed7953"
             ],
             [
              0.7777777777777778,
              "#fb9f3a"
             ],
             [
              0.8888888888888888,
              "#fdca26"
             ],
             [
              1,
              "#f0f921"
             ]
            ],
            "type": "contour"
           }
          ],
          "contourcarpet": [
           {
            "colorbar": {
             "outlinewidth": 0,
             "ticks": ""
            },
            "type": "contourcarpet"
           }
          ],
          "heatmap": [
           {
            "colorbar": {
             "outlinewidth": 0,
             "ticks": ""
            },
            "colorscale": [
             [
              0,
              "#0d0887"
             ],
             [
              0.1111111111111111,
              "#46039f"
             ],
             [
              0.2222222222222222,
              "#7201a8"
             ],
             [
              0.3333333333333333,
              "#9c179e"
             ],
             [
              0.4444444444444444,
              "#bd3786"
             ],
             [
              0.5555555555555556,
              "#d8576b"
             ],
             [
              0.6666666666666666,
              "#ed7953"
             ],
             [
              0.7777777777777778,
              "#fb9f3a"
             ],
             [
              0.8888888888888888,
              "#fdca26"
             ],
             [
              1,
              "#f0f921"
             ]
            ],
            "type": "heatmap"
           }
          ],
          "heatmapgl": [
           {
            "colorbar": {
             "outlinewidth": 0,
             "ticks": ""
            },
            "colorscale": [
             [
              0,
              "#0d0887"
             ],
             [
              0.1111111111111111,
              "#46039f"
             ],
             [
              0.2222222222222222,
              "#7201a8"
             ],
             [
              0.3333333333333333,
              "#9c179e"
             ],
             [
              0.4444444444444444,
              "#bd3786"
             ],
             [
              0.5555555555555556,
              "#d8576b"
             ],
             [
              0.6666666666666666,
              "#ed7953"
             ],
             [
              0.7777777777777778,
              "#fb9f3a"
             ],
             [
              0.8888888888888888,
              "#fdca26"
             ],
             [
              1,
              "#f0f921"
             ]
            ],
            "type": "heatmapgl"
           }
          ],
          "histogram": [
           {
            "marker": {
             "pattern": {
              "fillmode": "overlay",
              "size": 10,
              "solidity": 0.2
             }
            },
            "type": "histogram"
           }
          ],
          "histogram2d": [
           {
            "colorbar": {
             "outlinewidth": 0,
             "ticks": ""
            },
            "colorscale": [
             [
              0,
              "#0d0887"
             ],
             [
              0.1111111111111111,
              "#46039f"
             ],
             [
              0.2222222222222222,
              "#7201a8"
             ],
             [
              0.3333333333333333,
              "#9c179e"
             ],
             [
              0.4444444444444444,
              "#bd3786"
             ],
             [
              0.5555555555555556,
              "#d8576b"
             ],
             [
              0.6666666666666666,
              "#ed7953"
             ],
             [
              0.7777777777777778,
              "#fb9f3a"
             ],
             [
              0.8888888888888888,
              "#fdca26"
             ],
             [
              1,
              "#f0f921"
             ]
            ],
            "type": "histogram2d"
           }
          ],
          "histogram2dcontour": [
           {
            "colorbar": {
             "outlinewidth": 0,
             "ticks": ""
            },
            "colorscale": [
             [
              0,
              "#0d0887"
             ],
             [
              0.1111111111111111,
              "#46039f"
             ],
             [
              0.2222222222222222,
              "#7201a8"
             ],
             [
              0.3333333333333333,
              "#9c179e"
             ],
             [
              0.4444444444444444,
              "#bd3786"
             ],
             [
              0.5555555555555556,
              "#d8576b"
             ],
             [
              0.6666666666666666,
              "#ed7953"
             ],
             [
              0.7777777777777778,
              "#fb9f3a"
             ],
             [
              0.8888888888888888,
              "#fdca26"
             ],
             [
              1,
              "#f0f921"
             ]
            ],
            "type": "histogram2dcontour"
           }
          ],
          "mesh3d": [
           {
            "colorbar": {
             "outlinewidth": 0,
             "ticks": ""
            },
            "type": "mesh3d"
           }
          ],
          "parcoords": [
           {
            "line": {
             "colorbar": {
              "outlinewidth": 0,
              "ticks": ""
             }
            },
            "type": "parcoords"
           }
          ],
          "pie": [
           {
            "automargin": true,
            "type": "pie"
           }
          ],
          "scatter": [
           {
            "fillpattern": {
             "fillmode": "overlay",
             "size": 10,
             "solidity": 0.2
            },
            "type": "scatter"
           }
          ],
          "scatter3d": [
           {
            "line": {
             "colorbar": {
              "outlinewidth": 0,
              "ticks": ""
             }
            },
            "marker": {
             "colorbar": {
              "outlinewidth": 0,
              "ticks": ""
             }
            },
            "type": "scatter3d"
           }
          ],
          "scattercarpet": [
           {
            "marker": {
             "colorbar": {
              "outlinewidth": 0,
              "ticks": ""
             }
            },
            "type": "scattercarpet"
           }
          ],
          "scattergeo": [
           {
            "marker": {
             "colorbar": {
              "outlinewidth": 0,
              "ticks": ""
             }
            },
            "type": "scattergeo"
           }
          ],
          "scattergl": [
           {
            "marker": {
             "colorbar": {
              "outlinewidth": 0,
              "ticks": ""
             }
            },
            "type": "scattergl"
           }
          ],
          "scattermapbox": [
           {
            "marker": {
             "colorbar": {
              "outlinewidth": 0,
              "ticks": ""
             }
            },
            "type": "scattermapbox"
           }
          ],
          "scatterpolar": [
           {
            "marker": {
             "colorbar": {
              "outlinewidth": 0,
              "ticks": ""
             }
            },
            "type": "scatterpolar"
           }
          ],
          "scatterpolargl": [
           {
            "marker": {
             "colorbar": {
              "outlinewidth": 0,
              "ticks": ""
             }
            },
            "type": "scatterpolargl"
           }
          ],
          "scatterternary": [
           {
            "marker": {
             "colorbar": {
              "outlinewidth": 0,
              "ticks": ""
             }
            },
            "type": "scatterternary"
           }
          ],
          "surface": [
           {
            "colorbar": {
             "outlinewidth": 0,
             "ticks": ""
            },
            "colorscale": [
             [
              0,
              "#0d0887"
             ],
             [
              0.1111111111111111,
              "#46039f"
             ],
             [
              0.2222222222222222,
              "#7201a8"
             ],
             [
              0.3333333333333333,
              "#9c179e"
             ],
             [
              0.4444444444444444,
              "#bd3786"
             ],
             [
              0.5555555555555556,
              "#d8576b"
             ],
             [
              0.6666666666666666,
              "#ed7953"
             ],
             [
              0.7777777777777778,
              "#fb9f3a"
             ],
             [
              0.8888888888888888,
              "#fdca26"
             ],
             [
              1,
              "#f0f921"
             ]
            ],
            "type": "surface"
           }
          ],
          "table": [
           {
            "cells": {
             "fill": {
              "color": "#EBF0F8"
             },
             "line": {
              "color": "white"
             }
            },
            "header": {
             "fill": {
              "color": "#C8D4E3"
             },
             "line": {
              "color": "white"
             }
            },
            "type": "table"
           }
          ]
         },
         "layout": {
          "annotationdefaults": {
           "arrowcolor": "#2a3f5f",
           "arrowhead": 0,
           "arrowwidth": 1
          },
          "autotypenumbers": "strict",
          "coloraxis": {
           "colorbar": {
            "outlinewidth": 0,
            "ticks": ""
           }
          },
          "colorscale": {
           "diverging": [
            [
             0,
             "#8e0152"
            ],
            [
             0.1,
             "#c51b7d"
            ],
            [
             0.2,
             "#de77ae"
            ],
            [
             0.3,
             "#f1b6da"
            ],
            [
             0.4,
             "#fde0ef"
            ],
            [
             0.5,
             "#f7f7f7"
            ],
            [
             0.6,
             "#e6f5d0"
            ],
            [
             0.7,
             "#b8e186"
            ],
            [
             0.8,
             "#7fbc41"
            ],
            [
             0.9,
             "#4d9221"
            ],
            [
             1,
             "#276419"
            ]
           ],
           "sequential": [
            [
             0,
             "#0d0887"
            ],
            [
             0.1111111111111111,
             "#46039f"
            ],
            [
             0.2222222222222222,
             "#7201a8"
            ],
            [
             0.3333333333333333,
             "#9c179e"
            ],
            [
             0.4444444444444444,
             "#bd3786"
            ],
            [
             0.5555555555555556,
             "#d8576b"
            ],
            [
             0.6666666666666666,
             "#ed7953"
            ],
            [
             0.7777777777777778,
             "#fb9f3a"
            ],
            [
             0.8888888888888888,
             "#fdca26"
            ],
            [
             1,
             "#f0f921"
            ]
           ],
           "sequentialminus": [
            [
             0,
             "#0d0887"
            ],
            [
             0.1111111111111111,
             "#46039f"
            ],
            [
             0.2222222222222222,
             "#7201a8"
            ],
            [
             0.3333333333333333,
             "#9c179e"
            ],
            [
             0.4444444444444444,
             "#bd3786"
            ],
            [
             0.5555555555555556,
             "#d8576b"
            ],
            [
             0.6666666666666666,
             "#ed7953"
            ],
            [
             0.7777777777777778,
             "#fb9f3a"
            ],
            [
             0.8888888888888888,
             "#fdca26"
            ],
            [
             1,
             "#f0f921"
            ]
           ]
          },
          "colorway": [
           "#636efa",
           "#EF553B",
           "#00cc96",
           "#ab63fa",
           "#FFA15A",
           "#19d3f3",
           "#FF6692",
           "#B6E880",
           "#FF97FF",
           "#FECB52"
          ],
          "font": {
           "color": "#2a3f5f"
          },
          "geo": {
           "bgcolor": "white",
           "lakecolor": "white",
           "landcolor": "#E5ECF6",
           "showlakes": true,
           "showland": true,
           "subunitcolor": "white"
          },
          "hoverlabel": {
           "align": "left"
          },
          "hovermode": "closest",
          "mapbox": {
           "style": "light"
          },
          "paper_bgcolor": "white",
          "plot_bgcolor": "#E5ECF6",
          "polar": {
           "angularaxis": {
            "gridcolor": "white",
            "linecolor": "white",
            "ticks": ""
           },
           "bgcolor": "#E5ECF6",
           "radialaxis": {
            "gridcolor": "white",
            "linecolor": "white",
            "ticks": ""
           }
          },
          "scene": {
           "xaxis": {
            "backgroundcolor": "#E5ECF6",
            "gridcolor": "white",
            "gridwidth": 2,
            "linecolor": "white",
            "showbackground": true,
            "ticks": "",
            "zerolinecolor": "white"
           },
           "yaxis": {
            "backgroundcolor": "#E5ECF6",
            "gridcolor": "white",
            "gridwidth": 2,
            "linecolor": "white",
            "showbackground": true,
            "ticks": "",
            "zerolinecolor": "white"
           },
           "zaxis": {
            "backgroundcolor": "#E5ECF6",
            "gridcolor": "white",
            "gridwidth": 2,
            "linecolor": "white",
            "showbackground": true,
            "ticks": "",
            "zerolinecolor": "white"
           }
          },
          "shapedefaults": {
           "line": {
            "color": "#2a3f5f"
           }
          },
          "ternary": {
           "aaxis": {
            "gridcolor": "white",
            "linecolor": "white",
            "ticks": ""
           },
           "baxis": {
            "gridcolor": "white",
            "linecolor": "white",
            "ticks": ""
           },
           "bgcolor": "#E5ECF6",
           "caxis": {
            "gridcolor": "white",
            "linecolor": "white",
            "ticks": ""
           }
          },
          "title": {
           "x": 0.05
          },
          "xaxis": {
           "automargin": true,
           "gridcolor": "white",
           "linecolor": "white",
           "ticks": "",
           "title": {
            "standoff": 15
           },
           "zerolinecolor": "white",
           "zerolinewidth": 2
          },
          "yaxis": {
           "automargin": true,
           "gridcolor": "white",
           "linecolor": "white",
           "ticks": "",
           "title": {
            "standoff": 15
           },
           "zerolinecolor": "white",
           "zerolinewidth": 2
          }
         }
        },
        "title": {
         "text": "Word Count"
        },
        "xaxis": {
         "title": {
          "text": "Sender"
         }
        },
        "yaxis": {
         "title": {
          "text": "Words"
         }
        }
       }
      }
     },
     "metadata": {},
     "output_type": "display_data"
    }
   ],
   "source": [
    "fig = go.Figure(data=[go.Bar(\n",
    "            x=word_count.index, y=word_count['word_count'],\n",
    "            text=word_count['word_count'],\n",
    "            textposition='auto',\n",
    "        )])\n",
    "\n",
    "fig.update_layout(\n",
    "    title=\"Word Count\",\n",
    "    xaxis_title=\"Sender\",\n",
    "    yaxis_title=\"Words\",\n",
    ")\n",
    "\n",
    "fig.show()"
   ]
  },
  {
   "cell_type": "code",
   "execution_count": 66,
   "metadata": {},
   "outputs": [],
   "source": [
    "text_count.loc[text_count['hahas_sent'] > 5]['hahas_sent'].sort_values(ascending=False).to_json(\"hahas-sent.json\")"
   ]
  },
  {
   "cell_type": "code",
   "execution_count": 67,
   "metadata": {},
   "outputs": [
    {
     "data": {
      "application/vnd.plotly.v1+json": {
       "config": {
        "plotlyServerURL": "https://plot.ly"
       },
       "data": [
        {
         "text": [
          663,
          662,
          610,
          536,
          478,
          364,
          293,
          246,
          203,
          192,
          136,
          38,
          30,
          30,
          29,
          22,
          17,
          11,
          7,
          7,
          5,
          3,
          2,
          1,
          1,
          1,
          1,
          0,
          0,
          0,
          0,
          0,
          0,
          0,
          0,
          0,
          0,
          0
         ],
         "type": "bar",
         "x": [
          "Jack",
          "Riley",
          "Nick",
          "Ben",
          "Ryan",
          "Austin",
          "Igor",
          "Henry",
          "Krystiana",
          "+14167995612",
          "John",
          "Ali",
          "Eden",
          "melaniesmyth13@gmail.com",
          "Darcy",
          "Nicole",
          "Greg",
          "+12899330628",
          "Rayhan",
          "+16135581208",
          "Michaela",
          "stephazel108@gmail.com",
          "Ryan 2",
          "Ernesto",
          "hashtagyoloswagbeef@gmail.com",
          "+16475394413",
          "+18103048098",
          "+16477019241",
          "+16138093940",
          "+16139797154",
          "M****",
          "josh.maycock@yahoo.com",
          "+16138594804",
          "Mel",
          "Tommy",
          "+16479917601",
          "+13432045724",
          "+15197192478"
         ],
         "y": [
          663,
          662,
          610,
          536,
          478,
          364,
          293,
          246,
          203,
          192,
          136,
          38,
          30,
          30,
          29,
          22,
          17,
          11,
          7,
          7,
          5,
          3,
          2,
          1,
          1,
          1,
          1,
          0,
          0,
          0,
          0,
          0,
          0,
          0,
          0,
          0,
          0,
          0
         ]
        }
       ],
       "layout": {
        "template": {
         "data": {
          "bar": [
           {
            "error_x": {
             "color": "#2a3f5f"
            },
            "error_y": {
             "color": "#2a3f5f"
            },
            "marker": {
             "line": {
              "color": "#E5ECF6",
              "width": 0.5
             },
             "pattern": {
              "fillmode": "overlay",
              "size": 10,
              "solidity": 0.2
             }
            },
            "type": "bar"
           }
          ],
          "barpolar": [
           {
            "marker": {
             "line": {
              "color": "#E5ECF6",
              "width": 0.5
             },
             "pattern": {
              "fillmode": "overlay",
              "size": 10,
              "solidity": 0.2
             }
            },
            "type": "barpolar"
           }
          ],
          "carpet": [
           {
            "aaxis": {
             "endlinecolor": "#2a3f5f",
             "gridcolor": "white",
             "linecolor": "white",
             "minorgridcolor": "white",
             "startlinecolor": "#2a3f5f"
            },
            "baxis": {
             "endlinecolor": "#2a3f5f",
             "gridcolor": "white",
             "linecolor": "white",
             "minorgridcolor": "white",
             "startlinecolor": "#2a3f5f"
            },
            "type": "carpet"
           }
          ],
          "choropleth": [
           {
            "colorbar": {
             "outlinewidth": 0,
             "ticks": ""
            },
            "type": "choropleth"
           }
          ],
          "contour": [
           {
            "colorbar": {
             "outlinewidth": 0,
             "ticks": ""
            },
            "colorscale": [
             [
              0,
              "#0d0887"
             ],
             [
              0.1111111111111111,
              "#46039f"
             ],
             [
              0.2222222222222222,
              "#7201a8"
             ],
             [
              0.3333333333333333,
              "#9c179e"
             ],
             [
              0.4444444444444444,
              "#bd3786"
             ],
             [
              0.5555555555555556,
              "#d8576b"
             ],
             [
              0.6666666666666666,
              "#ed7953"
             ],
             [
              0.7777777777777778,
              "#fb9f3a"
             ],
             [
              0.8888888888888888,
              "#fdca26"
             ],
             [
              1,
              "#f0f921"
             ]
            ],
            "type": "contour"
           }
          ],
          "contourcarpet": [
           {
            "colorbar": {
             "outlinewidth": 0,
             "ticks": ""
            },
            "type": "contourcarpet"
           }
          ],
          "heatmap": [
           {
            "colorbar": {
             "outlinewidth": 0,
             "ticks": ""
            },
            "colorscale": [
             [
              0,
              "#0d0887"
             ],
             [
              0.1111111111111111,
              "#46039f"
             ],
             [
              0.2222222222222222,
              "#7201a8"
             ],
             [
              0.3333333333333333,
              "#9c179e"
             ],
             [
              0.4444444444444444,
              "#bd3786"
             ],
             [
              0.5555555555555556,
              "#d8576b"
             ],
             [
              0.6666666666666666,
              "#ed7953"
             ],
             [
              0.7777777777777778,
              "#fb9f3a"
             ],
             [
              0.8888888888888888,
              "#fdca26"
             ],
             [
              1,
              "#f0f921"
             ]
            ],
            "type": "heatmap"
           }
          ],
          "heatmapgl": [
           {
            "colorbar": {
             "outlinewidth": 0,
             "ticks": ""
            },
            "colorscale": [
             [
              0,
              "#0d0887"
             ],
             [
              0.1111111111111111,
              "#46039f"
             ],
             [
              0.2222222222222222,
              "#7201a8"
             ],
             [
              0.3333333333333333,
              "#9c179e"
             ],
             [
              0.4444444444444444,
              "#bd3786"
             ],
             [
              0.5555555555555556,
              "#d8576b"
             ],
             [
              0.6666666666666666,
              "#ed7953"
             ],
             [
              0.7777777777777778,
              "#fb9f3a"
             ],
             [
              0.8888888888888888,
              "#fdca26"
             ],
             [
              1,
              "#f0f921"
             ]
            ],
            "type": "heatmapgl"
           }
          ],
          "histogram": [
           {
            "marker": {
             "pattern": {
              "fillmode": "overlay",
              "size": 10,
              "solidity": 0.2
             }
            },
            "type": "histogram"
           }
          ],
          "histogram2d": [
           {
            "colorbar": {
             "outlinewidth": 0,
             "ticks": ""
            },
            "colorscale": [
             [
              0,
              "#0d0887"
             ],
             [
              0.1111111111111111,
              "#46039f"
             ],
             [
              0.2222222222222222,
              "#7201a8"
             ],
             [
              0.3333333333333333,
              "#9c179e"
             ],
             [
              0.4444444444444444,
              "#bd3786"
             ],
             [
              0.5555555555555556,
              "#d8576b"
             ],
             [
              0.6666666666666666,
              "#ed7953"
             ],
             [
              0.7777777777777778,
              "#fb9f3a"
             ],
             [
              0.8888888888888888,
              "#fdca26"
             ],
             [
              1,
              "#f0f921"
             ]
            ],
            "type": "histogram2d"
           }
          ],
          "histogram2dcontour": [
           {
            "colorbar": {
             "outlinewidth": 0,
             "ticks": ""
            },
            "colorscale": [
             [
              0,
              "#0d0887"
             ],
             [
              0.1111111111111111,
              "#46039f"
             ],
             [
              0.2222222222222222,
              "#7201a8"
             ],
             [
              0.3333333333333333,
              "#9c179e"
             ],
             [
              0.4444444444444444,
              "#bd3786"
             ],
             [
              0.5555555555555556,
              "#d8576b"
             ],
             [
              0.6666666666666666,
              "#ed7953"
             ],
             [
              0.7777777777777778,
              "#fb9f3a"
             ],
             [
              0.8888888888888888,
              "#fdca26"
             ],
             [
              1,
              "#f0f921"
             ]
            ],
            "type": "histogram2dcontour"
           }
          ],
          "mesh3d": [
           {
            "colorbar": {
             "outlinewidth": 0,
             "ticks": ""
            },
            "type": "mesh3d"
           }
          ],
          "parcoords": [
           {
            "line": {
             "colorbar": {
              "outlinewidth": 0,
              "ticks": ""
             }
            },
            "type": "parcoords"
           }
          ],
          "pie": [
           {
            "automargin": true,
            "type": "pie"
           }
          ],
          "scatter": [
           {
            "fillpattern": {
             "fillmode": "overlay",
             "size": 10,
             "solidity": 0.2
            },
            "type": "scatter"
           }
          ],
          "scatter3d": [
           {
            "line": {
             "colorbar": {
              "outlinewidth": 0,
              "ticks": ""
             }
            },
            "marker": {
             "colorbar": {
              "outlinewidth": 0,
              "ticks": ""
             }
            },
            "type": "scatter3d"
           }
          ],
          "scattercarpet": [
           {
            "marker": {
             "colorbar": {
              "outlinewidth": 0,
              "ticks": ""
             }
            },
            "type": "scattercarpet"
           }
          ],
          "scattergeo": [
           {
            "marker": {
             "colorbar": {
              "outlinewidth": 0,
              "ticks": ""
             }
            },
            "type": "scattergeo"
           }
          ],
          "scattergl": [
           {
            "marker": {
             "colorbar": {
              "outlinewidth": 0,
              "ticks": ""
             }
            },
            "type": "scattergl"
           }
          ],
          "scattermapbox": [
           {
            "marker": {
             "colorbar": {
              "outlinewidth": 0,
              "ticks": ""
             }
            },
            "type": "scattermapbox"
           }
          ],
          "scatterpolar": [
           {
            "marker": {
             "colorbar": {
              "outlinewidth": 0,
              "ticks": ""
             }
            },
            "type": "scatterpolar"
           }
          ],
          "scatterpolargl": [
           {
            "marker": {
             "colorbar": {
              "outlinewidth": 0,
              "ticks": ""
             }
            },
            "type": "scatterpolargl"
           }
          ],
          "scatterternary": [
           {
            "marker": {
             "colorbar": {
              "outlinewidth": 0,
              "ticks": ""
             }
            },
            "type": "scatterternary"
           }
          ],
          "surface": [
           {
            "colorbar": {
             "outlinewidth": 0,
             "ticks": ""
            },
            "colorscale": [
             [
              0,
              "#0d0887"
             ],
             [
              0.1111111111111111,
              "#46039f"
             ],
             [
              0.2222222222222222,
              "#7201a8"
             ],
             [
              0.3333333333333333,
              "#9c179e"
             ],
             [
              0.4444444444444444,
              "#bd3786"
             ],
             [
              0.5555555555555556,
              "#d8576b"
             ],
             [
              0.6666666666666666,
              "#ed7953"
             ],
             [
              0.7777777777777778,
              "#fb9f3a"
             ],
             [
              0.8888888888888888,
              "#fdca26"
             ],
             [
              1,
              "#f0f921"
             ]
            ],
            "type": "surface"
           }
          ],
          "table": [
           {
            "cells": {
             "fill": {
              "color": "#EBF0F8"
             },
             "line": {
              "color": "white"
             }
            },
            "header": {
             "fill": {
              "color": "#C8D4E3"
             },
             "line": {
              "color": "white"
             }
            },
            "type": "table"
           }
          ]
         },
         "layout": {
          "annotationdefaults": {
           "arrowcolor": "#2a3f5f",
           "arrowhead": 0,
           "arrowwidth": 1
          },
          "autotypenumbers": "strict",
          "coloraxis": {
           "colorbar": {
            "outlinewidth": 0,
            "ticks": ""
           }
          },
          "colorscale": {
           "diverging": [
            [
             0,
             "#8e0152"
            ],
            [
             0.1,
             "#c51b7d"
            ],
            [
             0.2,
             "#de77ae"
            ],
            [
             0.3,
             "#f1b6da"
            ],
            [
             0.4,
             "#fde0ef"
            ],
            [
             0.5,
             "#f7f7f7"
            ],
            [
             0.6,
             "#e6f5d0"
            ],
            [
             0.7,
             "#b8e186"
            ],
            [
             0.8,
             "#7fbc41"
            ],
            [
             0.9,
             "#4d9221"
            ],
            [
             1,
             "#276419"
            ]
           ],
           "sequential": [
            [
             0,
             "#0d0887"
            ],
            [
             0.1111111111111111,
             "#46039f"
            ],
            [
             0.2222222222222222,
             "#7201a8"
            ],
            [
             0.3333333333333333,
             "#9c179e"
            ],
            [
             0.4444444444444444,
             "#bd3786"
            ],
            [
             0.5555555555555556,
             "#d8576b"
            ],
            [
             0.6666666666666666,
             "#ed7953"
            ],
            [
             0.7777777777777778,
             "#fb9f3a"
            ],
            [
             0.8888888888888888,
             "#fdca26"
            ],
            [
             1,
             "#f0f921"
            ]
           ],
           "sequentialminus": [
            [
             0,
             "#0d0887"
            ],
            [
             0.1111111111111111,
             "#46039f"
            ],
            [
             0.2222222222222222,
             "#7201a8"
            ],
            [
             0.3333333333333333,
             "#9c179e"
            ],
            [
             0.4444444444444444,
             "#bd3786"
            ],
            [
             0.5555555555555556,
             "#d8576b"
            ],
            [
             0.6666666666666666,
             "#ed7953"
            ],
            [
             0.7777777777777778,
             "#fb9f3a"
            ],
            [
             0.8888888888888888,
             "#fdca26"
            ],
            [
             1,
             "#f0f921"
            ]
           ]
          },
          "colorway": [
           "#636efa",
           "#EF553B",
           "#00cc96",
           "#ab63fa",
           "#FFA15A",
           "#19d3f3",
           "#FF6692",
           "#B6E880",
           "#FF97FF",
           "#FECB52"
          ],
          "font": {
           "color": "#2a3f5f"
          },
          "geo": {
           "bgcolor": "white",
           "lakecolor": "white",
           "landcolor": "#E5ECF6",
           "showlakes": true,
           "showland": true,
           "subunitcolor": "white"
          },
          "hoverlabel": {
           "align": "left"
          },
          "hovermode": "closest",
          "mapbox": {
           "style": "light"
          },
          "paper_bgcolor": "white",
          "plot_bgcolor": "#E5ECF6",
          "polar": {
           "angularaxis": {
            "gridcolor": "white",
            "linecolor": "white",
            "ticks": ""
           },
           "bgcolor": "#E5ECF6",
           "radialaxis": {
            "gridcolor": "white",
            "linecolor": "white",
            "ticks": ""
           }
          },
          "scene": {
           "xaxis": {
            "backgroundcolor": "#E5ECF6",
            "gridcolor": "white",
            "gridwidth": 2,
            "linecolor": "white",
            "showbackground": true,
            "ticks": "",
            "zerolinecolor": "white"
           },
           "yaxis": {
            "backgroundcolor": "#E5ECF6",
            "gridcolor": "white",
            "gridwidth": 2,
            "linecolor": "white",
            "showbackground": true,
            "ticks": "",
            "zerolinecolor": "white"
           },
           "zaxis": {
            "backgroundcolor": "#E5ECF6",
            "gridcolor": "white",
            "gridwidth": 2,
            "linecolor": "white",
            "showbackground": true,
            "ticks": "",
            "zerolinecolor": "white"
           }
          },
          "shapedefaults": {
           "line": {
            "color": "#2a3f5f"
           }
          },
          "ternary": {
           "aaxis": {
            "gridcolor": "white",
            "linecolor": "white",
            "ticks": ""
           },
           "baxis": {
            "gridcolor": "white",
            "linecolor": "white",
            "ticks": ""
           },
           "bgcolor": "#E5ECF6",
           "caxis": {
            "gridcolor": "white",
            "linecolor": "white",
            "ticks": ""
           }
          },
          "title": {
           "x": 0.05
          },
          "xaxis": {
           "automargin": true,
           "gridcolor": "white",
           "linecolor": "white",
           "ticks": "",
           "title": {
            "standoff": 15
           },
           "zerolinecolor": "white",
           "zerolinewidth": 2
          },
          "yaxis": {
           "automargin": true,
           "gridcolor": "white",
           "linecolor": "white",
           "ticks": "",
           "title": {
            "standoff": 15
           },
           "zerolinecolor": "white",
           "zerolinewidth": 2
          }
         }
        },
        "title": {
         "text": "Hahas Sent"
        },
        "xaxis": {
         "title": {
          "text": "Sender"
         }
        },
        "yaxis": {
         "title": {
          "text": "Haha Count"
         }
        }
       }
      }
     },
     "metadata": {},
     "output_type": "display_data"
    }
   ],
   "source": [
    "fig = go.Figure(data=[go.Bar(\n",
    "            x=text_count['hahas_sent'].sort_values(ascending=False).index, y=text_count['hahas_sent'].sort_values(ascending=False),\n",
    "            text=text_count['hahas_sent'].sort_values(ascending=False),\n",
    "            textposition='auto',\n",
    "        )])\n",
    "\n",
    "fig.update_layout(\n",
    "    title=\"Hahas Sent\",\n",
    "    xaxis_title=\"Sender\",\n",
    "    yaxis_title=\"Haha Count\",\n",
    ")\n",
    "\n",
    "fig.show()"
   ]
  },
  {
   "cell_type": "code",
   "execution_count": 40,
   "metadata": {},
   "outputs": [
    {
     "data": {
      "text/plain": [
       "sender\n",
       "Ali                              1.590909\n",
       "Greg                             0.889764\n",
       "Henry                            0.680000\n",
       "John                             0.646718\n",
       "Darcy                            0.617978\n",
       "melaniesmyth13@gmail.com         0.616541\n",
       "Ryan                             0.605835\n",
       "Jack                             0.587193\n",
       "hashtagyoloswagbeef@gmail.com    0.561338\n",
       "Rayhan                           0.555556\n",
       "Igor                             0.490640\n",
       "Eden                             0.476923\n",
       "josh.maycock@yahoo.com           0.463415\n",
       "Ben                              0.454893\n",
       "Nick                             0.437100\n",
       "Riley                            0.382727\n",
       "+14167995612                     0.319859\n",
       "Austin                           0.315186\n",
       "+12899330628                     0.298246\n",
       "Ernesto                          0.254545\n",
       "Krystiana                        0.195093\n",
       "Nicole                           0.111111\n",
       "+16475394413                     0.086957\n",
       "dtype: float64"
      ]
     },
     "execution_count": 40,
     "metadata": {},
     "output_type": "execute_result"
    }
   ],
   "source": [
    "(text_count.loc[text_count['messages'] > 5]['reactions_recieved'] / text_count.loc[text_count['messages'] > 5]['messages']).sort_values(ascending=False)"
   ]
  },
  {
   "cell_type": "code",
   "execution_count": 41,
   "metadata": {},
   "outputs": [
    {
     "data": {
      "text/html": [
       "<div>\n",
       "<style scoped>\n",
       "    .dataframe tbody tr th:only-of-type {\n",
       "        vertical-align: middle;\n",
       "    }\n",
       "\n",
       "    .dataframe tbody tr th {\n",
       "        vertical-align: top;\n",
       "    }\n",
       "\n",
       "    .dataframe thead th {\n",
       "        text-align: right;\n",
       "    }\n",
       "</style>\n",
       "<table border=\"1\" class=\"dataframe\">\n",
       "  <thead>\n",
       "    <tr style=\"text-align: right;\">\n",
       "      <th></th>\n",
       "      <th>texts</th>\n",
       "      <th>image</th>\n",
       "      <th>video</th>\n",
       "      <th>sender_number</th>\n",
       "      <th>reactions</th>\n",
       "      <th>reactions_recieved</th>\n",
       "      <th>sender</th>\n",
       "      <th>word_count</th>\n",
       "    </tr>\n",
       "    <tr>\n",
       "      <th>dates</th>\n",
       "      <th></th>\n",
       "      <th></th>\n",
       "      <th></th>\n",
       "      <th></th>\n",
       "      <th></th>\n",
       "      <th></th>\n",
       "      <th></th>\n",
       "      <th></th>\n",
       "    </tr>\n",
       "  </thead>\n",
       "  <tbody>\n",
       "    <tr>\n",
       "      <th>2025-01-03 12:49:48</th>\n",
       "      <td>￼￼￼￼￼￼￼￼￼￼￼￼￼￼￼￼￼￼￼I love you John! Happy bday💋</td>\n",
       "      <td>attachments/302/48848.jpeg</td>\n",
       "      <td>None</td>\n",
       "      <td>+16476226650</td>\n",
       "      <td>[]</td>\n",
       "      <td>0</td>\n",
       "      <td>Ali</td>\n",
       "      <td>6</td>\n",
       "    </tr>\n",
       "    <tr>\n",
       "      <th>2025-01-06 14:44:03</th>\n",
       "      <td>None</td>\n",
       "      <td>attachments/302/48966.jpeg</td>\n",
       "      <td>None</td>\n",
       "      <td>+16476226650</td>\n",
       "      <td>[Laughed by +14169857677, Laughed by Me]</td>\n",
       "      <td>2</td>\n",
       "      <td>Ali</td>\n",
       "      <td>1</td>\n",
       "    </tr>\n",
       "    <tr>\n",
       "      <th>2025-01-12 00:26:57</th>\n",
       "      <td>Maya!!! Maya the great</td>\n",
       "      <td>None</td>\n",
       "      <td>None</td>\n",
       "      <td>+16476226650</td>\n",
       "      <td>[]</td>\n",
       "      <td>0</td>\n",
       "      <td>Ali</td>\n",
       "      <td>5</td>\n",
       "    </tr>\n",
       "    <tr>\n",
       "      <th>2025-01-14 21:28:40</th>\n",
       "      <td>System attack</td>\n",
       "      <td>None</td>\n",
       "      <td>None</td>\n",
       "      <td>+16476226650</td>\n",
       "      <td>[]</td>\n",
       "      <td>0</td>\n",
       "      <td>Ali</td>\n",
       "      <td>2</td>\n",
       "    </tr>\n",
       "    <tr>\n",
       "      <th>2025-01-17 00:33:29</th>\n",
       "      <td>None</td>\n",
       "      <td>attachments/302/49872.jpeg</td>\n",
       "      <td>None</td>\n",
       "      <td>+16476226650</td>\n",
       "      <td>[Laughed by gregorynip@icloud.com, Laughed by ...</td>\n",
       "      <td>2</td>\n",
       "      <td>Ali</td>\n",
       "      <td>1</td>\n",
       "    </tr>\n",
       "    <tr>\n",
       "      <th>2025-01-23 10:57:48</th>\n",
       "      <td>Oh man… there’s no way it’s coming back</td>\n",
       "      <td>None</td>\n",
       "      <td>None</td>\n",
       "      <td>+16476226650</td>\n",
       "      <td>[Laughed by edenkettleson@gmail.com]</td>\n",
       "      <td>1</td>\n",
       "      <td>Ali</td>\n",
       "      <td>9</td>\n",
       "    </tr>\n",
       "    <tr>\n",
       "      <th>2025-01-23 16:52:30</th>\n",
       "      <td>thank you</td>\n",
       "      <td>None</td>\n",
       "      <td>None</td>\n",
       "      <td>+16476226650</td>\n",
       "      <td>[]</td>\n",
       "      <td>0</td>\n",
       "      <td>Ali</td>\n",
       "      <td>2</td>\n",
       "    </tr>\n",
       "    <tr>\n",
       "      <th>2025-01-23 16:52:46</th>\n",
       "      <td>also Ali is very commonly a guy's name too</td>\n",
       "      <td>None</td>\n",
       "      <td>None</td>\n",
       "      <td>+16476226650</td>\n",
       "      <td>[Emphasized by +14169857677]</td>\n",
       "      <td>1</td>\n",
       "      <td>Ali</td>\n",
       "      <td>9</td>\n",
       "    </tr>\n",
       "    <tr>\n",
       "      <th>2025-01-23 16:53:17</th>\n",
       "      <td>ever heard of him?</td>\n",
       "      <td>None</td>\n",
       "      <td>None</td>\n",
       "      <td>+16476226650</td>\n",
       "      <td>[]</td>\n",
       "      <td>0</td>\n",
       "      <td>Ali</td>\n",
       "      <td>4</td>\n",
       "    </tr>\n",
       "    <tr>\n",
       "      <th>2025-01-24 09:25:12</th>\n",
       "      <td>￼￼￼￼￼￼￼￼￼￼￼￼Happy birthday little Henry!!!!!!</td>\n",
       "      <td>attachments/302/50617.jpeg</td>\n",
       "      <td>None</td>\n",
       "      <td>+16476226650</td>\n",
       "      <td>[]</td>\n",
       "      <td>0</td>\n",
       "      <td>Ali</td>\n",
       "      <td>4</td>\n",
       "    </tr>\n",
       "    <tr>\n",
       "      <th>2025-01-25 18:11:34</th>\n",
       "      <td>This looks exactly like Luigi</td>\n",
       "      <td>None</td>\n",
       "      <td>None</td>\n",
       "      <td>+16476226650</td>\n",
       "      <td>[Laughed by Me, Laughed by +16138588921, Empha...</td>\n",
       "      <td>3</td>\n",
       "      <td>Ali</td>\n",
       "      <td>6</td>\n",
       "    </tr>\n",
       "    <tr>\n",
       "      <th>2025-01-26 13:24:38</th>\n",
       "      <td>None</td>\n",
       "      <td>None</td>\n",
       "      <td>None</td>\n",
       "      <td>+16476226650</td>\n",
       "      <td>[Laughed by +14163054266, Loved by +16138044084]</td>\n",
       "      <td>2</td>\n",
       "      <td>Ali</td>\n",
       "      <td>1</td>\n",
       "    </tr>\n",
       "    <tr>\n",
       "      <th>2025-01-26 13:59:56</th>\n",
       "      <td>None</td>\n",
       "      <td>None</td>\n",
       "      <td>None</td>\n",
       "      <td>+16476226650</td>\n",
       "      <td>[]</td>\n",
       "      <td>0</td>\n",
       "      <td>Ali</td>\n",
       "      <td>1</td>\n",
       "    </tr>\n",
       "    <tr>\n",
       "      <th>2025-01-26 13:59:57</th>\n",
       "      <td>None</td>\n",
       "      <td>None</td>\n",
       "      <td>None</td>\n",
       "      <td>+16476226650</td>\n",
       "      <td>[]</td>\n",
       "      <td>0</td>\n",
       "      <td>Ali</td>\n",
       "      <td>1</td>\n",
       "    </tr>\n",
       "    <tr>\n",
       "      <th>2025-01-27 11:43:53</th>\n",
       "      <td>Loving john is a treacherous journey full of e...</td>\n",
       "      <td>None</td>\n",
       "      <td>None</td>\n",
       "      <td>+16476226650</td>\n",
       "      <td>[Laughed by +16138044084, Laughed by +14168368...</td>\n",
       "      <td>6</td>\n",
       "      <td>Ali</td>\n",
       "      <td>10</td>\n",
       "    </tr>\n",
       "    <tr>\n",
       "      <th>2025-01-27 11:45:32</th>\n",
       "      <td>It’s a bonding experience</td>\n",
       "      <td>None</td>\n",
       "      <td>None</td>\n",
       "      <td>+16476226650</td>\n",
       "      <td>[]</td>\n",
       "      <td>0</td>\n",
       "      <td>Ali</td>\n",
       "      <td>5</td>\n",
       "    </tr>\n",
       "    <tr>\n",
       "      <th>2025-01-27 12:11:03</th>\n",
       "      <td>I feel crazy too much</td>\n",
       "      <td>None</td>\n",
       "      <td>None</td>\n",
       "      <td>+16476226650</td>\n",
       "      <td>[Laughed by +14163054266, Laughed by Me]</td>\n",
       "      <td>2</td>\n",
       "      <td>Ali</td>\n",
       "      <td>6</td>\n",
       "    </tr>\n",
       "    <tr>\n",
       "      <th>2025-01-27 19:35:12</th>\n",
       "      <td>None</td>\n",
       "      <td>None</td>\n",
       "      <td>attachments/302/51008.mov</td>\n",
       "      <td>+16476226650</td>\n",
       "      <td>[Laughed by +14163054266]</td>\n",
       "      <td>1</td>\n",
       "      <td>Ali</td>\n",
       "      <td>1</td>\n",
       "    </tr>\n",
       "    <tr>\n",
       "      <th>2025-01-27 19:35:13</th>\n",
       "      <td>Oh man Ernasty, idk about this one</td>\n",
       "      <td>None</td>\n",
       "      <td>None</td>\n",
       "      <td>+16476226650</td>\n",
       "      <td>[]</td>\n",
       "      <td>0</td>\n",
       "      <td>Ali</td>\n",
       "      <td>8</td>\n",
       "    </tr>\n",
       "    <tr>\n",
       "      <th>2025-01-27 21:56:43</th>\n",
       "      <td>Ok ernesto, don’t make me look bad</td>\n",
       "      <td>None</td>\n",
       "      <td>None</td>\n",
       "      <td>+16476226650</td>\n",
       "      <td>[]</td>\n",
       "      <td>0</td>\n",
       "      <td>Ali</td>\n",
       "      <td>8</td>\n",
       "    </tr>\n",
       "    <tr>\n",
       "      <th>2025-01-27 21:59:47</th>\n",
       "      <td>Is that real</td>\n",
       "      <td>None</td>\n",
       "      <td>None</td>\n",
       "      <td>+16476226650</td>\n",
       "      <td>[]</td>\n",
       "      <td>0</td>\n",
       "      <td>Ali</td>\n",
       "      <td>4</td>\n",
       "    </tr>\n",
       "    <tr>\n",
       "      <th>2025-01-27 22:12:41</th>\n",
       "      <td>None</td>\n",
       "      <td>attachments/302/51025.JPG</td>\n",
       "      <td>None</td>\n",
       "      <td>+16476226650</td>\n",
       "      <td>[Loved by +14168368964, Loved by +16136202840,...</td>\n",
       "      <td>3</td>\n",
       "      <td>Ali</td>\n",
       "      <td>1</td>\n",
       "    </tr>\n",
       "    <tr>\n",
       "      <th>2025-01-27 22:19:06</th>\n",
       "      <td>Elderly?</td>\n",
       "      <td>None</td>\n",
       "      <td>None</td>\n",
       "      <td>+16476226650</td>\n",
       "      <td>[Laughed by +15198782573]</td>\n",
       "      <td>1</td>\n",
       "      <td>Ali</td>\n",
       "      <td>2</td>\n",
       "    </tr>\n",
       "    <tr>\n",
       "      <th>2025-01-28 10:29:58</th>\n",
       "      <td>None</td>\n",
       "      <td>attachments/302/51058.jpeg</td>\n",
       "      <td>None</td>\n",
       "      <td>+16476226650</td>\n",
       "      <td>[Loved by Me]</td>\n",
       "      <td>1</td>\n",
       "      <td>Ali</td>\n",
       "      <td>1</td>\n",
       "    </tr>\n",
       "    <tr>\n",
       "      <th>2025-01-28 10:31:30</th>\n",
       "      <td>I resent that</td>\n",
       "      <td>None</td>\n",
       "      <td>None</td>\n",
       "      <td>+16476226650</td>\n",
       "      <td>[Laughed by +16138044084, Laughed by Me, Laugh...</td>\n",
       "      <td>3</td>\n",
       "      <td>Ali</td>\n",
       "      <td>3</td>\n",
       "    </tr>\n",
       "    <tr>\n",
       "      <th>2025-01-28 15:24:31</th>\n",
       "      <td>I’m so glad I’m not Johns friend. I would hate...</td>\n",
       "      <td>None</td>\n",
       "      <td>None</td>\n",
       "      <td>+16476226650</td>\n",
       "      <td>[Laughed by +14163054266, Laughed by +16134004...</td>\n",
       "      <td>6</td>\n",
       "      <td>Ali</td>\n",
       "      <td>16</td>\n",
       "    </tr>\n",
       "    <tr>\n",
       "      <th>2025-01-28 15:29:56</th>\n",
       "      <td>Behind the scenes of john holing</td>\n",
       "      <td>attachments/302/51117.gif</td>\n",
       "      <td>attachments/302/51116.mov</td>\n",
       "      <td>+16476226650</td>\n",
       "      <td>[Laughed by +14169857677, Laughed by +14163054...</td>\n",
       "      <td>4</td>\n",
       "      <td>Ali</td>\n",
       "      <td>6</td>\n",
       "    </tr>\n",
       "    <tr>\n",
       "      <th>2025-01-28 16:02:09</th>\n",
       "      <td>None</td>\n",
       "      <td>None</td>\n",
       "      <td>None</td>\n",
       "      <td>+16476226650</td>\n",
       "      <td>[Laughed by Me, Laughed by +16138588921, Laugh...</td>\n",
       "      <td>5</td>\n",
       "      <td>Ali</td>\n",
       "      <td>1</td>\n",
       "    </tr>\n",
       "    <tr>\n",
       "      <th>2025-01-28 16:12:31</th>\n",
       "      <td>I was about to do the exact same thing eden</td>\n",
       "      <td>None</td>\n",
       "      <td>None</td>\n",
       "      <td>+16476226650</td>\n",
       "      <td>[]</td>\n",
       "      <td>0</td>\n",
       "      <td>Ali</td>\n",
       "      <td>11</td>\n",
       "    </tr>\n",
       "    <tr>\n",
       "      <th>2025-01-29 12:27:09</th>\n",
       "      <td>None</td>\n",
       "      <td>None</td>\n",
       "      <td>None</td>\n",
       "      <td>+16476226650</td>\n",
       "      <td>[]</td>\n",
       "      <td>0</td>\n",
       "      <td>Ali</td>\n",
       "      <td>1</td>\n",
       "    </tr>\n",
       "    <tr>\n",
       "      <th>2025-01-29 13:04:42</th>\n",
       "      <td>None</td>\n",
       "      <td>None</td>\n",
       "      <td>None</td>\n",
       "      <td>+16476226650</td>\n",
       "      <td>[]</td>\n",
       "      <td>0</td>\n",
       "      <td>Ali</td>\n",
       "      <td>1</td>\n",
       "    </tr>\n",
       "    <tr>\n",
       "      <th>2025-01-29 17:10:17</th>\n",
       "      <td>Hello</td>\n",
       "      <td>None</td>\n",
       "      <td>None</td>\n",
       "      <td>+16476226650</td>\n",
       "      <td>[]</td>\n",
       "      <td>0</td>\n",
       "      <td>Ali</td>\n",
       "      <td>1</td>\n",
       "    </tr>\n",
       "    <tr>\n",
       "      <th>2025-01-29 17:10:40</th>\n",
       "      <td>None</td>\n",
       "      <td>attachments/302/51234.png</td>\n",
       "      <td>None</td>\n",
       "      <td>+16476226650</td>\n",
       "      <td>[Loved by +14169857677]</td>\n",
       "      <td>1</td>\n",
       "      <td>Ali</td>\n",
       "      <td>1</td>\n",
       "    </tr>\n",
       "    <tr>\n",
       "      <th>2025-01-30 12:35:04</th>\n",
       "      <td>He’s so close here . Smh</td>\n",
       "      <td>None</td>\n",
       "      <td>None</td>\n",
       "      <td>+16476226650</td>\n",
       "      <td>[Laughed by edenkettleson@gmail.com]</td>\n",
       "      <td>1</td>\n",
       "      <td>Ali</td>\n",
       "      <td>7</td>\n",
       "    </tr>\n",
       "    <tr>\n",
       "      <th>2025-01-30 12:18:55</th>\n",
       "      <td>￼Good afternoon</td>\n",
       "      <td>attachments/302/51289.jpeg</td>\n",
       "      <td>None</td>\n",
       "      <td>+16476226650</td>\n",
       "      <td>[Loved by +14163054266, Loved by +14163054266]</td>\n",
       "      <td>2</td>\n",
       "      <td>Ali</td>\n",
       "      <td>2</td>\n",
       "    </tr>\n",
       "    <tr>\n",
       "      <th>2025-01-30 12:21:36</th>\n",
       "      <td>Omg… Ryan stop!!! I’m a girl and I’m taken</td>\n",
       "      <td>attachments/302/51303.JPG</td>\n",
       "      <td>None</td>\n",
       "      <td>+16476226650</td>\n",
       "      <td>[Laughed by +16138588921, Laughed by +14163054...</td>\n",
       "      <td>3</td>\n",
       "      <td>Ali</td>\n",
       "      <td>10</td>\n",
       "    </tr>\n",
       "    <tr>\n",
       "      <th>2025-01-30 12:23:56</th>\n",
       "      <td>Elevated Darcy’s crate</td>\n",
       "      <td>None</td>\n",
       "      <td>None</td>\n",
       "      <td>+16476226650</td>\n",
       "      <td>[Laughed by +16133559273, Laughed by +16136202...</td>\n",
       "      <td>3</td>\n",
       "      <td>Ali</td>\n",
       "      <td>3</td>\n",
       "    </tr>\n",
       "    <tr>\n",
       "      <th>2025-01-30 12:30:15</th>\n",
       "      <td>I am currently working at a company called Fab...</td>\n",
       "      <td>None</td>\n",
       "      <td>None</td>\n",
       "      <td>+16476226650</td>\n",
       "      <td>[Loved by +16138044084, Loved by +16133559273,...</td>\n",
       "      <td>4</td>\n",
       "      <td>Ali</td>\n",
       "      <td>20</td>\n",
       "    </tr>\n",
       "    <tr>\n",
       "      <th>2025-01-30 12:34:37</th>\n",
       "      <td>Infancy. Its hard. You can tell at times he re...</td>\n",
       "      <td>None</td>\n",
       "      <td>None</td>\n",
       "      <td>+16476226650</td>\n",
       "      <td>[Laughed by itsjaxonmusic@gmail.com, Laughed b...</td>\n",
       "      <td>3</td>\n",
       "      <td>Ali</td>\n",
       "      <td>18</td>\n",
       "    </tr>\n",
       "    <tr>\n",
       "      <th>2025-01-30 12:37:33</th>\n",
       "      <td>This chat is actually so freaking funny. I was...</td>\n",
       "      <td>None</td>\n",
       "      <td>None</td>\n",
       "      <td>+16476226650</td>\n",
       "      <td>[Laughed by itsjaxonmusic@gmail.com, Laughed b...</td>\n",
       "      <td>3</td>\n",
       "      <td>Ali</td>\n",
       "      <td>19</td>\n",
       "    </tr>\n",
       "    <tr>\n",
       "      <th>2025-01-30 12:39:10</th>\n",
       "      <td>I looked up “family guy” in my messages</td>\n",
       "      <td>None</td>\n",
       "      <td>None</td>\n",
       "      <td>+16476226650</td>\n",
       "      <td>[]</td>\n",
       "      <td>0</td>\n",
       "      <td>Ali</td>\n",
       "      <td>9</td>\n",
       "    </tr>\n",
       "    <tr>\n",
       "      <th>2025-01-30 14:41:57</th>\n",
       "      <td>Or Ali - not my family</td>\n",
       "      <td>None</td>\n",
       "      <td>None</td>\n",
       "      <td>+16476226650</td>\n",
       "      <td>[Liked by +14169857677]</td>\n",
       "      <td>1</td>\n",
       "      <td>Ali</td>\n",
       "      <td>7</td>\n",
       "    </tr>\n",
       "    <tr>\n",
       "      <th>2025-01-30 14:44:09</th>\n",
       "      <td>Oh. Sorry. I don’t see you like that</td>\n",
       "      <td>None</td>\n",
       "      <td>None</td>\n",
       "      <td>+16476226650</td>\n",
       "      <td>[Laughed by +16138588921, Laughed by +14163054...</td>\n",
       "      <td>4</td>\n",
       "      <td>Ali</td>\n",
       "      <td>9</td>\n",
       "    </tr>\n",
       "    <tr>\n",
       "      <th>2025-01-30 14:53:02</th>\n",
       "      <td>LOL</td>\n",
       "      <td>None</td>\n",
       "      <td>None</td>\n",
       "      <td>+16476226650</td>\n",
       "      <td>[]</td>\n",
       "      <td>0</td>\n",
       "      <td>Ali</td>\n",
       "      <td>1</td>\n",
       "    </tr>\n",
       "    <tr>\n",
       "      <th>2025-01-30 18:01:59</th>\n",
       "      <td>Johns middle name is Ryan</td>\n",
       "      <td>None</td>\n",
       "      <td>None</td>\n",
       "      <td>+16476226650</td>\n",
       "      <td>[]</td>\n",
       "      <td>0</td>\n",
       "      <td>Ali</td>\n",
       "      <td>6</td>\n",
       "    </tr>\n",
       "    <tr>\n",
       "      <th>2025-01-30 22:41:59</th>\n",
       "      <td>This is Ryan’s type</td>\n",
       "      <td>None</td>\n",
       "      <td>None</td>\n",
       "      <td>+16476226650</td>\n",
       "      <td>[Emphasized by +16134004076, Laughed by +14163...</td>\n",
       "      <td>2</td>\n",
       "      <td>Ali</td>\n",
       "      <td>5</td>\n",
       "    </tr>\n",
       "  </tbody>\n",
       "</table>\n",
       "</div>"
      ],
      "text/plain": [
       "                                                                 texts  \\\n",
       "dates                                                                    \n",
       "2025-01-03 12:49:48    ￼￼￼￼￼￼￼￼￼￼￼￼￼￼￼￼￼￼￼I love you John! Happy bday💋   \n",
       "2025-01-06 14:44:03                                               None   \n",
       "2025-01-12 00:26:57                            Maya!!! Maya the great    \n",
       "2025-01-14 21:28:40                                      System attack   \n",
       "2025-01-17 00:33:29                                               None   \n",
       "2025-01-23 10:57:48           Oh man… there’s no way it’s coming back    \n",
       "2025-01-23 16:52:30                                          thank you   \n",
       "2025-01-23 16:52:46         also Ali is very commonly a guy's name too   \n",
       "2025-01-23 16:53:17                                 ever heard of him?   \n",
       "2025-01-24 09:25:12      ￼￼￼￼￼￼￼￼￼￼￼￼Happy birthday little Henry!!!!!!   \n",
       "2025-01-25 18:11:34                     This looks exactly like Luigi    \n",
       "2025-01-26 13:24:38                                               None   \n",
       "2025-01-26 13:59:56                                               None   \n",
       "2025-01-26 13:59:57                                               None   \n",
       "2025-01-27 11:43:53  Loving john is a treacherous journey full of e...   \n",
       "2025-01-27 11:45:32                         It’s a bonding experience    \n",
       "2025-01-27 12:11:03                             I feel crazy too much    \n",
       "2025-01-27 19:35:12                                               None   \n",
       "2025-01-27 19:35:13                Oh man Ernasty, idk about this one    \n",
       "2025-01-27 21:56:43                Ok ernesto, don’t make me look bad    \n",
       "2025-01-27 21:59:47                                      Is that real    \n",
       "2025-01-27 22:12:41                                               None   \n",
       "2025-01-27 22:19:06                                          Elderly?    \n",
       "2025-01-28 10:29:58                                               None   \n",
       "2025-01-28 10:31:30                                      I resent that   \n",
       "2025-01-28 15:24:31  I’m so glad I’m not Johns friend. I would hate...   \n",
       "2025-01-28 15:29:56                   Behind the scenes of john holing   \n",
       "2025-01-28 16:02:09                                               None   \n",
       "2025-01-28 16:12:31       I was about to do the exact same thing eden    \n",
       "2025-01-29 12:27:09                                               None   \n",
       "2025-01-29 13:04:42                                               None   \n",
       "2025-01-29 17:10:17                                              Hello   \n",
       "2025-01-29 17:10:40                                               None   \n",
       "2025-01-30 12:35:04                          He’s so close here . Smh    \n",
       "2025-01-30 12:18:55                                    ￼Good afternoon   \n",
       "2025-01-30 12:21:36        Omg… Ryan stop!!! I’m a girl and I’m taken    \n",
       "2025-01-30 12:23:56                             Elevated Darcy’s crate   \n",
       "2025-01-30 12:30:15  I am currently working at a company called Fab...   \n",
       "2025-01-30 12:34:37  Infancy. Its hard. You can tell at times he re...   \n",
       "2025-01-30 12:37:33  This chat is actually so freaking funny. I was...   \n",
       "2025-01-30 12:39:10           I looked up “family guy” in my messages    \n",
       "2025-01-30 14:41:57                            Or Ali - not my family    \n",
       "2025-01-30 14:44:09              Oh. Sorry. I don’t see you like that    \n",
       "2025-01-30 14:53:02                                                LOL   \n",
       "2025-01-30 18:01:59                         Johns middle name is Ryan    \n",
       "2025-01-30 22:41:59                               This is Ryan’s type    \n",
       "\n",
       "                                          image                      video  \\\n",
       "dates                                                                        \n",
       "2025-01-03 12:49:48  attachments/302/48848.jpeg                       None   \n",
       "2025-01-06 14:44:03  attachments/302/48966.jpeg                       None   \n",
       "2025-01-12 00:26:57                        None                       None   \n",
       "2025-01-14 21:28:40                        None                       None   \n",
       "2025-01-17 00:33:29  attachments/302/49872.jpeg                       None   \n",
       "2025-01-23 10:57:48                        None                       None   \n",
       "2025-01-23 16:52:30                        None                       None   \n",
       "2025-01-23 16:52:46                        None                       None   \n",
       "2025-01-23 16:53:17                        None                       None   \n",
       "2025-01-24 09:25:12  attachments/302/50617.jpeg                       None   \n",
       "2025-01-25 18:11:34                        None                       None   \n",
       "2025-01-26 13:24:38                        None                       None   \n",
       "2025-01-26 13:59:56                        None                       None   \n",
       "2025-01-26 13:59:57                        None                       None   \n",
       "2025-01-27 11:43:53                        None                       None   \n",
       "2025-01-27 11:45:32                        None                       None   \n",
       "2025-01-27 12:11:03                        None                       None   \n",
       "2025-01-27 19:35:12                        None  attachments/302/51008.mov   \n",
       "2025-01-27 19:35:13                        None                       None   \n",
       "2025-01-27 21:56:43                        None                       None   \n",
       "2025-01-27 21:59:47                        None                       None   \n",
       "2025-01-27 22:12:41   attachments/302/51025.JPG                       None   \n",
       "2025-01-27 22:19:06                        None                       None   \n",
       "2025-01-28 10:29:58  attachments/302/51058.jpeg                       None   \n",
       "2025-01-28 10:31:30                        None                       None   \n",
       "2025-01-28 15:24:31                        None                       None   \n",
       "2025-01-28 15:29:56   attachments/302/51117.gif  attachments/302/51116.mov   \n",
       "2025-01-28 16:02:09                        None                       None   \n",
       "2025-01-28 16:12:31                        None                       None   \n",
       "2025-01-29 12:27:09                        None                       None   \n",
       "2025-01-29 13:04:42                        None                       None   \n",
       "2025-01-29 17:10:17                        None                       None   \n",
       "2025-01-29 17:10:40   attachments/302/51234.png                       None   \n",
       "2025-01-30 12:35:04                        None                       None   \n",
       "2025-01-30 12:18:55  attachments/302/51289.jpeg                       None   \n",
       "2025-01-30 12:21:36   attachments/302/51303.JPG                       None   \n",
       "2025-01-30 12:23:56                        None                       None   \n",
       "2025-01-30 12:30:15                        None                       None   \n",
       "2025-01-30 12:34:37                        None                       None   \n",
       "2025-01-30 12:37:33                        None                       None   \n",
       "2025-01-30 12:39:10                        None                       None   \n",
       "2025-01-30 14:41:57                        None                       None   \n",
       "2025-01-30 14:44:09                        None                       None   \n",
       "2025-01-30 14:53:02                        None                       None   \n",
       "2025-01-30 18:01:59                        None                       None   \n",
       "2025-01-30 22:41:59                        None                       None   \n",
       "\n",
       "                    sender_number  \\\n",
       "dates                               \n",
       "2025-01-03 12:49:48  +16476226650   \n",
       "2025-01-06 14:44:03  +16476226650   \n",
       "2025-01-12 00:26:57  +16476226650   \n",
       "2025-01-14 21:28:40  +16476226650   \n",
       "2025-01-17 00:33:29  +16476226650   \n",
       "2025-01-23 10:57:48  +16476226650   \n",
       "2025-01-23 16:52:30  +16476226650   \n",
       "2025-01-23 16:52:46  +16476226650   \n",
       "2025-01-23 16:53:17  +16476226650   \n",
       "2025-01-24 09:25:12  +16476226650   \n",
       "2025-01-25 18:11:34  +16476226650   \n",
       "2025-01-26 13:24:38  +16476226650   \n",
       "2025-01-26 13:59:56  +16476226650   \n",
       "2025-01-26 13:59:57  +16476226650   \n",
       "2025-01-27 11:43:53  +16476226650   \n",
       "2025-01-27 11:45:32  +16476226650   \n",
       "2025-01-27 12:11:03  +16476226650   \n",
       "2025-01-27 19:35:12  +16476226650   \n",
       "2025-01-27 19:35:13  +16476226650   \n",
       "2025-01-27 21:56:43  +16476226650   \n",
       "2025-01-27 21:59:47  +16476226650   \n",
       "2025-01-27 22:12:41  +16476226650   \n",
       "2025-01-27 22:19:06  +16476226650   \n",
       "2025-01-28 10:29:58  +16476226650   \n",
       "2025-01-28 10:31:30  +16476226650   \n",
       "2025-01-28 15:24:31  +16476226650   \n",
       "2025-01-28 15:29:56  +16476226650   \n",
       "2025-01-28 16:02:09  +16476226650   \n",
       "2025-01-28 16:12:31  +16476226650   \n",
       "2025-01-29 12:27:09  +16476226650   \n",
       "2025-01-29 13:04:42  +16476226650   \n",
       "2025-01-29 17:10:17  +16476226650   \n",
       "2025-01-29 17:10:40  +16476226650   \n",
       "2025-01-30 12:35:04  +16476226650   \n",
       "2025-01-30 12:18:55  +16476226650   \n",
       "2025-01-30 12:21:36  +16476226650   \n",
       "2025-01-30 12:23:56  +16476226650   \n",
       "2025-01-30 12:30:15  +16476226650   \n",
       "2025-01-30 12:34:37  +16476226650   \n",
       "2025-01-30 12:37:33  +16476226650   \n",
       "2025-01-30 12:39:10  +16476226650   \n",
       "2025-01-30 14:41:57  +16476226650   \n",
       "2025-01-30 14:44:09  +16476226650   \n",
       "2025-01-30 14:53:02  +16476226650   \n",
       "2025-01-30 18:01:59  +16476226650   \n",
       "2025-01-30 22:41:59  +16476226650   \n",
       "\n",
       "                                                             reactions  \\\n",
       "dates                                                                    \n",
       "2025-01-03 12:49:48                                                 []   \n",
       "2025-01-06 14:44:03           [Laughed by +14169857677, Laughed by Me]   \n",
       "2025-01-12 00:26:57                                                 []   \n",
       "2025-01-14 21:28:40                                                 []   \n",
       "2025-01-17 00:33:29  [Laughed by gregorynip@icloud.com, Laughed by ...   \n",
       "2025-01-23 10:57:48               [Laughed by edenkettleson@gmail.com]   \n",
       "2025-01-23 16:52:30                                                 []   \n",
       "2025-01-23 16:52:46                       [Emphasized by +14169857677]   \n",
       "2025-01-23 16:53:17                                                 []   \n",
       "2025-01-24 09:25:12                                                 []   \n",
       "2025-01-25 18:11:34  [Laughed by Me, Laughed by +16138588921, Empha...   \n",
       "2025-01-26 13:24:38   [Laughed by +14163054266, Loved by +16138044084]   \n",
       "2025-01-26 13:59:56                                                 []   \n",
       "2025-01-26 13:59:57                                                 []   \n",
       "2025-01-27 11:43:53  [Laughed by +16138044084, Laughed by +14168368...   \n",
       "2025-01-27 11:45:32                                                 []   \n",
       "2025-01-27 12:11:03           [Laughed by +14163054266, Laughed by Me]   \n",
       "2025-01-27 19:35:12                          [Laughed by +14163054266]   \n",
       "2025-01-27 19:35:13                                                 []   \n",
       "2025-01-27 21:56:43                                                 []   \n",
       "2025-01-27 21:59:47                                                 []   \n",
       "2025-01-27 22:12:41  [Loved by +14168368964, Loved by +16136202840,...   \n",
       "2025-01-27 22:19:06                          [Laughed by +15198782573]   \n",
       "2025-01-28 10:29:58                                      [Loved by Me]   \n",
       "2025-01-28 10:31:30  [Laughed by +16138044084, Laughed by Me, Laugh...   \n",
       "2025-01-28 15:24:31  [Laughed by +14163054266, Laughed by +16134004...   \n",
       "2025-01-28 15:29:56  [Laughed by +14169857677, Laughed by +14163054...   \n",
       "2025-01-28 16:02:09  [Laughed by Me, Laughed by +16138588921, Laugh...   \n",
       "2025-01-28 16:12:31                                                 []   \n",
       "2025-01-29 12:27:09                                                 []   \n",
       "2025-01-29 13:04:42                                                 []   \n",
       "2025-01-29 17:10:17                                                 []   \n",
       "2025-01-29 17:10:40                            [Loved by +14169857677]   \n",
       "2025-01-30 12:35:04               [Laughed by edenkettleson@gmail.com]   \n",
       "2025-01-30 12:18:55     [Loved by +14163054266, Loved by +14163054266]   \n",
       "2025-01-30 12:21:36  [Laughed by +16138588921, Laughed by +14163054...   \n",
       "2025-01-30 12:23:56  [Laughed by +16133559273, Laughed by +16136202...   \n",
       "2025-01-30 12:30:15  [Loved by +16138044084, Loved by +16133559273,...   \n",
       "2025-01-30 12:34:37  [Laughed by itsjaxonmusic@gmail.com, Laughed b...   \n",
       "2025-01-30 12:37:33  [Laughed by itsjaxonmusic@gmail.com, Laughed b...   \n",
       "2025-01-30 12:39:10                                                 []   \n",
       "2025-01-30 14:41:57                            [Liked by +14169857677]   \n",
       "2025-01-30 14:44:09  [Laughed by +16138588921, Laughed by +14163054...   \n",
       "2025-01-30 14:53:02                                                 []   \n",
       "2025-01-30 18:01:59                                                 []   \n",
       "2025-01-30 22:41:59  [Emphasized by +16134004076, Laughed by +14163...   \n",
       "\n",
       "                     reactions_recieved sender  word_count  \n",
       "dates                                                       \n",
       "2025-01-03 12:49:48                   0    Ali           6  \n",
       "2025-01-06 14:44:03                   2    Ali           1  \n",
       "2025-01-12 00:26:57                   0    Ali           5  \n",
       "2025-01-14 21:28:40                   0    Ali           2  \n",
       "2025-01-17 00:33:29                   2    Ali           1  \n",
       "2025-01-23 10:57:48                   1    Ali           9  \n",
       "2025-01-23 16:52:30                   0    Ali           2  \n",
       "2025-01-23 16:52:46                   1    Ali           9  \n",
       "2025-01-23 16:53:17                   0    Ali           4  \n",
       "2025-01-24 09:25:12                   0    Ali           4  \n",
       "2025-01-25 18:11:34                   3    Ali           6  \n",
       "2025-01-26 13:24:38                   2    Ali           1  \n",
       "2025-01-26 13:59:56                   0    Ali           1  \n",
       "2025-01-26 13:59:57                   0    Ali           1  \n",
       "2025-01-27 11:43:53                   6    Ali          10  \n",
       "2025-01-27 11:45:32                   0    Ali           5  \n",
       "2025-01-27 12:11:03                   2    Ali           6  \n",
       "2025-01-27 19:35:12                   1    Ali           1  \n",
       "2025-01-27 19:35:13                   0    Ali           8  \n",
       "2025-01-27 21:56:43                   0    Ali           8  \n",
       "2025-01-27 21:59:47                   0    Ali           4  \n",
       "2025-01-27 22:12:41                   3    Ali           1  \n",
       "2025-01-27 22:19:06                   1    Ali           2  \n",
       "2025-01-28 10:29:58                   1    Ali           1  \n",
       "2025-01-28 10:31:30                   3    Ali           3  \n",
       "2025-01-28 15:24:31                   6    Ali          16  \n",
       "2025-01-28 15:29:56                   4    Ali           6  \n",
       "2025-01-28 16:02:09                   5    Ali           1  \n",
       "2025-01-28 16:12:31                   0    Ali          11  \n",
       "2025-01-29 12:27:09                   0    Ali           1  \n",
       "2025-01-29 13:04:42                   0    Ali           1  \n",
       "2025-01-29 17:10:17                   0    Ali           1  \n",
       "2025-01-29 17:10:40                   1    Ali           1  \n",
       "2025-01-30 12:35:04                   1    Ali           7  \n",
       "2025-01-30 12:18:55                   2    Ali           2  \n",
       "2025-01-30 12:21:36                   3    Ali          10  \n",
       "2025-01-30 12:23:56                   3    Ali           3  \n",
       "2025-01-30 12:30:15                   4    Ali          20  \n",
       "2025-01-30 12:34:37                   3    Ali          18  \n",
       "2025-01-30 12:37:33                   3    Ali          19  \n",
       "2025-01-30 12:39:10                   0    Ali           9  \n",
       "2025-01-30 14:41:57                   1    Ali           7  \n",
       "2025-01-30 14:44:09                   4    Ali           9  \n",
       "2025-01-30 14:53:02                   0    Ali           1  \n",
       "2025-01-30 18:01:59                   0    Ali           6  \n",
       "2025-01-30 22:41:59                   2    Ali           5  "
      ]
     },
     "execution_count": 41,
     "metadata": {},
     "output_type": "execute_result"
    }
   ],
   "source": [
    "df.loc[df.sender == 'Ali']"
   ]
  },
  {
   "cell_type": "code",
   "execution_count": 42,
   "metadata": {},
   "outputs": [
    {
     "data": {
      "text/plain": [
       "'dates\\n2025-01-25 18:32:58    ￼'"
      ]
     },
     "execution_count": 42,
     "metadata": {},
     "output_type": "execute_result"
    }
   ],
   "source": [
    "df.loc[df.reactions_recieved == df.reactions_recieved.max()].texts.to_string()"
   ]
  },
  {
   "cell_type": "code",
   "execution_count": 43,
   "metadata": {},
   "outputs": [],
   "source": [
    "text_count['ratio'] = (text_count['reactions_recieved'] / text_count['messages']).sort_values(ascending=False)"
   ]
  },
  {
   "cell_type": "code",
   "execution_count": 44,
   "metadata": {},
   "outputs": [],
   "source": [
    "# text_count[[\"texts\", \"image\", \"reactions_recieved\", \"messages\", \"reactions_sent\", \"hahas_sent\", \"ratio\", \"word_count\"]].to_json('data.json', orient='index')"
   ]
  },
  {
   "cell_type": "markdown",
   "metadata": {},
   "source": [
    "## This is where all of the formatting ends and the file has been outputted"
   ]
  },
  {
   "cell_type": "code",
   "execution_count": 45,
   "metadata": {},
   "outputs": [
    {
     "data": {
      "text/html": [
       "<div>\n",
       "<style scoped>\n",
       "    .dataframe tbody tr th:only-of-type {\n",
       "        vertical-align: middle;\n",
       "    }\n",
       "\n",
       "    .dataframe tbody tr th {\n",
       "        vertical-align: top;\n",
       "    }\n",
       "\n",
       "    .dataframe thead th {\n",
       "        text-align: right;\n",
       "    }\n",
       "</style>\n",
       "<table border=\"1\" class=\"dataframe\">\n",
       "  <thead>\n",
       "    <tr style=\"text-align: right;\">\n",
       "      <th></th>\n",
       "      <th>messages</th>\n",
       "      <th>reactions_recieved</th>\n",
       "    </tr>\n",
       "    <tr>\n",
       "      <th>sender</th>\n",
       "      <th></th>\n",
       "      <th></th>\n",
       "    </tr>\n",
       "  </thead>\n",
       "  <tbody>\n",
       "    <tr>\n",
       "      <th>Ali</th>\n",
       "      <td>44</td>\n",
       "      <td>70</td>\n",
       "    </tr>\n",
       "    <tr>\n",
       "      <th>+16135581208</th>\n",
       "      <td>5</td>\n",
       "      <td>6</td>\n",
       "    </tr>\n",
       "    <tr>\n",
       "      <th>+13432045724</th>\n",
       "      <td>4</td>\n",
       "      <td>4</td>\n",
       "    </tr>\n",
       "    <tr>\n",
       "      <th>M****</th>\n",
       "      <td>1</td>\n",
       "      <td>1</td>\n",
       "    </tr>\n",
       "    <tr>\n",
       "      <th>Tommy</th>\n",
       "      <td>4</td>\n",
       "      <td>4</td>\n",
       "    </tr>\n",
       "    <tr>\n",
       "      <th>stephazel108@gmail.com</th>\n",
       "      <td>1</td>\n",
       "      <td>1</td>\n",
       "    </tr>\n",
       "    <tr>\n",
       "      <th>Greg</th>\n",
       "      <td>127</td>\n",
       "      <td>113</td>\n",
       "    </tr>\n",
       "    <tr>\n",
       "      <th>Henry</th>\n",
       "      <td>175</td>\n",
       "      <td>119</td>\n",
       "    </tr>\n",
       "    <tr>\n",
       "      <th>John</th>\n",
       "      <td>1036</td>\n",
       "      <td>670</td>\n",
       "    </tr>\n",
       "    <tr>\n",
       "      <th>Darcy</th>\n",
       "      <td>89</td>\n",
       "      <td>55</td>\n",
       "    </tr>\n",
       "    <tr>\n",
       "      <th>melaniesmyth13@gmail.com</th>\n",
       "      <td>133</td>\n",
       "      <td>82</td>\n",
       "    </tr>\n",
       "    <tr>\n",
       "      <th>Ryan</th>\n",
       "      <td>1748</td>\n",
       "      <td>1059</td>\n",
       "    </tr>\n",
       "    <tr>\n",
       "      <th>Jack</th>\n",
       "      <td>734</td>\n",
       "      <td>431</td>\n",
       "    </tr>\n",
       "    <tr>\n",
       "      <th>hashtagyoloswagbeef@gmail.com</th>\n",
       "      <td>269</td>\n",
       "      <td>151</td>\n",
       "    </tr>\n",
       "    <tr>\n",
       "      <th>Rayhan</th>\n",
       "      <td>27</td>\n",
       "      <td>15</td>\n",
       "    </tr>\n",
       "    <tr>\n",
       "      <th>Igor</th>\n",
       "      <td>1282</td>\n",
       "      <td>629</td>\n",
       "    </tr>\n",
       "    <tr>\n",
       "      <th>Eden</th>\n",
       "      <td>195</td>\n",
       "      <td>93</td>\n",
       "    </tr>\n",
       "    <tr>\n",
       "      <th>josh.maycock@yahoo.com</th>\n",
       "      <td>41</td>\n",
       "      <td>19</td>\n",
       "    </tr>\n",
       "    <tr>\n",
       "      <th>Ben</th>\n",
       "      <td>1308</td>\n",
       "      <td>595</td>\n",
       "    </tr>\n",
       "    <tr>\n",
       "      <th>Nick</th>\n",
       "      <td>938</td>\n",
       "      <td>410</td>\n",
       "    </tr>\n",
       "    <tr>\n",
       "      <th>+18103048098</th>\n",
       "      <td>5</td>\n",
       "      <td>2</td>\n",
       "    </tr>\n",
       "    <tr>\n",
       "      <th>Riley</th>\n",
       "      <td>1181</td>\n",
       "      <td>452</td>\n",
       "    </tr>\n",
       "    <tr>\n",
       "      <th>+14167995612</th>\n",
       "      <td>569</td>\n",
       "      <td>182</td>\n",
       "    </tr>\n",
       "    <tr>\n",
       "      <th>Austin</th>\n",
       "      <td>1745</td>\n",
       "      <td>550</td>\n",
       "    </tr>\n",
       "    <tr>\n",
       "      <th>+12899330628</th>\n",
       "      <td>57</td>\n",
       "      <td>17</td>\n",
       "    </tr>\n",
       "    <tr>\n",
       "      <th>Ernesto</th>\n",
       "      <td>55</td>\n",
       "      <td>14</td>\n",
       "    </tr>\n",
       "    <tr>\n",
       "      <th>+16479917601</th>\n",
       "      <td>4</td>\n",
       "      <td>1</td>\n",
       "    </tr>\n",
       "    <tr>\n",
       "      <th>Krystiana</th>\n",
       "      <td>1671</td>\n",
       "      <td>326</td>\n",
       "    </tr>\n",
       "    <tr>\n",
       "      <th>Nicole</th>\n",
       "      <td>18</td>\n",
       "      <td>2</td>\n",
       "    </tr>\n",
       "    <tr>\n",
       "      <th>+16475394413</th>\n",
       "      <td>23</td>\n",
       "      <td>2</td>\n",
       "    </tr>\n",
       "    <tr>\n",
       "      <th>Ryan 2</th>\n",
       "      <td>4</td>\n",
       "      <td>0</td>\n",
       "    </tr>\n",
       "    <tr>\n",
       "      <th>Mel</th>\n",
       "      <td>2</td>\n",
       "      <td>0</td>\n",
       "    </tr>\n",
       "    <tr>\n",
       "      <th>+16138594804</th>\n",
       "      <td>2</td>\n",
       "      <td>0</td>\n",
       "    </tr>\n",
       "    <tr>\n",
       "      <th>Michaela</th>\n",
       "      <td>1</td>\n",
       "      <td>0</td>\n",
       "    </tr>\n",
       "    <tr>\n",
       "      <th>+16139797154</th>\n",
       "      <td>1</td>\n",
       "      <td>0</td>\n",
       "    </tr>\n",
       "    <tr>\n",
       "      <th>+16138093940</th>\n",
       "      <td>0</td>\n",
       "      <td>0</td>\n",
       "    </tr>\n",
       "    <tr>\n",
       "      <th>+16477019241</th>\n",
       "      <td>0</td>\n",
       "      <td>0</td>\n",
       "    </tr>\n",
       "    <tr>\n",
       "      <th>+15197192478</th>\n",
       "      <td>0</td>\n",
       "      <td>0</td>\n",
       "    </tr>\n",
       "  </tbody>\n",
       "</table>\n",
       "</div>"
      ],
      "text/plain": [
       "                               messages  reactions_recieved\n",
       "sender                                                     \n",
       "Ali                                  44                  70\n",
       "+16135581208                          5                   6\n",
       "+13432045724                          4                   4\n",
       "M****                                 1                   1\n",
       "Tommy                                 4                   4\n",
       "stephazel108@gmail.com                1                   1\n",
       "Greg                                127                 113\n",
       "Henry                               175                 119\n",
       "John                               1036                 670\n",
       "Darcy                                89                  55\n",
       "melaniesmyth13@gmail.com            133                  82\n",
       "Ryan                               1748                1059\n",
       "Jack                                734                 431\n",
       "hashtagyoloswagbeef@gmail.com       269                 151\n",
       "Rayhan                               27                  15\n",
       "Igor                               1282                 629\n",
       "Eden                                195                  93\n",
       "josh.maycock@yahoo.com               41                  19\n",
       "Ben                                1308                 595\n",
       "Nick                                938                 410\n",
       "+18103048098                          5                   2\n",
       "Riley                              1181                 452\n",
       "+14167995612                        569                 182\n",
       "Austin                             1745                 550\n",
       "+12899330628                         57                  17\n",
       "Ernesto                              55                  14\n",
       "+16479917601                          4                   1\n",
       "Krystiana                          1671                 326\n",
       "Nicole                               18                   2\n",
       "+16475394413                         23                   2\n",
       "Ryan 2                                4                   0\n",
       "Mel                                   2                   0\n",
       "+16138594804                          2                   0\n",
       "Michaela                              1                   0\n",
       "+16139797154                          1                   0\n",
       "+16138093940                          0                   0\n",
       "+16477019241                          0                   0\n",
       "+15197192478                          0                   0"
      ]
     },
     "execution_count": 45,
     "metadata": {},
     "output_type": "execute_result"
    }
   ],
   "source": [
    "text_count.sort_values(ascending=False, by='ratio')[['messages', 'reactions_recieved']]"
   ]
  },
  {
   "cell_type": "code",
   "execution_count": 46,
   "metadata": {},
   "outputs": [
    {
     "data": {
      "application/vnd.plotly.v1+json": {
       "config": {
        "plotlyServerURL": "https://plot.ly"
       },
       "data": [
        {
         "alignmentgroup": "True",
         "hovertemplate": "variable=ratio<br>sender=%{x}<br>value=%{y}<extra></extra>",
         "legendgroup": "ratio",
         "marker": {
          "color": "#636efa",
          "pattern": {
           "shape": ""
          }
         },
         "name": "ratio",
         "offsetgroup": "ratio",
         "orientation": "v",
         "showlegend": true,
         "textposition": "auto",
         "type": "bar",
         "x": [
          "Ali",
          "+16135581208",
          "+13432045724",
          "M****",
          "Tommy",
          "stephazel108@gmail.com",
          "Greg",
          "Henry",
          "John",
          "Darcy",
          "melaniesmyth13@gmail.com",
          "Ryan",
          "Jack",
          "hashtagyoloswagbeef@gmail.com",
          "Rayhan",
          "Igor",
          "Eden",
          "josh.maycock@yahoo.com",
          "Ben",
          "Nick",
          "+18103048098",
          "Riley",
          "+14167995612",
          "Austin",
          "+12899330628",
          "Ernesto",
          "+16479917601",
          "Krystiana",
          "Nicole",
          "+16475394413",
          "Ryan 2",
          "Mel",
          "+16138594804",
          "Michaela",
          "+16139797154",
          "+16138093940",
          "+16477019241",
          "+15197192478"
         ],
         "xaxis": "x",
         "y": [
          1.5909090909090908,
          1.2,
          1,
          1,
          1,
          1,
          0.889763779527559,
          0.68,
          0.6467181467181468,
          0.6179775280898876,
          0.6165413533834586,
          0.6058352402745996,
          0.5871934604904632,
          0.5613382899628253,
          0.5555555555555556,
          0.4906396255850234,
          0.47692307692307695,
          0.4634146341463415,
          0.45489296636085624,
          0.43710021321961623,
          0.4,
          0.3827265029635902,
          0.31985940246045697,
          0.3151862464183381,
          0.2982456140350877,
          0.2545454545454545,
          0.25,
          0.19509275882704968,
          0.1111111111111111,
          0.08695652173913043,
          0,
          0,
          0,
          0,
          0,
          null,
          null,
          null
         ],
         "yaxis": "y"
        }
       ],
       "layout": {
        "barmode": "relative",
        "legend": {
         "title": {
          "text": "variable"
         },
         "tracegroupgap": 0
        },
        "template": {
         "data": {
          "bar": [
           {
            "error_x": {
             "color": "#2a3f5f"
            },
            "error_y": {
             "color": "#2a3f5f"
            },
            "marker": {
             "line": {
              "color": "#E5ECF6",
              "width": 0.5
             },
             "pattern": {
              "fillmode": "overlay",
              "size": 10,
              "solidity": 0.2
             }
            },
            "type": "bar"
           }
          ],
          "barpolar": [
           {
            "marker": {
             "line": {
              "color": "#E5ECF6",
              "width": 0.5
             },
             "pattern": {
              "fillmode": "overlay",
              "size": 10,
              "solidity": 0.2
             }
            },
            "type": "barpolar"
           }
          ],
          "carpet": [
           {
            "aaxis": {
             "endlinecolor": "#2a3f5f",
             "gridcolor": "white",
             "linecolor": "white",
             "minorgridcolor": "white",
             "startlinecolor": "#2a3f5f"
            },
            "baxis": {
             "endlinecolor": "#2a3f5f",
             "gridcolor": "white",
             "linecolor": "white",
             "minorgridcolor": "white",
             "startlinecolor": "#2a3f5f"
            },
            "type": "carpet"
           }
          ],
          "choropleth": [
           {
            "colorbar": {
             "outlinewidth": 0,
             "ticks": ""
            },
            "type": "choropleth"
           }
          ],
          "contour": [
           {
            "colorbar": {
             "outlinewidth": 0,
             "ticks": ""
            },
            "colorscale": [
             [
              0,
              "#0d0887"
             ],
             [
              0.1111111111111111,
              "#46039f"
             ],
             [
              0.2222222222222222,
              "#7201a8"
             ],
             [
              0.3333333333333333,
              "#9c179e"
             ],
             [
              0.4444444444444444,
              "#bd3786"
             ],
             [
              0.5555555555555556,
              "#d8576b"
             ],
             [
              0.6666666666666666,
              "#ed7953"
             ],
             [
              0.7777777777777778,
              "#fb9f3a"
             ],
             [
              0.8888888888888888,
              "#fdca26"
             ],
             [
              1,
              "#f0f921"
             ]
            ],
            "type": "contour"
           }
          ],
          "contourcarpet": [
           {
            "colorbar": {
             "outlinewidth": 0,
             "ticks": ""
            },
            "type": "contourcarpet"
           }
          ],
          "heatmap": [
           {
            "colorbar": {
             "outlinewidth": 0,
             "ticks": ""
            },
            "colorscale": [
             [
              0,
              "#0d0887"
             ],
             [
              0.1111111111111111,
              "#46039f"
             ],
             [
              0.2222222222222222,
              "#7201a8"
             ],
             [
              0.3333333333333333,
              "#9c179e"
             ],
             [
              0.4444444444444444,
              "#bd3786"
             ],
             [
              0.5555555555555556,
              "#d8576b"
             ],
             [
              0.6666666666666666,
              "#ed7953"
             ],
             [
              0.7777777777777778,
              "#fb9f3a"
             ],
             [
              0.8888888888888888,
              "#fdca26"
             ],
             [
              1,
              "#f0f921"
             ]
            ],
            "type": "heatmap"
           }
          ],
          "heatmapgl": [
           {
            "colorbar": {
             "outlinewidth": 0,
             "ticks": ""
            },
            "colorscale": [
             [
              0,
              "#0d0887"
             ],
             [
              0.1111111111111111,
              "#46039f"
             ],
             [
              0.2222222222222222,
              "#7201a8"
             ],
             [
              0.3333333333333333,
              "#9c179e"
             ],
             [
              0.4444444444444444,
              "#bd3786"
             ],
             [
              0.5555555555555556,
              "#d8576b"
             ],
             [
              0.6666666666666666,
              "#ed7953"
             ],
             [
              0.7777777777777778,
              "#fb9f3a"
             ],
             [
              0.8888888888888888,
              "#fdca26"
             ],
             [
              1,
              "#f0f921"
             ]
            ],
            "type": "heatmapgl"
           }
          ],
          "histogram": [
           {
            "marker": {
             "pattern": {
              "fillmode": "overlay",
              "size": 10,
              "solidity": 0.2
             }
            },
            "type": "histogram"
           }
          ],
          "histogram2d": [
           {
            "colorbar": {
             "outlinewidth": 0,
             "ticks": ""
            },
            "colorscale": [
             [
              0,
              "#0d0887"
             ],
             [
              0.1111111111111111,
              "#46039f"
             ],
             [
              0.2222222222222222,
              "#7201a8"
             ],
             [
              0.3333333333333333,
              "#9c179e"
             ],
             [
              0.4444444444444444,
              "#bd3786"
             ],
             [
              0.5555555555555556,
              "#d8576b"
             ],
             [
              0.6666666666666666,
              "#ed7953"
             ],
             [
              0.7777777777777778,
              "#fb9f3a"
             ],
             [
              0.8888888888888888,
              "#fdca26"
             ],
             [
              1,
              "#f0f921"
             ]
            ],
            "type": "histogram2d"
           }
          ],
          "histogram2dcontour": [
           {
            "colorbar": {
             "outlinewidth": 0,
             "ticks": ""
            },
            "colorscale": [
             [
              0,
              "#0d0887"
             ],
             [
              0.1111111111111111,
              "#46039f"
             ],
             [
              0.2222222222222222,
              "#7201a8"
             ],
             [
              0.3333333333333333,
              "#9c179e"
             ],
             [
              0.4444444444444444,
              "#bd3786"
             ],
             [
              0.5555555555555556,
              "#d8576b"
             ],
             [
              0.6666666666666666,
              "#ed7953"
             ],
             [
              0.7777777777777778,
              "#fb9f3a"
             ],
             [
              0.8888888888888888,
              "#fdca26"
             ],
             [
              1,
              "#f0f921"
             ]
            ],
            "type": "histogram2dcontour"
           }
          ],
          "mesh3d": [
           {
            "colorbar": {
             "outlinewidth": 0,
             "ticks": ""
            },
            "type": "mesh3d"
           }
          ],
          "parcoords": [
           {
            "line": {
             "colorbar": {
              "outlinewidth": 0,
              "ticks": ""
             }
            },
            "type": "parcoords"
           }
          ],
          "pie": [
           {
            "automargin": true,
            "type": "pie"
           }
          ],
          "scatter": [
           {
            "fillpattern": {
             "fillmode": "overlay",
             "size": 10,
             "solidity": 0.2
            },
            "type": "scatter"
           }
          ],
          "scatter3d": [
           {
            "line": {
             "colorbar": {
              "outlinewidth": 0,
              "ticks": ""
             }
            },
            "marker": {
             "colorbar": {
              "outlinewidth": 0,
              "ticks": ""
             }
            },
            "type": "scatter3d"
           }
          ],
          "scattercarpet": [
           {
            "marker": {
             "colorbar": {
              "outlinewidth": 0,
              "ticks": ""
             }
            },
            "type": "scattercarpet"
           }
          ],
          "scattergeo": [
           {
            "marker": {
             "colorbar": {
              "outlinewidth": 0,
              "ticks": ""
             }
            },
            "type": "scattergeo"
           }
          ],
          "scattergl": [
           {
            "marker": {
             "colorbar": {
              "outlinewidth": 0,
              "ticks": ""
             }
            },
            "type": "scattergl"
           }
          ],
          "scattermapbox": [
           {
            "marker": {
             "colorbar": {
              "outlinewidth": 0,
              "ticks": ""
             }
            },
            "type": "scattermapbox"
           }
          ],
          "scatterpolar": [
           {
            "marker": {
             "colorbar": {
              "outlinewidth": 0,
              "ticks": ""
             }
            },
            "type": "scatterpolar"
           }
          ],
          "scatterpolargl": [
           {
            "marker": {
             "colorbar": {
              "outlinewidth": 0,
              "ticks": ""
             }
            },
            "type": "scatterpolargl"
           }
          ],
          "scatterternary": [
           {
            "marker": {
             "colorbar": {
              "outlinewidth": 0,
              "ticks": ""
             }
            },
            "type": "scatterternary"
           }
          ],
          "surface": [
           {
            "colorbar": {
             "outlinewidth": 0,
             "ticks": ""
            },
            "colorscale": [
             [
              0,
              "#0d0887"
             ],
             [
              0.1111111111111111,
              "#46039f"
             ],
             [
              0.2222222222222222,
              "#7201a8"
             ],
             [
              0.3333333333333333,
              "#9c179e"
             ],
             [
              0.4444444444444444,
              "#bd3786"
             ],
             [
              0.5555555555555556,
              "#d8576b"
             ],
             [
              0.6666666666666666,
              "#ed7953"
             ],
             [
              0.7777777777777778,
              "#fb9f3a"
             ],
             [
              0.8888888888888888,
              "#fdca26"
             ],
             [
              1,
              "#f0f921"
             ]
            ],
            "type": "surface"
           }
          ],
          "table": [
           {
            "cells": {
             "fill": {
              "color": "#EBF0F8"
             },
             "line": {
              "color": "white"
             }
            },
            "header": {
             "fill": {
              "color": "#C8D4E3"
             },
             "line": {
              "color": "white"
             }
            },
            "type": "table"
           }
          ]
         },
         "layout": {
          "annotationdefaults": {
           "arrowcolor": "#2a3f5f",
           "arrowhead": 0,
           "arrowwidth": 1
          },
          "autotypenumbers": "strict",
          "coloraxis": {
           "colorbar": {
            "outlinewidth": 0,
            "ticks": ""
           }
          },
          "colorscale": {
           "diverging": [
            [
             0,
             "#8e0152"
            ],
            [
             0.1,
             "#c51b7d"
            ],
            [
             0.2,
             "#de77ae"
            ],
            [
             0.3,
             "#f1b6da"
            ],
            [
             0.4,
             "#fde0ef"
            ],
            [
             0.5,
             "#f7f7f7"
            ],
            [
             0.6,
             "#e6f5d0"
            ],
            [
             0.7,
             "#b8e186"
            ],
            [
             0.8,
             "#7fbc41"
            ],
            [
             0.9,
             "#4d9221"
            ],
            [
             1,
             "#276419"
            ]
           ],
           "sequential": [
            [
             0,
             "#0d0887"
            ],
            [
             0.1111111111111111,
             "#46039f"
            ],
            [
             0.2222222222222222,
             "#7201a8"
            ],
            [
             0.3333333333333333,
             "#9c179e"
            ],
            [
             0.4444444444444444,
             "#bd3786"
            ],
            [
             0.5555555555555556,
             "#d8576b"
            ],
            [
             0.6666666666666666,
             "#ed7953"
            ],
            [
             0.7777777777777778,
             "#fb9f3a"
            ],
            [
             0.8888888888888888,
             "#fdca26"
            ],
            [
             1,
             "#f0f921"
            ]
           ],
           "sequentialminus": [
            [
             0,
             "#0d0887"
            ],
            [
             0.1111111111111111,
             "#46039f"
            ],
            [
             0.2222222222222222,
             "#7201a8"
            ],
            [
             0.3333333333333333,
             "#9c179e"
            ],
            [
             0.4444444444444444,
             "#bd3786"
            ],
            [
             0.5555555555555556,
             "#d8576b"
            ],
            [
             0.6666666666666666,
             "#ed7953"
            ],
            [
             0.7777777777777778,
             "#fb9f3a"
            ],
            [
             0.8888888888888888,
             "#fdca26"
            ],
            [
             1,
             "#f0f921"
            ]
           ]
          },
          "colorway": [
           "#636efa",
           "#EF553B",
           "#00cc96",
           "#ab63fa",
           "#FFA15A",
           "#19d3f3",
           "#FF6692",
           "#B6E880",
           "#FF97FF",
           "#FECB52"
          ],
          "font": {
           "color": "#2a3f5f"
          },
          "geo": {
           "bgcolor": "white",
           "lakecolor": "white",
           "landcolor": "#E5ECF6",
           "showlakes": true,
           "showland": true,
           "subunitcolor": "white"
          },
          "hoverlabel": {
           "align": "left"
          },
          "hovermode": "closest",
          "mapbox": {
           "style": "light"
          },
          "paper_bgcolor": "white",
          "plot_bgcolor": "#E5ECF6",
          "polar": {
           "angularaxis": {
            "gridcolor": "white",
            "linecolor": "white",
            "ticks": ""
           },
           "bgcolor": "#E5ECF6",
           "radialaxis": {
            "gridcolor": "white",
            "linecolor": "white",
            "ticks": ""
           }
          },
          "scene": {
           "xaxis": {
            "backgroundcolor": "#E5ECF6",
            "gridcolor": "white",
            "gridwidth": 2,
            "linecolor": "white",
            "showbackground": true,
            "ticks": "",
            "zerolinecolor": "white"
           },
           "yaxis": {
            "backgroundcolor": "#E5ECF6",
            "gridcolor": "white",
            "gridwidth": 2,
            "linecolor": "white",
            "showbackground": true,
            "ticks": "",
            "zerolinecolor": "white"
           },
           "zaxis": {
            "backgroundcolor": "#E5ECF6",
            "gridcolor": "white",
            "gridwidth": 2,
            "linecolor": "white",
            "showbackground": true,
            "ticks": "",
            "zerolinecolor": "white"
           }
          },
          "shapedefaults": {
           "line": {
            "color": "#2a3f5f"
           }
          },
          "ternary": {
           "aaxis": {
            "gridcolor": "white",
            "linecolor": "white",
            "ticks": ""
           },
           "baxis": {
            "gridcolor": "white",
            "linecolor": "white",
            "ticks": ""
           },
           "bgcolor": "#E5ECF6",
           "caxis": {
            "gridcolor": "white",
            "linecolor": "white",
            "ticks": ""
           }
          },
          "title": {
           "x": 0.05
          },
          "xaxis": {
           "automargin": true,
           "gridcolor": "white",
           "linecolor": "white",
           "ticks": "",
           "title": {
            "standoff": 15
           },
           "zerolinecolor": "white",
           "zerolinewidth": 2
          },
          "yaxis": {
           "automargin": true,
           "gridcolor": "white",
           "linecolor": "white",
           "ticks": "",
           "title": {
            "standoff": 15
           },
           "zerolinecolor": "white",
           "zerolinewidth": 2
          }
         }
        },
        "title": {
         "text": "Text-to-Reactions Recieved Ratio"
        },
        "xaxis": {
         "anchor": "y",
         "domain": [
          0,
          1
         ],
         "title": {
          "text": "sender"
         }
        },
        "yaxis": {
         "anchor": "x",
         "domain": [
          0,
          1
         ],
         "title": {
          "text": "value"
         }
        }
       }
      }
     },
     "metadata": {},
     "output_type": "display_data"
    }
   ],
   "source": [
    "px.bar(text_count['ratio'].sort_values(ascending=False), title=\"Text-to-Reactions Recieved Ratio\")"
   ]
  },
  {
   "cell_type": "code",
   "execution_count": 47,
   "metadata": {},
   "outputs": [
    {
     "data": {
      "text/plain": [
       "array([['Loving john is a treacherous journey full of emotions ', 6],\n",
       "       ['I’m so glad I’m not Johns friend. I would hate to be betrayed like this ',\n",
       "        6],\n",
       "       [None, 5],\n",
       "       ['Oh. Sorry. I don’t see you like that ', 4],\n",
       "       ['I am currently working at a company called Fable. They help make digital products accessible for people with disabilities ',\n",
       "        4],\n",
       "       ['Behind the scenes of john holing', 4],\n",
       "       [None, 3],\n",
       "       ['I resent that', 3],\n",
       "       ['This chat is actually so freaking funny. I was up late last night and just cackling at some shit',\n",
       "        3],\n",
       "       ['Infancy. Its hard. You can tell at times he really wants to be able to speak . ',\n",
       "        3],\n",
       "       ['Elevated Darcy’s crate', 3],\n",
       "       ['Omg… Ryan stop!!! I’m a girl and I’m taken ', 3],\n",
       "       ['This looks exactly like Luigi ', 3],\n",
       "       ['I feel crazy too much ', 2],\n",
       "       ['This is Ryan’s type ', 2],\n",
       "       ['￼Good afternoon', 2],\n",
       "       [None, 2],\n",
       "       [None, 2],\n",
       "       [None, 2],\n",
       "       [None, 1],\n",
       "       ['He’s so close here . Smh ', 1],\n",
       "       ['Or Ali - not my family ', 1],\n",
       "       [None, 1],\n",
       "       ['Elderly? ', 1],\n",
       "       [None, 1],\n",
       "       ['Oh man… there’s no way it’s coming back ', 1],\n",
       "       [\"also Ali is very commonly a guy's name too\", 1],\n",
       "       ['￼￼￼￼￼￼￼￼￼￼￼￼Happy birthday little Henry!!!!!!', 0],\n",
       "       ['Johns middle name is Ryan ', 0],\n",
       "       ['LOL', 0],\n",
       "       ['Maya!!! Maya the great ', 0],\n",
       "       ['System attack', 0],\n",
       "       ['I looked up “family guy” in my messages ', 0],\n",
       "       ['thank you', 0],\n",
       "       ['ever heard of him?', 0],\n",
       "       [None, 0],\n",
       "       ['Is that real ', 0],\n",
       "       [None, 0],\n",
       "       ['It’s a bonding experience ', 0],\n",
       "       ['Hello', 0],\n",
       "       [None, 0],\n",
       "       [None, 0],\n",
       "       ['I was about to do the exact same thing eden ', 0],\n",
       "       ['Oh man Ernasty, idk about this one ', 0],\n",
       "       ['Ok ernesto, don’t make me look bad ', 0],\n",
       "       ['￼￼￼￼￼￼￼￼￼￼￼￼￼￼￼￼￼￼￼I love you John! Happy bday💋', 0]],\n",
       "      dtype=object)"
      ]
     },
     "execution_count": 47,
     "metadata": {},
     "output_type": "execute_result"
    }
   ],
   "source": [
    "df.loc[df.sender == \"Ali\"].sort_values(\"reactions_recieved\", ascending=False)[['texts', 'reactions_recieved']].values"
   ]
  },
  {
   "cell_type": "code",
   "execution_count": 48,
   "metadata": {},
   "outputs": [
    {
     "data": {
      "text/plain": [
       "['Loved by +16133559273',\n",
       " 'Loved by +14167995612',\n",
       " 'Loved by +14163054266',\n",
       " 'Loved by +14169857677',\n",
       " 'Loved by +16133559273',\n",
       " 'Loved by +16476226650',\n",
       " 'Loved by +14169857677',\n",
       " 'Loved by +16133160960',\n",
       " 'Loved by +14167995612',\n",
       " 'Loved by +14163054266']"
      ]
     },
     "execution_count": 48,
     "metadata": {},
     "output_type": "execute_result"
    }
   ],
   "source": [
    "df.loc[df.reactions_recieved.idxmax()]['reactions']"
   ]
  },
  {
   "cell_type": "code",
   "execution_count": 49,
   "metadata": {},
   "outputs": [
    {
     "name": "stderr",
     "output_type": "stream",
     "text": [
      "/Users/henrybrown/opt/anaconda3/envs/data_analysis/lib/python3.9/site-packages/_plotly_utils/basevalidators.py:106: FutureWarning:\n",
      "\n",
      "The behavior of DatetimeProperties.to_pydatetime is deprecated, in a future version this will return a Series containing python datetime objects instead of an ndarray. To retain the old behavior, call `np.array` on the result\n",
      "\n"
     ]
    },
    {
     "data": {
      "application/vnd.plotly.v1+json": {
       "config": {
        "plotlyServerURL": "https://plot.ly"
       },
       "data": [
        {
         "hovertemplate": "sender=Greg<br>Date=%{x}<br>Word Count=%{y}<extra></extra>",
         "legendgroup": "Greg",
         "line": {
          "color": "#636efa",
          "dash": "solid"
         },
         "marker": {
          "symbol": "circle"
         },
         "mode": "lines",
         "name": "Greg",
         "orientation": "v",
         "showlegend": true,
         "type": "scatter",
         "x": [
          "2025-01-02T16:20:15",
          "2025-01-02T21:47:44",
          "2025-01-03T12:22:33",
          "2025-01-03T12:23:43",
          "2025-01-05T19:33:26",
          "2025-01-05T19:34:15",
          "2025-01-05T19:34:18",
          "2025-01-07T11:52:28",
          "2025-01-07T12:49:53",
          "2025-01-07T12:50:48",
          "2025-01-09T16:42:31",
          "2025-01-09T16:52:10",
          "2025-01-10T11:47:08",
          "2025-01-10T11:50:47",
          "2025-01-10T11:52:34",
          "2025-01-10T12:14:28",
          "2025-01-10T12:14:39",
          "2025-01-10T12:15:44",
          "2025-01-10T12:18:46",
          "2025-01-10T12:18:49",
          "2025-01-10T12:18:55",
          "2025-01-10T12:19:14",
          "2025-01-10T12:26:15",
          "2025-01-10T12:31:45",
          "2025-01-10T12:33:09",
          "2025-01-10T12:37:13",
          "2025-01-10T12:39:35",
          "2025-01-10T12:44:52",
          "2025-01-11T19:51:16",
          "2025-01-11T16:15:51",
          "2025-01-12T00:09:36",
          "2025-01-12T00:09:43",
          "2025-01-12T14:19:31",
          "2025-01-12T14:19:35",
          "2025-01-12T22:52:52",
          "2025-01-14T16:40:55",
          "2025-01-14T16:41:27",
          "2025-01-14T16:47:33",
          "2025-01-14T16:47:45",
          "2025-01-14T17:03:48",
          "2025-01-14T17:05:55",
          "2025-01-14T17:06:58",
          "2025-01-14T17:11:15",
          "2025-01-14T17:12:26",
          "2025-01-14T17:22:14",
          "2025-01-14T17:22:55",
          "2025-01-14T20:46:42",
          "2025-01-15T10:55:20",
          "2025-01-15T10:55:34",
          "2025-01-15T16:33:31",
          "2025-01-15T16:33:34",
          "2025-01-15T17:05:51",
          "2025-01-15T22:16:15",
          "2025-01-15T22:16:19",
          "2025-01-15T22:16:22",
          "2025-01-15T22:16:47",
          "2025-01-15T22:16:49",
          "2025-01-15T22:16:55",
          "2025-01-15T22:55:30",
          "2025-01-15T22:55:56",
          "2025-01-15T22:56:31",
          "2025-01-15T23:02:05",
          "2025-01-16T18:07:59",
          "2025-01-16T20:52:39",
          "2025-01-16T22:42:23",
          "2025-01-17T08:21:59",
          "2025-01-17T10:21:56",
          "2025-01-17T10:22:10",
          "2025-01-18T16:22:22",
          "2025-01-18T16:22:42",
          "2025-01-18T16:24:25",
          "2025-01-18T16:24:29",
          "2025-01-18T23:44:32",
          "2025-01-18T23:44:43",
          "2025-01-19T00:32:26",
          "2025-01-19T02:04:13",
          "2025-01-20T17:44:48",
          "2025-01-20T17:45:07",
          "2025-01-20T17:50:08",
          "2025-01-21T12:04:06",
          "2025-01-21T12:14:30",
          "2025-01-21T12:14:38",
          "2025-01-21T14:25:34",
          "2025-01-21T14:26:29",
          "2025-01-21T14:26:39",
          "2025-01-21T16:55:27",
          "2025-01-23T11:26:52",
          "2025-01-23T16:25:09",
          "2025-01-23T16:25:49",
          "2025-01-24T11:00:15",
          "2025-01-25T13:31:35",
          "2025-01-25T16:08:24",
          "2025-01-26T14:46:39",
          "2025-01-26T14:46:50",
          "2025-01-27T14:51:19",
          "2025-01-27T21:40:03",
          "2025-01-27T21:43:28",
          "2025-01-27T21:43:48",
          "2025-01-27T21:46:12",
          "2025-01-27T21:46:33",
          "2025-01-27T21:48:08",
          "2025-01-27T22:17:56",
          "2025-01-28T10:39:03",
          "2025-01-28T10:40:29",
          "2025-01-28T10:41:01",
          "2025-01-28T11:07:27",
          "2025-01-28T15:37:03",
          "2025-01-28T15:42:18",
          "2025-01-28T15:45:28",
          "2025-01-28T15:46:25",
          "2025-01-28T16:06:36",
          "2025-01-28T20:28:36",
          "2025-01-28T20:33:08",
          "2025-01-28T20:34:04",
          "2025-01-30T19:01:22",
          "2025-01-30T23:28:59",
          "2025-01-31T13:33:29",
          "2025-01-31T20:29:32",
          "2025-01-31T20:29:52",
          "2025-01-31T20:32:10",
          "2025-01-31T20:47:50"
         ],
         "xaxis": "x",
         "y": [
          1,
          4,
          1,
          7,
          11,
          9,
          1,
          1,
          2,
          8,
          9,
          9,
          1,
          21,
          13,
          1,
          13,
          3,
          1,
          7,
          7,
          9,
          3,
          21,
          16,
          3,
          2,
          3,
          5,
          14,
          4,
          8,
          5,
          4,
          2,
          23,
          14,
          16,
          9,
          10,
          7,
          41,
          9,
          9,
          6,
          3,
          6,
          12,
          5,
          10,
          1,
          1,
          2,
          1,
          5,
          2,
          2,
          4,
          3,
          6,
          11,
          1,
          12,
          10,
          7,
          5,
          1,
          5,
          9,
          3,
          1,
          8,
          7,
          5,
          1,
          22,
          25,
          5,
          2,
          9,
          16,
          1,
          2,
          13,
          5,
          4,
          1,
          1,
          1,
          4,
          1,
          1,
          2,
          4,
          11,
          1,
          37,
          5,
          1,
          11,
          2,
          15,
          1,
          8,
          8,
          3,
          6,
          4,
          18,
          9,
          9,
          35,
          5,
          27,
          4,
          1,
          3,
          1,
          3,
          1,
          2
         ],
         "yaxis": "y"
        }
       ],
       "layout": {
        "legend": {
         "title": {
          "text": "sender"
         },
         "tracegroupgap": 0
        },
        "margin": {
         "t": 60
        },
        "template": {
         "data": {
          "bar": [
           {
            "error_x": {
             "color": "#2a3f5f"
            },
            "error_y": {
             "color": "#2a3f5f"
            },
            "marker": {
             "line": {
              "color": "#E5ECF6",
              "width": 0.5
             },
             "pattern": {
              "fillmode": "overlay",
              "size": 10,
              "solidity": 0.2
             }
            },
            "type": "bar"
           }
          ],
          "barpolar": [
           {
            "marker": {
             "line": {
              "color": "#E5ECF6",
              "width": 0.5
             },
             "pattern": {
              "fillmode": "overlay",
              "size": 10,
              "solidity": 0.2
             }
            },
            "type": "barpolar"
           }
          ],
          "carpet": [
           {
            "aaxis": {
             "endlinecolor": "#2a3f5f",
             "gridcolor": "white",
             "linecolor": "white",
             "minorgridcolor": "white",
             "startlinecolor": "#2a3f5f"
            },
            "baxis": {
             "endlinecolor": "#2a3f5f",
             "gridcolor": "white",
             "linecolor": "white",
             "minorgridcolor": "white",
             "startlinecolor": "#2a3f5f"
            },
            "type": "carpet"
           }
          ],
          "choropleth": [
           {
            "colorbar": {
             "outlinewidth": 0,
             "ticks": ""
            },
            "type": "choropleth"
           }
          ],
          "contour": [
           {
            "colorbar": {
             "outlinewidth": 0,
             "ticks": ""
            },
            "colorscale": [
             [
              0,
              "#0d0887"
             ],
             [
              0.1111111111111111,
              "#46039f"
             ],
             [
              0.2222222222222222,
              "#7201a8"
             ],
             [
              0.3333333333333333,
              "#9c179e"
             ],
             [
              0.4444444444444444,
              "#bd3786"
             ],
             [
              0.5555555555555556,
              "#d8576b"
             ],
             [
              0.6666666666666666,
              "#ed7953"
             ],
             [
              0.7777777777777778,
              "#fb9f3a"
             ],
             [
              0.8888888888888888,
              "#fdca26"
             ],
             [
              1,
              "#f0f921"
             ]
            ],
            "type": "contour"
           }
          ],
          "contourcarpet": [
           {
            "colorbar": {
             "outlinewidth": 0,
             "ticks": ""
            },
            "type": "contourcarpet"
           }
          ],
          "heatmap": [
           {
            "colorbar": {
             "outlinewidth": 0,
             "ticks": ""
            },
            "colorscale": [
             [
              0,
              "#0d0887"
             ],
             [
              0.1111111111111111,
              "#46039f"
             ],
             [
              0.2222222222222222,
              "#7201a8"
             ],
             [
              0.3333333333333333,
              "#9c179e"
             ],
             [
              0.4444444444444444,
              "#bd3786"
             ],
             [
              0.5555555555555556,
              "#d8576b"
             ],
             [
              0.6666666666666666,
              "#ed7953"
             ],
             [
              0.7777777777777778,
              "#fb9f3a"
             ],
             [
              0.8888888888888888,
              "#fdca26"
             ],
             [
              1,
              "#f0f921"
             ]
            ],
            "type": "heatmap"
           }
          ],
          "heatmapgl": [
           {
            "colorbar": {
             "outlinewidth": 0,
             "ticks": ""
            },
            "colorscale": [
             [
              0,
              "#0d0887"
             ],
             [
              0.1111111111111111,
              "#46039f"
             ],
             [
              0.2222222222222222,
              "#7201a8"
             ],
             [
              0.3333333333333333,
              "#9c179e"
             ],
             [
              0.4444444444444444,
              "#bd3786"
             ],
             [
              0.5555555555555556,
              "#d8576b"
             ],
             [
              0.6666666666666666,
              "#ed7953"
             ],
             [
              0.7777777777777778,
              "#fb9f3a"
             ],
             [
              0.8888888888888888,
              "#fdca26"
             ],
             [
              1,
              "#f0f921"
             ]
            ],
            "type": "heatmapgl"
           }
          ],
          "histogram": [
           {
            "marker": {
             "pattern": {
              "fillmode": "overlay",
              "size": 10,
              "solidity": 0.2
             }
            },
            "type": "histogram"
           }
          ],
          "histogram2d": [
           {
            "colorbar": {
             "outlinewidth": 0,
             "ticks": ""
            },
            "colorscale": [
             [
              0,
              "#0d0887"
             ],
             [
              0.1111111111111111,
              "#46039f"
             ],
             [
              0.2222222222222222,
              "#7201a8"
             ],
             [
              0.3333333333333333,
              "#9c179e"
             ],
             [
              0.4444444444444444,
              "#bd3786"
             ],
             [
              0.5555555555555556,
              "#d8576b"
             ],
             [
              0.6666666666666666,
              "#ed7953"
             ],
             [
              0.7777777777777778,
              "#fb9f3a"
             ],
             [
              0.8888888888888888,
              "#fdca26"
             ],
             [
              1,
              "#f0f921"
             ]
            ],
            "type": "histogram2d"
           }
          ],
          "histogram2dcontour": [
           {
            "colorbar": {
             "outlinewidth": 0,
             "ticks": ""
            },
            "colorscale": [
             [
              0,
              "#0d0887"
             ],
             [
              0.1111111111111111,
              "#46039f"
             ],
             [
              0.2222222222222222,
              "#7201a8"
             ],
             [
              0.3333333333333333,
              "#9c179e"
             ],
             [
              0.4444444444444444,
              "#bd3786"
             ],
             [
              0.5555555555555556,
              "#d8576b"
             ],
             [
              0.6666666666666666,
              "#ed7953"
             ],
             [
              0.7777777777777778,
              "#fb9f3a"
             ],
             [
              0.8888888888888888,
              "#fdca26"
             ],
             [
              1,
              "#f0f921"
             ]
            ],
            "type": "histogram2dcontour"
           }
          ],
          "mesh3d": [
           {
            "colorbar": {
             "outlinewidth": 0,
             "ticks": ""
            },
            "type": "mesh3d"
           }
          ],
          "parcoords": [
           {
            "line": {
             "colorbar": {
              "outlinewidth": 0,
              "ticks": ""
             }
            },
            "type": "parcoords"
           }
          ],
          "pie": [
           {
            "automargin": true,
            "type": "pie"
           }
          ],
          "scatter": [
           {
            "fillpattern": {
             "fillmode": "overlay",
             "size": 10,
             "solidity": 0.2
            },
            "type": "scatter"
           }
          ],
          "scatter3d": [
           {
            "line": {
             "colorbar": {
              "outlinewidth": 0,
              "ticks": ""
             }
            },
            "marker": {
             "colorbar": {
              "outlinewidth": 0,
              "ticks": ""
             }
            },
            "type": "scatter3d"
           }
          ],
          "scattercarpet": [
           {
            "marker": {
             "colorbar": {
              "outlinewidth": 0,
              "ticks": ""
             }
            },
            "type": "scattercarpet"
           }
          ],
          "scattergeo": [
           {
            "marker": {
             "colorbar": {
              "outlinewidth": 0,
              "ticks": ""
             }
            },
            "type": "scattergeo"
           }
          ],
          "scattergl": [
           {
            "marker": {
             "colorbar": {
              "outlinewidth": 0,
              "ticks": ""
             }
            },
            "type": "scattergl"
           }
          ],
          "scattermapbox": [
           {
            "marker": {
             "colorbar": {
              "outlinewidth": 0,
              "ticks": ""
             }
            },
            "type": "scattermapbox"
           }
          ],
          "scatterpolar": [
           {
            "marker": {
             "colorbar": {
              "outlinewidth": 0,
              "ticks": ""
             }
            },
            "type": "scatterpolar"
           }
          ],
          "scatterpolargl": [
           {
            "marker": {
             "colorbar": {
              "outlinewidth": 0,
              "ticks": ""
             }
            },
            "type": "scatterpolargl"
           }
          ],
          "scatterternary": [
           {
            "marker": {
             "colorbar": {
              "outlinewidth": 0,
              "ticks": ""
             }
            },
            "type": "scatterternary"
           }
          ],
          "surface": [
           {
            "colorbar": {
             "outlinewidth": 0,
             "ticks": ""
            },
            "colorscale": [
             [
              0,
              "#0d0887"
             ],
             [
              0.1111111111111111,
              "#46039f"
             ],
             [
              0.2222222222222222,
              "#7201a8"
             ],
             [
              0.3333333333333333,
              "#9c179e"
             ],
             [
              0.4444444444444444,
              "#bd3786"
             ],
             [
              0.5555555555555556,
              "#d8576b"
             ],
             [
              0.6666666666666666,
              "#ed7953"
             ],
             [
              0.7777777777777778,
              "#fb9f3a"
             ],
             [
              0.8888888888888888,
              "#fdca26"
             ],
             [
              1,
              "#f0f921"
             ]
            ],
            "type": "surface"
           }
          ],
          "table": [
           {
            "cells": {
             "fill": {
              "color": "#EBF0F8"
             },
             "line": {
              "color": "white"
             }
            },
            "header": {
             "fill": {
              "color": "#C8D4E3"
             },
             "line": {
              "color": "white"
             }
            },
            "type": "table"
           }
          ]
         },
         "layout": {
          "annotationdefaults": {
           "arrowcolor": "#2a3f5f",
           "arrowhead": 0,
           "arrowwidth": 1
          },
          "autotypenumbers": "strict",
          "coloraxis": {
           "colorbar": {
            "outlinewidth": 0,
            "ticks": ""
           }
          },
          "colorscale": {
           "diverging": [
            [
             0,
             "#8e0152"
            ],
            [
             0.1,
             "#c51b7d"
            ],
            [
             0.2,
             "#de77ae"
            ],
            [
             0.3,
             "#f1b6da"
            ],
            [
             0.4,
             "#fde0ef"
            ],
            [
             0.5,
             "#f7f7f7"
            ],
            [
             0.6,
             "#e6f5d0"
            ],
            [
             0.7,
             "#b8e186"
            ],
            [
             0.8,
             "#7fbc41"
            ],
            [
             0.9,
             "#4d9221"
            ],
            [
             1,
             "#276419"
            ]
           ],
           "sequential": [
            [
             0,
             "#0d0887"
            ],
            [
             0.1111111111111111,
             "#46039f"
            ],
            [
             0.2222222222222222,
             "#7201a8"
            ],
            [
             0.3333333333333333,
             "#9c179e"
            ],
            [
             0.4444444444444444,
             "#bd3786"
            ],
            [
             0.5555555555555556,
             "#d8576b"
            ],
            [
             0.6666666666666666,
             "#ed7953"
            ],
            [
             0.7777777777777778,
             "#fb9f3a"
            ],
            [
             0.8888888888888888,
             "#fdca26"
            ],
            [
             1,
             "#f0f921"
            ]
           ],
           "sequentialminus": [
            [
             0,
             "#0d0887"
            ],
            [
             0.1111111111111111,
             "#46039f"
            ],
            [
             0.2222222222222222,
             "#7201a8"
            ],
            [
             0.3333333333333333,
             "#9c179e"
            ],
            [
             0.4444444444444444,
             "#bd3786"
            ],
            [
             0.5555555555555556,
             "#d8576b"
            ],
            [
             0.6666666666666666,
             "#ed7953"
            ],
            [
             0.7777777777777778,
             "#fb9f3a"
            ],
            [
             0.8888888888888888,
             "#fdca26"
            ],
            [
             1,
             "#f0f921"
            ]
           ]
          },
          "colorway": [
           "#636efa",
           "#EF553B",
           "#00cc96",
           "#ab63fa",
           "#FFA15A",
           "#19d3f3",
           "#FF6692",
           "#B6E880",
           "#FF97FF",
           "#FECB52"
          ],
          "font": {
           "color": "#2a3f5f"
          },
          "geo": {
           "bgcolor": "white",
           "lakecolor": "white",
           "landcolor": "#E5ECF6",
           "showlakes": true,
           "showland": true,
           "subunitcolor": "white"
          },
          "hoverlabel": {
           "align": "left"
          },
          "hovermode": "closest",
          "mapbox": {
           "style": "light"
          },
          "paper_bgcolor": "white",
          "plot_bgcolor": "#E5ECF6",
          "polar": {
           "angularaxis": {
            "gridcolor": "white",
            "linecolor": "white",
            "ticks": ""
           },
           "bgcolor": "#E5ECF6",
           "radialaxis": {
            "gridcolor": "white",
            "linecolor": "white",
            "ticks": ""
           }
          },
          "scene": {
           "xaxis": {
            "backgroundcolor": "#E5ECF6",
            "gridcolor": "white",
            "gridwidth": 2,
            "linecolor": "white",
            "showbackground": true,
            "ticks": "",
            "zerolinecolor": "white"
           },
           "yaxis": {
            "backgroundcolor": "#E5ECF6",
            "gridcolor": "white",
            "gridwidth": 2,
            "linecolor": "white",
            "showbackground": true,
            "ticks": "",
            "zerolinecolor": "white"
           },
           "zaxis": {
            "backgroundcolor": "#E5ECF6",
            "gridcolor": "white",
            "gridwidth": 2,
            "linecolor": "white",
            "showbackground": true,
            "ticks": "",
            "zerolinecolor": "white"
           }
          },
          "shapedefaults": {
           "line": {
            "color": "#2a3f5f"
           }
          },
          "ternary": {
           "aaxis": {
            "gridcolor": "white",
            "linecolor": "white",
            "ticks": ""
           },
           "baxis": {
            "gridcolor": "white",
            "linecolor": "white",
            "ticks": ""
           },
           "bgcolor": "#E5ECF6",
           "caxis": {
            "gridcolor": "white",
            "linecolor": "white",
            "ticks": ""
           }
          },
          "title": {
           "x": 0.05
          },
          "xaxis": {
           "automargin": true,
           "gridcolor": "white",
           "linecolor": "white",
           "ticks": "",
           "title": {
            "standoff": 15
           },
           "zerolinecolor": "white",
           "zerolinewidth": 2
          },
          "yaxis": {
           "automargin": true,
           "gridcolor": "white",
           "linecolor": "white",
           "ticks": "",
           "title": {
            "standoff": 15
           },
           "zerolinecolor": "white",
           "zerolinewidth": 2
          }
         }
        },
        "xaxis": {
         "anchor": "y",
         "domain": [
          0,
          1
         ],
         "title": {
          "text": "Date"
         }
        },
        "yaxis": {
         "anchor": "x",
         "domain": [
          0,
          1
         ],
         "title": {
          "text": "Word Count"
         }
        }
       }
      }
     },
     "metadata": {},
     "output_type": "display_data"
    }
   ],
   "source": [
    "px.line(\n",
    "  df[(df.sender == 'Ryan 1') | (df.sender == 'Greg')], x=df[(df.sender == 'Ryan 1') | (df.sender == 'Greg')].index, y='word_count', color='sender',\n",
    "  labels={'word_count' : 'Word Count', 'x' : 'Date'}\n",
    ")"
   ]
  },
  {
   "cell_type": "code",
   "execution_count": null,
   "metadata": {},
   "outputs": [],
   "source": []
  }
 ],
 "metadata": {
  "kernelspec": {
   "display_name": "data_analysis",
   "language": "python",
   "name": "python3"
  },
  "language_info": {
   "codemirror_mode": {
    "name": "ipython",
    "version": 3
   },
   "file_extension": ".py",
   "mimetype": "text/x-python",
   "name": "python",
   "nbconvert_exporter": "python",
   "pygments_lexer": "ipython3",
   "version": "3.9.11"
  },
  "orig_nbformat": 4
 },
 "nbformat": 4,
 "nbformat_minor": 2
}
